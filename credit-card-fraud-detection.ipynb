{
 "cells": [
  {
   "cell_type": "markdown",
   "id": "4210d37e",
   "metadata": {
    "papermill": {
     "duration": 0.008626,
     "end_time": "2023-10-09T07:49:22.558779",
     "exception": false,
     "start_time": "2023-10-09T07:49:22.550153",
     "status": "completed"
    },
    "tags": []
   },
   "source": [
    "## For this problem our main aim will be to develop models starting from logistic regression and get te best model with high recall and precision values. And from the best model we trained we will see which feature is showing high importance. We have used cross validation and ROC-AUC curve to see model performance."
   ]
  },
  {
   "cell_type": "code",
   "execution_count": 1,
   "id": "bb86fc04",
   "metadata": {
    "_cell_guid": "b1076dfc-b9ad-4769-8c92-a6c4dae69d19",
    "_uuid": "8f2839f25d086af736a60e9eeb907d3b93b6e0e5",
    "execution": {
     "iopub.execute_input": "2023-10-09T07:49:22.576945Z",
     "iopub.status.busy": "2023-10-09T07:49:22.576073Z",
     "iopub.status.idle": "2023-10-09T07:49:22.944174Z",
     "shell.execute_reply": "2023-10-09T07:49:22.943141Z"
    },
    "papermill": {
     "duration": 0.379791,
     "end_time": "2023-10-09T07:49:22.946716",
     "exception": false,
     "start_time": "2023-10-09T07:49:22.566925",
     "status": "completed"
    },
    "tags": []
   },
   "outputs": [
    {
     "name": "stdout",
     "output_type": "stream",
     "text": [
      "/kaggle/input/creditcardfraud/creditcard.csv\n"
     ]
    }
   ],
   "source": [
    "# This Python 3 environment comes with many helpful analytics libraries installed\n",
    "# It is defined by the kaggle/python Docker image: https://github.com/kaggle/docker-python\n",
    "# For example, here's several helpful packages to load\n",
    "\n",
    "import numpy as np # linear algebra\n",
    "import pandas as pd # data processing, CSV file I/O (e.g. pd.read_csv)\n",
    "\n",
    "# Input data files are available in the read-only \"../input/\" directory\n",
    "# For example, running this (by clicking run or pressing Shift+Enter) will list all files under the input directory\n",
    "\n",
    "import os\n",
    "for dirname, _, filenames in os.walk('/kaggle/input'):\n",
    "    for filename in filenames:\n",
    "        print(os.path.join(dirname, filename))\n",
    "\n",
    "# You can write up to 20GB to the current directory (/kaggle/working/) that gets preserved as output when you create a version using \"Save & Run All\" \n",
    "# You can also write temporary files to /kaggle/temp/, but they won't be saved outside of the current session"
   ]
  },
  {
   "cell_type": "code",
   "execution_count": 2,
   "id": "48f77df8",
   "metadata": {
    "execution": {
     "iopub.execute_input": "2023-10-09T07:49:22.967446Z",
     "iopub.status.busy": "2023-10-09T07:49:22.967004Z",
     "iopub.status.idle": "2023-10-09T07:49:27.426203Z",
     "shell.execute_reply": "2023-10-09T07:49:27.424938Z"
    },
    "papermill": {
     "duration": 4.471208,
     "end_time": "2023-10-09T07:49:27.428674",
     "exception": false,
     "start_time": "2023-10-09T07:49:22.957466",
     "status": "completed"
    },
    "tags": []
   },
   "outputs": [],
   "source": [
    "df=pd.read_csv('/kaggle/input/creditcardfraud/creditcard.csv')"
   ]
  },
  {
   "cell_type": "code",
   "execution_count": 3,
   "id": "a7f91895",
   "metadata": {
    "execution": {
     "iopub.execute_input": "2023-10-09T07:49:27.447416Z",
     "iopub.status.busy": "2023-10-09T07:49:27.447038Z",
     "iopub.status.idle": "2023-10-09T07:49:27.483574Z",
     "shell.execute_reply": "2023-10-09T07:49:27.482297Z"
    },
    "papermill": {
     "duration": 0.048252,
     "end_time": "2023-10-09T07:49:27.485915",
     "exception": false,
     "start_time": "2023-10-09T07:49:27.437663",
     "status": "completed"
    },
    "tags": []
   },
   "outputs": [
    {
     "data": {
      "text/html": [
       "<div>\n",
       "<style scoped>\n",
       "    .dataframe tbody tr th:only-of-type {\n",
       "        vertical-align: middle;\n",
       "    }\n",
       "\n",
       "    .dataframe tbody tr th {\n",
       "        vertical-align: top;\n",
       "    }\n",
       "\n",
       "    .dataframe thead th {\n",
       "        text-align: right;\n",
       "    }\n",
       "</style>\n",
       "<table border=\"1\" class=\"dataframe\">\n",
       "  <thead>\n",
       "    <tr style=\"text-align: right;\">\n",
       "      <th></th>\n",
       "      <th>Time</th>\n",
       "      <th>V1</th>\n",
       "      <th>V2</th>\n",
       "      <th>V3</th>\n",
       "      <th>V4</th>\n",
       "      <th>V5</th>\n",
       "      <th>V6</th>\n",
       "      <th>V7</th>\n",
       "      <th>V8</th>\n",
       "      <th>V9</th>\n",
       "      <th>...</th>\n",
       "      <th>V21</th>\n",
       "      <th>V22</th>\n",
       "      <th>V23</th>\n",
       "      <th>V24</th>\n",
       "      <th>V25</th>\n",
       "      <th>V26</th>\n",
       "      <th>V27</th>\n",
       "      <th>V28</th>\n",
       "      <th>Amount</th>\n",
       "      <th>Class</th>\n",
       "    </tr>\n",
       "  </thead>\n",
       "  <tbody>\n",
       "    <tr>\n",
       "      <th>0</th>\n",
       "      <td>0.0</td>\n",
       "      <td>-1.359807</td>\n",
       "      <td>-0.072781</td>\n",
       "      <td>2.536347</td>\n",
       "      <td>1.378155</td>\n",
       "      <td>-0.338321</td>\n",
       "      <td>0.462388</td>\n",
       "      <td>0.239599</td>\n",
       "      <td>0.098698</td>\n",
       "      <td>0.363787</td>\n",
       "      <td>...</td>\n",
       "      <td>-0.018307</td>\n",
       "      <td>0.277838</td>\n",
       "      <td>-0.110474</td>\n",
       "      <td>0.066928</td>\n",
       "      <td>0.128539</td>\n",
       "      <td>-0.189115</td>\n",
       "      <td>0.133558</td>\n",
       "      <td>-0.021053</td>\n",
       "      <td>149.62</td>\n",
       "      <td>0</td>\n",
       "    </tr>\n",
       "    <tr>\n",
       "      <th>1</th>\n",
       "      <td>0.0</td>\n",
       "      <td>1.191857</td>\n",
       "      <td>0.266151</td>\n",
       "      <td>0.166480</td>\n",
       "      <td>0.448154</td>\n",
       "      <td>0.060018</td>\n",
       "      <td>-0.082361</td>\n",
       "      <td>-0.078803</td>\n",
       "      <td>0.085102</td>\n",
       "      <td>-0.255425</td>\n",
       "      <td>...</td>\n",
       "      <td>-0.225775</td>\n",
       "      <td>-0.638672</td>\n",
       "      <td>0.101288</td>\n",
       "      <td>-0.339846</td>\n",
       "      <td>0.167170</td>\n",
       "      <td>0.125895</td>\n",
       "      <td>-0.008983</td>\n",
       "      <td>0.014724</td>\n",
       "      <td>2.69</td>\n",
       "      <td>0</td>\n",
       "    </tr>\n",
       "    <tr>\n",
       "      <th>2</th>\n",
       "      <td>1.0</td>\n",
       "      <td>-1.358354</td>\n",
       "      <td>-1.340163</td>\n",
       "      <td>1.773209</td>\n",
       "      <td>0.379780</td>\n",
       "      <td>-0.503198</td>\n",
       "      <td>1.800499</td>\n",
       "      <td>0.791461</td>\n",
       "      <td>0.247676</td>\n",
       "      <td>-1.514654</td>\n",
       "      <td>...</td>\n",
       "      <td>0.247998</td>\n",
       "      <td>0.771679</td>\n",
       "      <td>0.909412</td>\n",
       "      <td>-0.689281</td>\n",
       "      <td>-0.327642</td>\n",
       "      <td>-0.139097</td>\n",
       "      <td>-0.055353</td>\n",
       "      <td>-0.059752</td>\n",
       "      <td>378.66</td>\n",
       "      <td>0</td>\n",
       "    </tr>\n",
       "    <tr>\n",
       "      <th>3</th>\n",
       "      <td>1.0</td>\n",
       "      <td>-0.966272</td>\n",
       "      <td>-0.185226</td>\n",
       "      <td>1.792993</td>\n",
       "      <td>-0.863291</td>\n",
       "      <td>-0.010309</td>\n",
       "      <td>1.247203</td>\n",
       "      <td>0.237609</td>\n",
       "      <td>0.377436</td>\n",
       "      <td>-1.387024</td>\n",
       "      <td>...</td>\n",
       "      <td>-0.108300</td>\n",
       "      <td>0.005274</td>\n",
       "      <td>-0.190321</td>\n",
       "      <td>-1.175575</td>\n",
       "      <td>0.647376</td>\n",
       "      <td>-0.221929</td>\n",
       "      <td>0.062723</td>\n",
       "      <td>0.061458</td>\n",
       "      <td>123.50</td>\n",
       "      <td>0</td>\n",
       "    </tr>\n",
       "    <tr>\n",
       "      <th>4</th>\n",
       "      <td>2.0</td>\n",
       "      <td>-1.158233</td>\n",
       "      <td>0.877737</td>\n",
       "      <td>1.548718</td>\n",
       "      <td>0.403034</td>\n",
       "      <td>-0.407193</td>\n",
       "      <td>0.095921</td>\n",
       "      <td>0.592941</td>\n",
       "      <td>-0.270533</td>\n",
       "      <td>0.817739</td>\n",
       "      <td>...</td>\n",
       "      <td>-0.009431</td>\n",
       "      <td>0.798278</td>\n",
       "      <td>-0.137458</td>\n",
       "      <td>0.141267</td>\n",
       "      <td>-0.206010</td>\n",
       "      <td>0.502292</td>\n",
       "      <td>0.219422</td>\n",
       "      <td>0.215153</td>\n",
       "      <td>69.99</td>\n",
       "      <td>0</td>\n",
       "    </tr>\n",
       "  </tbody>\n",
       "</table>\n",
       "<p>5 rows × 31 columns</p>\n",
       "</div>"
      ],
      "text/plain": [
       "   Time        V1        V2        V3        V4        V5        V6        V7  \\\n",
       "0   0.0 -1.359807 -0.072781  2.536347  1.378155 -0.338321  0.462388  0.239599   \n",
       "1   0.0  1.191857  0.266151  0.166480  0.448154  0.060018 -0.082361 -0.078803   \n",
       "2   1.0 -1.358354 -1.340163  1.773209  0.379780 -0.503198  1.800499  0.791461   \n",
       "3   1.0 -0.966272 -0.185226  1.792993 -0.863291 -0.010309  1.247203  0.237609   \n",
       "4   2.0 -1.158233  0.877737  1.548718  0.403034 -0.407193  0.095921  0.592941   \n",
       "\n",
       "         V8        V9  ...       V21       V22       V23       V24       V25  \\\n",
       "0  0.098698  0.363787  ... -0.018307  0.277838 -0.110474  0.066928  0.128539   \n",
       "1  0.085102 -0.255425  ... -0.225775 -0.638672  0.101288 -0.339846  0.167170   \n",
       "2  0.247676 -1.514654  ...  0.247998  0.771679  0.909412 -0.689281 -0.327642   \n",
       "3  0.377436 -1.387024  ... -0.108300  0.005274 -0.190321 -1.175575  0.647376   \n",
       "4 -0.270533  0.817739  ... -0.009431  0.798278 -0.137458  0.141267 -0.206010   \n",
       "\n",
       "        V26       V27       V28  Amount  Class  \n",
       "0 -0.189115  0.133558 -0.021053  149.62      0  \n",
       "1  0.125895 -0.008983  0.014724    2.69      0  \n",
       "2 -0.139097 -0.055353 -0.059752  378.66      0  \n",
       "3 -0.221929  0.062723  0.061458  123.50      0  \n",
       "4  0.502292  0.219422  0.215153   69.99      0  \n",
       "\n",
       "[5 rows x 31 columns]"
      ]
     },
     "execution_count": 3,
     "metadata": {},
     "output_type": "execute_result"
    }
   ],
   "source": [
    "df.head()"
   ]
  },
  {
   "cell_type": "code",
   "execution_count": 4,
   "id": "c62f62ff",
   "metadata": {
    "execution": {
     "iopub.execute_input": "2023-10-09T07:49:27.505681Z",
     "iopub.status.busy": "2023-10-09T07:49:27.504460Z",
     "iopub.status.idle": "2023-10-09T07:49:27.547607Z",
     "shell.execute_reply": "2023-10-09T07:49:27.546489Z"
    },
    "papermill": {
     "duration": 0.055641,
     "end_time": "2023-10-09T07:49:27.550399",
     "exception": false,
     "start_time": "2023-10-09T07:49:27.494758",
     "status": "completed"
    },
    "tags": []
   },
   "outputs": [
    {
     "name": "stdout",
     "output_type": "stream",
     "text": [
      "<class 'pandas.core.frame.DataFrame'>\n",
      "RangeIndex: 284807 entries, 0 to 284806\n",
      "Data columns (total 31 columns):\n",
      " #   Column  Non-Null Count   Dtype  \n",
      "---  ------  --------------   -----  \n",
      " 0   Time    284807 non-null  float64\n",
      " 1   V1      284807 non-null  float64\n",
      " 2   V2      284807 non-null  float64\n",
      " 3   V3      284807 non-null  float64\n",
      " 4   V4      284807 non-null  float64\n",
      " 5   V5      284807 non-null  float64\n",
      " 6   V6      284807 non-null  float64\n",
      " 7   V7      284807 non-null  float64\n",
      " 8   V8      284807 non-null  float64\n",
      " 9   V9      284807 non-null  float64\n",
      " 10  V10     284807 non-null  float64\n",
      " 11  V11     284807 non-null  float64\n",
      " 12  V12     284807 non-null  float64\n",
      " 13  V13     284807 non-null  float64\n",
      " 14  V14     284807 non-null  float64\n",
      " 15  V15     284807 non-null  float64\n",
      " 16  V16     284807 non-null  float64\n",
      " 17  V17     284807 non-null  float64\n",
      " 18  V18     284807 non-null  float64\n",
      " 19  V19     284807 non-null  float64\n",
      " 20  V20     284807 non-null  float64\n",
      " 21  V21     284807 non-null  float64\n",
      " 22  V22     284807 non-null  float64\n",
      " 23  V23     284807 non-null  float64\n",
      " 24  V24     284807 non-null  float64\n",
      " 25  V25     284807 non-null  float64\n",
      " 26  V26     284807 non-null  float64\n",
      " 27  V27     284807 non-null  float64\n",
      " 28  V28     284807 non-null  float64\n",
      " 29  Amount  284807 non-null  float64\n",
      " 30  Class   284807 non-null  int64  \n",
      "dtypes: float64(30), int64(1)\n",
      "memory usage: 67.4 MB\n"
     ]
    }
   ],
   "source": [
    "df.info()"
   ]
  },
  {
   "cell_type": "code",
   "execution_count": 5,
   "id": "b8568abe",
   "metadata": {
    "execution": {
     "iopub.execute_input": "2023-10-09T07:49:27.570461Z",
     "iopub.status.busy": "2023-10-09T07:49:27.570142Z",
     "iopub.status.idle": "2023-10-09T07:49:28.502495Z",
     "shell.execute_reply": "2023-10-09T07:49:28.501653Z"
    },
    "papermill": {
     "duration": 0.945362,
     "end_time": "2023-10-09T07:49:28.504666",
     "exception": false,
     "start_time": "2023-10-09T07:49:27.559304",
     "status": "completed"
    },
    "tags": []
   },
   "outputs": [
    {
     "data": {
      "text/plain": [
       "1081"
      ]
     },
     "execution_count": 5,
     "metadata": {},
     "output_type": "execute_result"
    }
   ],
   "source": [
    "dups=df.duplicated()\n",
    "dups.sum()"
   ]
  },
  {
   "cell_type": "code",
   "execution_count": 6,
   "id": "f6417a60",
   "metadata": {
    "execution": {
     "iopub.execute_input": "2023-10-09T07:49:28.524382Z",
     "iopub.status.busy": "2023-10-09T07:49:28.524069Z",
     "iopub.status.idle": "2023-10-09T07:49:32.400687Z",
     "shell.execute_reply": "2023-10-09T07:49:32.399637Z"
    },
    "papermill": {
     "duration": 3.890485,
     "end_time": "2023-10-09T07:49:32.403889",
     "exception": false,
     "start_time": "2023-10-09T07:49:28.513404",
     "status": "completed"
    },
    "tags": []
   },
   "outputs": [
    {
     "data": {
      "text/plain": [
       "<Axes: >"
      ]
     },
     "execution_count": 6,
     "metadata": {},
     "output_type": "execute_result"
    },
    {
     "data": {
      "image/png": "[encoded data removed]",
      "text/plain": [
       "<Figure size 2000x1000 with 2 Axes>"
      ]
     },
     "metadata": {},
     "output_type": "display_data"
    }
   ],
   "source": [
    "import seaborn as sns\n",
    "import matplotlib.pyplot as plt\n",
    "corr=df.corr()\n",
    "matrix=np.triu(corr)\n",
    "plt.figure(figsize=(20,10))\n",
    "sns.heatmap(corr,annot=True,fmt='.2f',mask=matrix)"
   ]
  },
  {
   "cell_type": "code",
   "execution_count": 7,
   "id": "74c50ce1",
   "metadata": {
    "execution": {
     "iopub.execute_input": "2023-10-09T07:49:32.428389Z",
     "iopub.status.busy": "2023-10-09T07:49:32.427863Z",
     "iopub.status.idle": "2023-10-09T07:49:33.340657Z",
     "shell.execute_reply": "2023-10-09T07:49:33.339797Z"
    },
    "papermill": {
     "duration": 0.927524,
     "end_time": "2023-10-09T07:49:33.342753",
     "exception": false,
     "start_time": "2023-10-09T07:49:32.415229",
     "status": "completed"
    },
    "tags": []
   },
   "outputs": [],
   "source": [
    "## Deleting duplicated\n",
    "df.drop_duplicates(inplace=True)"
   ]
  },
  {
   "cell_type": "code",
   "execution_count": 8,
   "id": "75805eb2",
   "metadata": {
    "execution": {
     "iopub.execute_input": "2023-10-09T07:49:33.366818Z",
     "iopub.status.busy": "2023-10-09T07:49:33.366079Z",
     "iopub.status.idle": "2023-10-09T07:49:33.399048Z",
     "shell.execute_reply": "2023-10-09T07:49:33.397537Z"
    },
    "papermill": {
     "duration": 0.047264,
     "end_time": "2023-10-09T07:49:33.401253",
     "exception": false,
     "start_time": "2023-10-09T07:49:33.353989",
     "status": "completed"
    },
    "tags": []
   },
   "outputs": [
    {
     "name": "stdout",
     "output_type": "stream",
     "text": [
      "<class 'pandas.core.frame.DataFrame'>\n",
      "Index: 283726 entries, 0 to 284806\n",
      "Data columns (total 31 columns):\n",
      " #   Column  Non-Null Count   Dtype  \n",
      "---  ------  --------------   -----  \n",
      " 0   Time    283726 non-null  float64\n",
      " 1   V1      283726 non-null  float64\n",
      " 2   V2      283726 non-null  float64\n",
      " 3   V3      283726 non-null  float64\n",
      " 4   V4      283726 non-null  float64\n",
      " 5   V5      283726 non-null  float64\n",
      " 6   V6      283726 non-null  float64\n",
      " 7   V7      283726 non-null  float64\n",
      " 8   V8      283726 non-null  float64\n",
      " 9   V9      283726 non-null  float64\n",
      " 10  V10     283726 non-null  float64\n",
      " 11  V11     283726 non-null  float64\n",
      " 12  V12     283726 non-null  float64\n",
      " 13  V13     283726 non-null  float64\n",
      " 14  V14     283726 non-null  float64\n",
      " 15  V15     283726 non-null  float64\n",
      " 16  V16     283726 non-null  float64\n",
      " 17  V17     283726 non-null  float64\n",
      " 18  V18     283726 non-null  float64\n",
      " 19  V19     283726 non-null  float64\n",
      " 20  V20     283726 non-null  float64\n",
      " 21  V21     283726 non-null  float64\n",
      " 22  V22     283726 non-null  float64\n",
      " 23  V23     283726 non-null  float64\n",
      " 24  V24     283726 non-null  float64\n",
      " 25  V25     283726 non-null  float64\n",
      " 26  V26     283726 non-null  float64\n",
      " 27  V27     283726 non-null  float64\n",
      " 28  V28     283726 non-null  float64\n",
      " 29  Amount  283726 non-null  float64\n",
      " 30  Class   283726 non-null  int64  \n",
      "dtypes: float64(30), int64(1)\n",
      "memory usage: 69.3 MB\n"
     ]
    }
   ],
   "source": [
    "df.info()"
   ]
  },
  {
   "cell_type": "code",
   "execution_count": 9,
   "id": "91ffcab8",
   "metadata": {
    "execution": {
     "iopub.execute_input": "2023-10-09T07:49:33.425216Z",
     "iopub.status.busy": "2023-10-09T07:49:33.424869Z",
     "iopub.status.idle": "2023-10-09T07:49:34.332522Z",
     "shell.execute_reply": "2023-10-09T07:49:34.331064Z"
    },
    "papermill": {
     "duration": 0.922632,
     "end_time": "2023-10-09T07:49:34.334980",
     "exception": false,
     "start_time": "2023-10-09T07:49:33.412348",
     "status": "completed"
    },
    "tags": []
   },
   "outputs": [
    {
     "data": {
      "text/plain": [
       "0"
      ]
     },
     "execution_count": 9,
     "metadata": {},
     "output_type": "execute_result"
    }
   ],
   "source": [
    "dups=df.duplicated()\n",
    "dups.sum()"
   ]
  },
  {
   "cell_type": "code",
   "execution_count": 10,
   "id": "5734cc9f",
   "metadata": {
    "execution": {
     "iopub.execute_input": "2023-10-09T07:49:34.359619Z",
     "iopub.status.busy": "2023-10-09T07:49:34.359275Z",
     "iopub.status.idle": "2023-10-09T07:49:34.692132Z",
     "shell.execute_reply": "2023-10-09T07:49:34.691140Z"
    },
    "papermill": {
     "duration": 0.347839,
     "end_time": "2023-10-09T07:49:34.694429",
     "exception": false,
     "start_time": "2023-10-09T07:49:34.346590",
     "status": "completed"
    },
    "tags": []
   },
   "outputs": [],
   "source": [
    "from sklearn.model_selection import train_test_split\n",
    "from sklearn.linear_model import LogisticRegression\n",
    "from sklearn.metrics import confusion_matrix, classification_report"
   ]
  },
  {
   "cell_type": "code",
   "execution_count": 11,
   "id": "67f074e3",
   "metadata": {
    "execution": {
     "iopub.execute_input": "2023-10-09T07:49:34.719327Z",
     "iopub.status.busy": "2023-10-09T07:49:34.718958Z",
     "iopub.status.idle": "2023-10-09T07:49:34.751575Z",
     "shell.execute_reply": "2023-10-09T07:49:34.750657Z"
    },
    "papermill": {
     "duration": 0.047496,
     "end_time": "2023-10-09T07:49:34.753486",
     "exception": false,
     "start_time": "2023-10-09T07:49:34.705990",
     "status": "completed"
    },
    "tags": []
   },
   "outputs": [],
   "source": [
    "x=df.drop(columns='Class', axis=1)\n",
    "y=df.pop('Class')"
   ]
  },
  {
   "cell_type": "code",
   "execution_count": 12,
   "id": "52bea1eb",
   "metadata": {
    "execution": {
     "iopub.execute_input": "2023-10-09T07:49:34.844984Z",
     "iopub.status.busy": "2023-10-09T07:49:34.843942Z",
     "iopub.status.idle": "2023-10-09T07:49:34.973910Z",
     "shell.execute_reply": "2023-10-09T07:49:34.972990Z"
    },
    "papermill": {
     "duration": 0.21204,
     "end_time": "2023-10-09T07:49:34.976804",
     "exception": false,
     "start_time": "2023-10-09T07:49:34.764764",
     "status": "completed"
    },
    "tags": []
   },
   "outputs": [],
   "source": [
    "x_train,x_test,y_train,y_test=train_test_split(x,y,test_size=0.3,random_state=1)"
   ]
  },
  {
   "cell_type": "code",
   "execution_count": 13,
   "id": "a5c67a09",
   "metadata": {
    "execution": {
     "iopub.execute_input": "2023-10-09T07:49:35.014747Z",
     "iopub.status.busy": "2023-10-09T07:49:35.013792Z",
     "iopub.status.idle": "2023-10-09T07:49:35.019156Z",
     "shell.execute_reply": "2023-10-09T07:49:35.017919Z"
    },
    "papermill": {
     "duration": 0.024409,
     "end_time": "2023-10-09T07:49:35.021537",
     "exception": false,
     "start_time": "2023-10-09T07:49:34.997128",
     "status": "completed"
    },
    "tags": []
   },
   "outputs": [],
   "source": [
    "model=LogisticRegression()"
   ]
  },
  {
   "cell_type": "code",
   "execution_count": 14,
   "id": "92b3b3ea",
   "metadata": {
    "execution": {
     "iopub.execute_input": "2023-10-09T07:49:35.047723Z",
     "iopub.status.busy": "2023-10-09T07:49:35.046839Z",
     "iopub.status.idle": "2023-10-09T07:49:38.854785Z",
     "shell.execute_reply": "2023-10-09T07:49:38.853395Z"
    },
    "papermill": {
     "duration": 3.826632,
     "end_time": "2023-10-09T07:49:38.860267",
     "exception": false,
     "start_time": "2023-10-09T07:49:35.033635",
     "status": "completed"
    },
    "tags": []
   },
   "outputs": [
    {
     "name": "stderr",
     "output_type": "stream",
     "text": [
      "/opt/conda/lib/python3.10/site-packages/sklearn/linear_model/_logistic.py:458: ConvergenceWarning: lbfgs failed to converge (status=1):\n",
      "STOP: TOTAL NO. of ITERATIONS REACHED LIMIT.\n",
      "\n",
      "Increase the number of iterations (max_iter) or scale the data as shown in:\n",
      "    https://scikit-learn.org/stable/modules/preprocessing.html\n",
      "Please also refer to the documentation for alternative solver options:\n",
      "    https://scikit-learn.org/stable/modules/linear_model.html#logistic-regression\n",
      "  n_iter_i = _check_optimize_result(\n"
     ]
    },
    {
     "data": {
      "text/html": [
       "<style>#sk-container-id-1 {color: black;background-color: white;}#sk-container-id-1 pre{padding: 0;}#sk-container-id-1 div.sk-toggleable {background-color: white;}#sk-container-id-1 label.sk-toggleable__label {cursor: pointer;display: block;width: 100%;margin-bottom: 0;padding: 0.3em;box-sizing: border-box;text-align: center;}#sk-container-id-1 label.sk-toggleable__label-arrow:before {content: \"▸\";float: left;margin-right: 0.25em;color: #696969;}#sk-container-id-1 label.sk-toggleable__label-arrow:hover:before {color: black;}#sk-container-id-1 div.sk-estimator:hover label.sk-toggleable__label-arrow:before {color: black;}#sk-container-id-1 div.sk-toggleable__content {max-height: 0;max-width: 0;overflow: hidden;text-align: left;background-color: #f0f8ff;}#sk-container-id-1 div.sk-toggleable__content pre {margin: 0.2em;color: black;border-radius: 0.25em;background-color: #f0f8ff;}#sk-container-id-1 input.sk-toggleable__control:checked~div.sk-toggleable__content {max-height: 200px;max-width: 100%;overflow: auto;}#sk-container-id-1 input.sk-toggleable__control:checked~label.sk-toggleable__label-arrow:before {content: \"▾\";}#sk-container-id-1 div.sk-estimator input.sk-toggleable__control:checked~label.sk-toggleable__label {background-color: #d4ebff;}#sk-container-id-1 div.sk-label input.sk-toggleable__control:checked~label.sk-toggleable__label {background-color: #d4ebff;}#sk-container-id-1 input.sk-hidden--visually {border: 0;clip: rect(1px 1px 1px 1px);clip: rect(1px, 1px, 1px, 1px);height: 1px;margin: -1px;overflow: hidden;padding: 0;position: absolute;width: 1px;}#sk-container-id-1 div.sk-estimator {font-family: monospace;background-color: #f0f8ff;border: 1px dotted black;border-radius: 0.25em;box-sizing: border-box;margin-bottom: 0.5em;}#sk-container-id-1 div.sk-estimator:hover {background-color: #d4ebff;}#sk-container-id-1 div.sk-parallel-item::after {content: \"\";width: 100%;border-bottom: 1px solid gray;flex-grow: 1;}#sk-container-id-1 div.sk-label:hover label.sk-toggleable__label {background-color: #d4ebff;}#sk-container-id-1 div.sk-serial::before {content: \"\";position: absolute;border-left: 1px solid gray;box-sizing: border-box;top: 0;bottom: 0;left: 50%;z-index: 0;}#sk-container-id-1 div.sk-serial {display: flex;flex-direction: column;align-items: center;background-color: white;padding-right: 0.2em;padding-left: 0.2em;position: relative;}#sk-container-id-1 div.sk-item {position: relative;z-index: 1;}#sk-container-id-1 div.sk-parallel {display: flex;align-items: stretch;justify-content: center;background-color: white;position: relative;}#sk-container-id-1 div.sk-item::before, #sk-container-id-1 div.sk-parallel-item::before {content: \"\";position: absolute;border-left: 1px solid gray;box-sizing: border-box;top: 0;bottom: 0;left: 50%;z-index: -1;}#sk-container-id-1 div.sk-parallel-item {display: flex;flex-direction: column;z-index: 1;position: relative;background-color: white;}#sk-container-id-1 div.sk-parallel-item:first-child::after {align-self: flex-end;width: 50%;}#sk-container-id-1 div.sk-parallel-item:last-child::after {align-self: flex-start;width: 50%;}#sk-container-id-1 div.sk-parallel-item:only-child::after {width: 0;}#sk-container-id-1 div.sk-dashed-wrapped {border: 1px dashed gray;margin: 0 0.4em 0.5em 0.4em;box-sizing: border-box;padding-bottom: 0.4em;background-color: white;}#sk-container-id-1 div.sk-label label {font-family: monospace;font-weight: bold;display: inline-block;line-height: 1.2em;}#sk-container-id-1 div.sk-label-container {text-align: center;}#sk-container-id-1 div.sk-container {/* jupyter's `normalize.less` sets `[hidden] { display: none; }` but bootstrap.min.css set `[hidden] { display: none !important; }` so we also need the `!important` here to be able to override the default hidden behavior on the sphinx rendered scikit-learn.org. See: https://github.com/scikit-learn/scikit-learn/issues/21755 */display: inline-block !important;position: relative;}#sk-container-id-1 div.sk-text-repr-fallback {display: none;}</style><div id=\"sk-container-id-1\" class=\"sk-top-container\"><div class=\"sk-text-repr-fallback\"><pre>LogisticRegression()</pre><b>In a Jupyter environment, please rerun this cell to show the HTML representation or trust the notebook. <br />On GitHub, the HTML representation is unable to render, please try loading this page with nbviewer.org.</b></div><div class=\"sk-container\" hidden><div class=\"sk-item\"><div class=\"sk-estimator sk-toggleable\"><input class=\"sk-toggleable__control sk-hidden--visually\" id=\"sk-estimator-id-1\" type=\"checkbox\" checked><label for=\"sk-estimator-id-1\" class=\"sk-toggleable__label sk-toggleable__label-arrow\">LogisticRegression</label><div class=\"sk-toggleable__content\"><pre>LogisticRegression()</pre></div></div></div></div></div>"
      ],
      "text/plain": [
       "LogisticRegression()"
      ]
     },
     "execution_count": 14,
     "metadata": {},
     "output_type": "execute_result"
    }
   ],
   "source": [
    "model.fit(x_train,y_train)"
   ]
  },
  {
   "cell_type": "code",
   "execution_count": 15,
   "id": "18edbaa2",
   "metadata": {
    "execution": {
     "iopub.execute_input": "2023-10-09T07:49:38.931716Z",
     "iopub.status.busy": "2023-10-09T07:49:38.931059Z",
     "iopub.status.idle": "2023-10-09T07:49:39.125970Z",
     "shell.execute_reply": "2023-10-09T07:49:39.125262Z"
    },
    "papermill": {
     "duration": 0.233026,
     "end_time": "2023-10-09T07:49:39.127903",
     "exception": false,
     "start_time": "2023-10-09T07:49:38.894877",
     "status": "completed"
    },
    "tags": []
   },
   "outputs": [
    {
     "name": "stdout",
     "output_type": "stream",
     "text": [
      "Classification Report:Test Data\n",
      "              precision    recall  f1-score   support\n",
      "\n",
      "           0       1.00      1.00      1.00     84993\n",
      "           1       0.69      0.65      0.67       125\n",
      "\n",
      "    accuracy                           1.00     85118\n",
      "   macro avg       0.84      0.82      0.83     85118\n",
      "weighted avg       1.00      1.00      1.00     85118\n",
      "\n"
     ]
    }
   ],
   "source": [
    "y_pred=model.predict(x_test)\n",
    "class_rep = classification_report(y_test, y_pred)\n",
    "print(\"Classification Report:Test Data\")\n",
    "print(class_rep)"
   ]
  },
  {
   "cell_type": "code",
   "execution_count": 16,
   "id": "c4a4ae31",
   "metadata": {
    "execution": {
     "iopub.execute_input": "2023-10-09T07:49:39.152816Z",
     "iopub.status.busy": "2023-10-09T07:49:39.152050Z",
     "iopub.status.idle": "2023-10-09T07:49:39.197401Z",
     "shell.execute_reply": "2023-10-09T07:49:39.196347Z"
    },
    "papermill": {
     "duration": 0.060452,
     "end_time": "2023-10-09T07:49:39.199960",
     "exception": false,
     "start_time": "2023-10-09T07:49:39.139508",
     "status": "completed"
    },
    "tags": []
   },
   "outputs": [
    {
     "data": {
      "text/plain": [
       "Counter({0: 283253, 1: 473})"
      ]
     },
     "execution_count": 16,
     "metadata": {},
     "output_type": "execute_result"
    }
   ],
   "source": [
    "from collections import Counter\n",
    "counter=Counter(y)\n",
    "counter"
   ]
  },
  {
   "cell_type": "code",
   "execution_count": 17,
   "id": "a9f18d46",
   "metadata": {
    "execution": {
     "iopub.execute_input": "2023-10-09T07:49:39.226206Z",
     "iopub.status.busy": "2023-10-09T07:49:39.225211Z",
     "iopub.status.idle": "2023-10-09T07:49:40.371948Z",
     "shell.execute_reply": "2023-10-09T07:49:40.370967Z"
    },
    "papermill": {
     "duration": 1.161955,
     "end_time": "2023-10-09T07:49:40.374174",
     "exception": false,
     "start_time": "2023-10-09T07:49:39.212219",
     "status": "completed"
    },
    "tags": []
   },
   "outputs": [],
   "source": [
    "#### Using SMOTE in order to balance highly ibalance data\n",
    "from imblearn.over_sampling import SMOTE\n",
    "\n",
    "oversample=SMOTE()\n",
    "x1,y1=oversample.fit_resample(x,y)"
   ]
  },
  {
   "cell_type": "code",
   "execution_count": 18,
   "id": "a2737bd4",
   "metadata": {
    "execution": {
     "iopub.execute_input": "2023-10-09T07:49:40.399481Z",
     "iopub.status.busy": "2023-10-09T07:49:40.399002Z",
     "iopub.status.idle": "2023-10-09T07:49:40.478126Z",
     "shell.execute_reply": "2023-10-09T07:49:40.477025Z"
    },
    "papermill": {
     "duration": 0.094646,
     "end_time": "2023-10-09T07:49:40.480791",
     "exception": false,
     "start_time": "2023-10-09T07:49:40.386145",
     "status": "completed"
    },
    "tags": []
   },
   "outputs": [
    {
     "data": {
      "text/plain": [
       "Counter({0: 283253, 1: 283253})"
      ]
     },
     "execution_count": 18,
     "metadata": {},
     "output_type": "execute_result"
    }
   ],
   "source": [
    "from collections import Counter\n",
    "counter=Counter(y1)\n",
    "counter"
   ]
  },
  {
   "cell_type": "code",
   "execution_count": 19,
   "id": "efc83781",
   "metadata": {
    "execution": {
     "iopub.execute_input": "2023-10-09T07:49:40.507606Z",
     "iopub.status.busy": "2023-10-09T07:49:40.507198Z",
     "iopub.status.idle": "2023-10-09T07:49:40.899776Z",
     "shell.execute_reply": "2023-10-09T07:49:40.898940Z"
    },
    "papermill": {
     "duration": 0.407801,
     "end_time": "2023-10-09T07:49:40.902088",
     "exception": false,
     "start_time": "2023-10-09T07:49:40.494287",
     "status": "completed"
    },
    "tags": []
   },
   "outputs": [],
   "source": [
    "x_train,x_test,y_train,y_test=train_test_split(x1,y1,test_size=0.3,random_state=1)"
   ]
  },
  {
   "cell_type": "code",
   "execution_count": 20,
   "id": "9affb597",
   "metadata": {
    "execution": {
     "iopub.execute_input": "2023-10-09T07:49:40.928247Z",
     "iopub.status.busy": "2023-10-09T07:49:40.927545Z",
     "iopub.status.idle": "2023-10-09T07:49:44.049872Z",
     "shell.execute_reply": "2023-10-09T07:49:44.048351Z"
    },
    "papermill": {
     "duration": 3.139886,
     "end_time": "2023-10-09T07:49:44.054243",
     "exception": false,
     "start_time": "2023-10-09T07:49:40.914357",
     "status": "completed"
    },
    "tags": []
   },
   "outputs": [
    {
     "data": {
      "text/html": [
       "<style>#sk-container-id-2 {color: black;background-color: white;}#sk-container-id-2 pre{padding: 0;}#sk-container-id-2 div.sk-toggleable {background-color: white;}#sk-container-id-2 label.sk-toggleable__label {cursor: pointer;display: block;width: 100%;margin-bottom: 0;padding: 0.3em;box-sizing: border-box;text-align: center;}#sk-container-id-2 label.sk-toggleable__label-arrow:before {content: \"▸\";float: left;margin-right: 0.25em;color: #696969;}#sk-container-id-2 label.sk-toggleable__label-arrow:hover:before {color: black;}#sk-container-id-2 div.sk-estimator:hover label.sk-toggleable__label-arrow:before {color: black;}#sk-container-id-2 div.sk-toggleable__content {max-height: 0;max-width: 0;overflow: hidden;text-align: left;background-color: #f0f8ff;}#sk-container-id-2 div.sk-toggleable__content pre {margin: 0.2em;color: black;border-radius: 0.25em;background-color: #f0f8ff;}#sk-container-id-2 input.sk-toggleable__control:checked~div.sk-toggleable__content {max-height: 200px;max-width: 100%;overflow: auto;}#sk-container-id-2 input.sk-toggleable__control:checked~label.sk-toggleable__label-arrow:before {content: \"▾\";}#sk-container-id-2 div.sk-estimator input.sk-toggleable__control:checked~label.sk-toggleable__label {background-color: #d4ebff;}#sk-container-id-2 div.sk-label input.sk-toggleable__control:checked~label.sk-toggleable__label {background-color: #d4ebff;}#sk-container-id-2 input.sk-hidden--visually {border: 0;clip: rect(1px 1px 1px 1px);clip: rect(1px, 1px, 1px, 1px);height: 1px;margin: -1px;overflow: hidden;padding: 0;position: absolute;width: 1px;}#sk-container-id-2 div.sk-estimator {font-family: monospace;background-color: #f0f8ff;border: 1px dotted black;border-radius: 0.25em;box-sizing: border-box;margin-bottom: 0.5em;}#sk-container-id-2 div.sk-estimator:hover {background-color: #d4ebff;}#sk-container-id-2 div.sk-parallel-item::after {content: \"\";width: 100%;border-bottom: 1px solid gray;flex-grow: 1;}#sk-container-id-2 div.sk-label:hover label.sk-toggleable__label {background-color: #d4ebff;}#sk-container-id-2 div.sk-serial::before {content: \"\";position: absolute;border-left: 1px solid gray;box-sizing: border-box;top: 0;bottom: 0;left: 50%;z-index: 0;}#sk-container-id-2 div.sk-serial {display: flex;flex-direction: column;align-items: center;background-color: white;padding-right: 0.2em;padding-left: 0.2em;position: relative;}#sk-container-id-2 div.sk-item {position: relative;z-index: 1;}#sk-container-id-2 div.sk-parallel {display: flex;align-items: stretch;justify-content: center;background-color: white;position: relative;}#sk-container-id-2 div.sk-item::before, #sk-container-id-2 div.sk-parallel-item::before {content: \"\";position: absolute;border-left: 1px solid gray;box-sizing: border-box;top: 0;bottom: 0;left: 50%;z-index: -1;}#sk-container-id-2 div.sk-parallel-item {display: flex;flex-direction: column;z-index: 1;position: relative;background-color: white;}#sk-container-id-2 div.sk-parallel-item:first-child::after {align-self: flex-end;width: 50%;}#sk-container-id-2 div.sk-parallel-item:last-child::after {align-self: flex-start;width: 50%;}#sk-container-id-2 div.sk-parallel-item:only-child::after {width: 0;}#sk-container-id-2 div.sk-dashed-wrapped {border: 1px dashed gray;margin: 0 0.4em 0.5em 0.4em;box-sizing: border-box;padding-bottom: 0.4em;background-color: white;}#sk-container-id-2 div.sk-label label {font-family: monospace;font-weight: bold;display: inline-block;line-height: 1.2em;}#sk-container-id-2 div.sk-label-container {text-align: center;}#sk-container-id-2 div.sk-container {/* jupyter's `normalize.less` sets `[hidden] { display: none; }` but bootstrap.min.css set `[hidden] { display: none !important; }` so we also need the `!important` here to be able to override the default hidden behavior on the sphinx rendered scikit-learn.org. See: https://github.com/scikit-learn/scikit-learn/issues/21755 */display: inline-block !important;position: relative;}#sk-container-id-2 div.sk-text-repr-fallback {display: none;}</style><div id=\"sk-container-id-2\" class=\"sk-top-container\"><div class=\"sk-text-repr-fallback\"><pre>LogisticRegression()</pre><b>In a Jupyter environment, please rerun this cell to show the HTML representation or trust the notebook. <br />On GitHub, the HTML representation is unable to render, please try loading this page with nbviewer.org.</b></div><div class=\"sk-container\" hidden><div class=\"sk-item\"><div class=\"sk-estimator sk-toggleable\"><input class=\"sk-toggleable__control sk-hidden--visually\" id=\"sk-estimator-id-2\" type=\"checkbox\" checked><label for=\"sk-estimator-id-2\" class=\"sk-toggleable__label sk-toggleable__label-arrow\">LogisticRegression</label><div class=\"sk-toggleable__content\"><pre>LogisticRegression()</pre></div></div></div></div></div>"
      ],
      "text/plain": [
       "LogisticRegression()"
      ]
     },
     "execution_count": 20,
     "metadata": {},
     "output_type": "execute_result"
    }
   ],
   "source": [
    "model.fit(x_train,y_train)"
   ]
  },
  {
   "cell_type": "code",
   "execution_count": 21,
   "id": "417e44c1",
   "metadata": {
    "execution": {
     "iopub.execute_input": "2023-10-09T07:49:44.123920Z",
     "iopub.status.busy": "2023-10-09T07:49:44.123085Z",
     "iopub.status.idle": "2023-10-09T07:49:44.553509Z",
     "shell.execute_reply": "2023-10-09T07:49:44.552328Z"
    },
    "papermill": {
     "duration": 0.468385,
     "end_time": "2023-10-09T07:49:44.556134",
     "exception": false,
     "start_time": "2023-10-09T07:49:44.087749",
     "status": "completed"
    },
    "tags": []
   },
   "outputs": [
    {
     "name": "stdout",
     "output_type": "stream",
     "text": [
      "Classification Report:Test Data\n",
      "              precision    recall  f1-score   support\n",
      "\n",
      "           0       0.95      0.97      0.96     84918\n",
      "           1       0.97      0.95      0.96     85034\n",
      "\n",
      "    accuracy                           0.96    169952\n",
      "   macro avg       0.96      0.96      0.96    169952\n",
      "weighted avg       0.96      0.96      0.96    169952\n",
      "\n"
     ]
    }
   ],
   "source": [
    "y_pred=model.predict(x_test)\n",
    "class_rep = classification_report(y_test, y_pred)\n",
    "print(\"Classification Report:Test Data\")\n",
    "print(class_rep)"
   ]
  },
  {
   "cell_type": "code",
   "execution_count": 22,
   "id": "bc2324a4",
   "metadata": {
    "execution": {
     "iopub.execute_input": "2023-10-09T07:49:44.582067Z",
     "iopub.status.busy": "2023-10-09T07:49:44.581718Z",
     "iopub.status.idle": "2023-10-09T07:49:45.485276Z",
     "shell.execute_reply": "2023-10-09T07:49:45.483812Z"
    },
    "papermill": {
     "duration": 0.919025,
     "end_time": "2023-10-09T07:49:45.487393",
     "exception": false,
     "start_time": "2023-10-09T07:49:44.568368",
     "status": "completed"
    },
    "tags": []
   },
   "outputs": [
    {
     "name": "stdout",
     "output_type": "stream",
     "text": [
      "Classification Report:Train Data\n",
      "              precision    recall  f1-score   support\n",
      "\n",
      "           0       0.95      0.97      0.96    198335\n",
      "           1       0.97      0.95      0.96    198219\n",
      "\n",
      "    accuracy                           0.96    396554\n",
      "   macro avg       0.96      0.96      0.96    396554\n",
      "weighted avg       0.96      0.96      0.96    396554\n",
      "\n"
     ]
    }
   ],
   "source": [
    "y_pred_train=model.predict(x_train)\n",
    "class_rep = classification_report(y_train, y_pred_train)\n",
    "print(\"Classification Report:Train Data\")\n",
    "print(class_rep)"
   ]
  },
  {
   "cell_type": "code",
   "execution_count": 23,
   "id": "c05b14d6",
   "metadata": {
    "execution": {
     "iopub.execute_input": "2023-10-09T07:49:45.515624Z",
     "iopub.status.busy": "2023-10-09T07:49:45.514367Z",
     "iopub.status.idle": "2023-10-09T07:49:45.555124Z",
     "shell.execute_reply": "2023-10-09T07:49:45.553956Z"
    },
    "papermill": {
     "duration": 0.057732,
     "end_time": "2023-10-09T07:49:45.557220",
     "exception": false,
     "start_time": "2023-10-09T07:49:45.499488",
     "status": "completed"
    },
    "tags": []
   },
   "outputs": [
    {
     "name": "stdout",
     "output_type": "stream",
     "text": [
      "Confusion Matrix\n",
      " [[82202  2716]\n",
      " [ 4577 80457]]\n"
     ]
    }
   ],
   "source": [
    "cm=confusion_matrix(y_test,y_pred)\n",
    "print('Confusion Matrix\\n',cm)"
   ]
  },
  {
   "cell_type": "code",
   "execution_count": 24,
   "id": "53ce9c34",
   "metadata": {
    "execution": {
     "iopub.execute_input": "2023-10-09T07:49:45.583945Z",
     "iopub.status.busy": "2023-10-09T07:49:45.582995Z",
     "iopub.status.idle": "2023-10-09T07:49:45.864934Z",
     "shell.execute_reply": "2023-10-09T07:49:45.864167Z"
    },
    "papermill": {
     "duration": 0.29769,
     "end_time": "2023-10-09T07:49:45.867267",
     "exception": false,
     "start_time": "2023-10-09T07:49:45.569577",
     "status": "completed"
    },
    "tags": []
   },
   "outputs": [
    {
     "data": {
      "image/png": "[encoded data removed]",
      "text/plain": [
       "<Figure size 800x600 with 1 Axes>"
      ]
     },
     "metadata": {},
     "output_type": "display_data"
    }
   ],
   "source": [
    "from sklearn.metrics import roc_curve, auc\n",
    "\n",
    "fpr, tpr, _ = roc_curve(y_test, y_pred)\n",
    "roc_auc = auc(fpr, tpr)\n",
    "\n",
    "plt.figure(figsize=(8, 6))\n",
    "plt.plot(fpr, tpr, color='darkorange', lw=2, label='ROC curve (AUC = {:.2f})'.format(roc_auc))\n",
    "plt.plot([0, 1], [0, 1], color='navy', lw=2, linestyle='--')\n",
    "plt.xlim([0.0, 1.0])\n",
    "plt.ylim([0.0, 1.05])\n",
    "plt.xlabel('False Positive Rate')\n",
    "plt.ylabel('True Positive Rate')\n",
    "plt.title('Receiver Operating Characteristic (ROC) Curve')\n",
    "plt.legend(loc='lower right')\n",
    "plt.show()"
   ]
  },
  {
   "cell_type": "code",
   "execution_count": 25,
   "id": "e683fddf",
   "metadata": {
    "execution": {
     "iopub.execute_input": "2023-10-09T07:49:45.894914Z",
     "iopub.status.busy": "2023-10-09T07:49:45.894532Z",
     "iopub.status.idle": "2023-10-09T07:50:20.387644Z",
     "shell.execute_reply": "2023-10-09T07:50:20.377616Z"
    },
    "papermill": {
     "duration": 34.540603,
     "end_time": "2023-10-09T07:50:20.421052",
     "exception": false,
     "start_time": "2023-10-09T07:49:45.880449",
     "status": "completed"
    },
    "tags": []
   },
   "outputs": [
    {
     "name": "stderr",
     "output_type": "stream",
     "text": [
      "/opt/conda/lib/python3.10/site-packages/sklearn/linear_model/_logistic.py:458: ConvergenceWarning: lbfgs failed to converge (status=1):\n",
      "STOP: TOTAL NO. of ITERATIONS REACHED LIMIT.\n",
      "\n",
      "Increase the number of iterations (max_iter) or scale the data as shown in:\n",
      "    https://scikit-learn.org/stable/modules/preprocessing.html\n",
      "Please also refer to the documentation for alternative solver options:\n",
      "    https://scikit-learn.org/stable/modules/linear_model.html#logistic-regression\n",
      "  n_iter_i = _check_optimize_result(\n",
      "/opt/conda/lib/python3.10/site-packages/sklearn/linear_model/_logistic.py:458: ConvergenceWarning: lbfgs failed to converge (status=1):\n",
      "STOP: TOTAL NO. of ITERATIONS REACHED LIMIT.\n",
      "\n",
      "Increase the number of iterations (max_iter) or scale the data as shown in:\n",
      "    https://scikit-learn.org/stable/modules/preprocessing.html\n",
      "Please also refer to the documentation for alternative solver options:\n",
      "    https://scikit-learn.org/stable/modules/linear_model.html#logistic-regression\n",
      "  n_iter_i = _check_optimize_result(\n",
      "/opt/conda/lib/python3.10/site-packages/sklearn/linear_model/_logistic.py:458: ConvergenceWarning: lbfgs failed to converge (status=1):\n",
      "STOP: TOTAL NO. of ITERATIONS REACHED LIMIT.\n",
      "\n",
      "Increase the number of iterations (max_iter) or scale the data as shown in:\n",
      "    https://scikit-learn.org/stable/modules/preprocessing.html\n",
      "Please also refer to the documentation for alternative solver options:\n",
      "    https://scikit-learn.org/stable/modules/linear_model.html#logistic-regression\n",
      "  n_iter_i = _check_optimize_result(\n",
      "/opt/conda/lib/python3.10/site-packages/sklearn/linear_model/_logistic.py:458: ConvergenceWarning: lbfgs failed to converge (status=1):\n",
      "STOP: TOTAL NO. of ITERATIONS REACHED LIMIT.\n",
      "\n",
      "Increase the number of iterations (max_iter) or scale the data as shown in:\n",
      "    https://scikit-learn.org/stable/modules/preprocessing.html\n",
      "Please also refer to the documentation for alternative solver options:\n",
      "    https://scikit-learn.org/stable/modules/linear_model.html#logistic-regression\n",
      "  n_iter_i = _check_optimize_result(\n"
     ]
    },
    {
     "name": "stdout",
     "output_type": "stream",
     "text": [
      "Fold 1: Accuracy = 0.97\n",
      "Fold 2: Accuracy = 0.97\n",
      "Fold 3: Accuracy = 0.97\n",
      "Fold 4: Accuracy = 0.97\n",
      "Fold 5: Accuracy = 0.97\n",
      "Mean Accuracy: 0.97\n",
      "Standard Deviation: 0.00\n"
     ]
    }
   ],
   "source": [
    "from sklearn.model_selection import cross_val_score\n",
    "from sklearn.model_selection import KFold\n",
    "\n",
    "num_folds = 5\n",
    "\n",
    "kf = KFold(n_splits=num_folds, shuffle=True, random_state=42)\n",
    "\n",
    "# Perform cross-validation and compute accuracy scores\n",
    "scores = cross_val_score(model, x1, y1, cv=kf, scoring='accuracy')\n",
    "\n",
    "# Print the accuracy scores for each fold\n",
    "for i, score in enumerate(scores, 1):\n",
    "    print(f'Fold {i}: Accuracy = {score:.2f}')\n",
    "\n",
    "# Calculate and print the mean and standard deviation of the accuracy scores\n",
    "mean_accuracy = np.mean(scores)\n",
    "std_accuracy = np.std(scores)\n",
    "print(f'Mean Accuracy: {mean_accuracy:.2f}')\n",
    "print(f'Standard Deviation: {std_accuracy:.2f}')"
   ]
  },
  {
   "cell_type": "code",
   "execution_count": 26,
   "id": "6486d560",
   "metadata": {
    "execution": {
     "iopub.execute_input": "2023-10-09T07:50:20.483747Z",
     "iopub.status.busy": "2023-10-09T07:50:20.483396Z",
     "iopub.status.idle": "2023-10-09T07:50:20.487762Z",
     "shell.execute_reply": "2023-10-09T07:50:20.486657Z"
    },
    "papermill": {
     "duration": 0.031648,
     "end_time": "2023-10-09T07:50:20.489848",
     "exception": false,
     "start_time": "2023-10-09T07:50:20.458200",
     "status": "completed"
    },
    "tags": []
   },
   "outputs": [],
   "source": [
    "from sklearn.tree import DecisionTreeClassifier"
   ]
  },
  {
   "cell_type": "code",
   "execution_count": 27,
   "id": "d212d10a",
   "metadata": {
    "execution": {
     "iopub.execute_input": "2023-10-09T07:50:20.518421Z",
     "iopub.status.busy": "2023-10-09T07:50:20.517713Z",
     "iopub.status.idle": "2023-10-09T07:50:20.522225Z",
     "shell.execute_reply": "2023-10-09T07:50:20.521529Z"
    },
    "papermill": {
     "duration": 0.021095,
     "end_time": "2023-10-09T07:50:20.524207",
     "exception": false,
     "start_time": "2023-10-09T07:50:20.503112",
     "status": "completed"
    },
    "tags": []
   },
   "outputs": [],
   "source": [
    "dtree=DecisionTreeClassifier()"
   ]
  },
  {
   "cell_type": "code",
   "execution_count": 28,
   "id": "fde80792",
   "metadata": {
    "execution": {
     "iopub.execute_input": "2023-10-09T07:50:20.552514Z",
     "iopub.status.busy": "2023-10-09T07:50:20.551824Z",
     "iopub.status.idle": "2023-10-09T07:51:19.088583Z",
     "shell.execute_reply": "2023-10-09T07:51:19.087836Z"
    },
    "papermill": {
     "duration": 58.566531,
     "end_time": "2023-10-09T07:51:19.103891",
     "exception": false,
     "start_time": "2023-10-09T07:50:20.537360",
     "status": "completed"
    },
    "tags": []
   },
   "outputs": [
    {
     "data": {
      "text/html": [
       "<style>#sk-container-id-3 {color: black;background-color: white;}#sk-container-id-3 pre{padding: 0;}#sk-container-id-3 div.sk-toggleable {background-color: white;}#sk-container-id-3 label.sk-toggleable__label {cursor: pointer;display: block;width: 100%;margin-bottom: 0;padding: 0.3em;box-sizing: border-box;text-align: center;}#sk-container-id-3 label.sk-toggleable__label-arrow:before {content: \"▸\";float: left;margin-right: 0.25em;color: #696969;}#sk-container-id-3 label.sk-toggleable__label-arrow:hover:before {color: black;}#sk-container-id-3 div.sk-estimator:hover label.sk-toggleable__label-arrow:before {color: black;}#sk-container-id-3 div.sk-toggleable__content {max-height: 0;max-width: 0;overflow: hidden;text-align: left;background-color: #f0f8ff;}#sk-container-id-3 div.sk-toggleable__content pre {margin: 0.2em;color: black;border-radius: 0.25em;background-color: #f0f8ff;}#sk-container-id-3 input.sk-toggleable__control:checked~div.sk-toggleable__content {max-height: 200px;max-width: 100%;overflow: auto;}#sk-container-id-3 input.sk-toggleable__control:checked~label.sk-toggleable__label-arrow:before {content: \"▾\";}#sk-container-id-3 div.sk-estimator input.sk-toggleable__control:checked~label.sk-toggleable__label {background-color: #d4ebff;}#sk-container-id-3 div.sk-label input.sk-toggleable__control:checked~label.sk-toggleable__label {background-color: #d4ebff;}#sk-container-id-3 input.sk-hidden--visually {border: 0;clip: rect(1px 1px 1px 1px);clip: rect(1px, 1px, 1px, 1px);height: 1px;margin: -1px;overflow: hidden;padding: 0;position: absolute;width: 1px;}#sk-container-id-3 div.sk-estimator {font-family: monospace;background-color: #f0f8ff;border: 1px dotted black;border-radius: 0.25em;box-sizing: border-box;margin-bottom: 0.5em;}#sk-container-id-3 div.sk-estimator:hover {background-color: #d4ebff;}#sk-container-id-3 div.sk-parallel-item::after {content: \"\";width: 100%;border-bottom: 1px solid gray;flex-grow: 1;}#sk-container-id-3 div.sk-label:hover label.sk-toggleable__label {background-color: #d4ebff;}#sk-container-id-3 div.sk-serial::before {content: \"\";position: absolute;border-left: 1px solid gray;box-sizing: border-box;top: 0;bottom: 0;left: 50%;z-index: 0;}#sk-container-id-3 div.sk-serial {display: flex;flex-direction: column;align-items: center;background-color: white;padding-right: 0.2em;padding-left: 0.2em;position: relative;}#sk-container-id-3 div.sk-item {position: relative;z-index: 1;}#sk-container-id-3 div.sk-parallel {display: flex;align-items: stretch;justify-content: center;background-color: white;position: relative;}#sk-container-id-3 div.sk-item::before, #sk-container-id-3 div.sk-parallel-item::before {content: \"\";position: absolute;border-left: 1px solid gray;box-sizing: border-box;top: 0;bottom: 0;left: 50%;z-index: -1;}#sk-container-id-3 div.sk-parallel-item {display: flex;flex-direction: column;z-index: 1;position: relative;background-color: white;}#sk-container-id-3 div.sk-parallel-item:first-child::after {align-self: flex-end;width: 50%;}#sk-container-id-3 div.sk-parallel-item:last-child::after {align-self: flex-start;width: 50%;}#sk-container-id-3 div.sk-parallel-item:only-child::after {width: 0;}#sk-container-id-3 div.sk-dashed-wrapped {border: 1px dashed gray;margin: 0 0.4em 0.5em 0.4em;box-sizing: border-box;padding-bottom: 0.4em;background-color: white;}#sk-container-id-3 div.sk-label label {font-family: monospace;font-weight: bold;display: inline-block;line-height: 1.2em;}#sk-container-id-3 div.sk-label-container {text-align: center;}#sk-container-id-3 div.sk-container {/* jupyter's `normalize.less` sets `[hidden] { display: none; }` but bootstrap.min.css set `[hidden] { display: none !important; }` so we also need the `!important` here to be able to override the default hidden behavior on the sphinx rendered scikit-learn.org. See: https://github.com/scikit-learn/scikit-learn/issues/21755 */display: inline-block !important;position: relative;}#sk-container-id-3 div.sk-text-repr-fallback {display: none;}</style><div id=\"sk-container-id-3\" class=\"sk-top-container\"><div class=\"sk-text-repr-fallback\"><pre>DecisionTreeClassifier()</pre><b>In a Jupyter environment, please rerun this cell to show the HTML representation or trust the notebook. <br />On GitHub, the HTML representation is unable to render, please try loading this page with nbviewer.org.</b></div><div class=\"sk-container\" hidden><div class=\"sk-item\"><div class=\"sk-estimator sk-toggleable\"><input class=\"sk-toggleable__control sk-hidden--visually\" id=\"sk-estimator-id-3\" type=\"checkbox\" checked><label for=\"sk-estimator-id-3\" class=\"sk-toggleable__label sk-toggleable__label-arrow\">DecisionTreeClassifier</label><div class=\"sk-toggleable__content\"><pre>DecisionTreeClassifier()</pre></div></div></div></div></div>"
      ],
      "text/plain": [
       "DecisionTreeClassifier()"
      ]
     },
     "execution_count": 28,
     "metadata": {},
     "output_type": "execute_result"
    }
   ],
   "source": [
    "dtree.fit(x_train,y_train)"
   ]
  },
  {
   "cell_type": "code",
   "execution_count": 29,
   "id": "b329acc1",
   "metadata": {
    "execution": {
     "iopub.execute_input": "2023-10-09T07:51:19.134597Z",
     "iopub.status.busy": "2023-10-09T07:51:19.134161Z",
     "iopub.status.idle": "2023-10-09T07:51:19.507822Z",
     "shell.execute_reply": "2023-10-09T07:51:19.506480Z"
    },
    "papermill": {
     "duration": 0.39178,
     "end_time": "2023-10-09T07:51:19.510005",
     "exception": false,
     "start_time": "2023-10-09T07:51:19.118225",
     "status": "completed"
    },
    "tags": []
   },
   "outputs": [
    {
     "name": "stdout",
     "output_type": "stream",
     "text": [
      "Classification Report:Test Data\n",
      "              precision    recall  f1-score   support\n",
      "\n",
      "           0       1.00      1.00      1.00     84918\n",
      "           1       1.00      1.00      1.00     85034\n",
      "\n",
      "    accuracy                           1.00    169952\n",
      "   macro avg       1.00      1.00      1.00    169952\n",
      "weighted avg       1.00      1.00      1.00    169952\n",
      "\n"
     ]
    }
   ],
   "source": [
    "y_pred=dtree.predict(x_test)\n",
    "class_rep = classification_report(y_test, y_pred)\n",
    "print(\"Classification Report:Test Data\")\n",
    "print(class_rep)"
   ]
  },
  {
   "cell_type": "code",
   "execution_count": 30,
   "id": "80aa6db0",
   "metadata": {
    "execution": {
     "iopub.execute_input": "2023-10-09T07:51:19.545498Z",
     "iopub.status.busy": "2023-10-09T07:51:19.545168Z",
     "iopub.status.idle": "2023-10-09T07:51:20.440260Z",
     "shell.execute_reply": "2023-10-09T07:51:20.439255Z"
    },
    "papermill": {
     "duration": 0.914987,
     "end_time": "2023-10-09T07:51:20.442434",
     "exception": false,
     "start_time": "2023-10-09T07:51:19.527447",
     "status": "completed"
    },
    "tags": []
   },
   "outputs": [
    {
     "name": "stdout",
     "output_type": "stream",
     "text": [
      "Classification Report:Train Data\n",
      "              precision    recall  f1-score   support\n",
      "\n",
      "           0       1.00      1.00      1.00    198335\n",
      "           1       1.00      1.00      1.00    198219\n",
      "\n",
      "    accuracy                           1.00    396554\n",
      "   macro avg       1.00      1.00      1.00    396554\n",
      "weighted avg       1.00      1.00      1.00    396554\n",
      "\n"
     ]
    }
   ],
   "source": [
    "y_pred_train=dtree.predict(x_train)\n",
    "class_rep = classification_report(y_train, y_pred_train)\n",
    "print(\"Classification Report:Train Data\")\n",
    "print(class_rep)"
   ]
  },
  {
   "cell_type": "code",
   "execution_count": 31,
   "id": "0dcc3145",
   "metadata": {
    "execution": {
     "iopub.execute_input": "2023-10-09T07:51:20.472266Z",
     "iopub.status.busy": "2023-10-09T07:51:20.471659Z",
     "iopub.status.idle": "2023-10-09T07:51:20.762808Z",
     "shell.execute_reply": "2023-10-09T07:51:20.761669Z"
    },
    "papermill": {
     "duration": 0.308673,
     "end_time": "2023-10-09T07:51:20.765205",
     "exception": false,
     "start_time": "2023-10-09T07:51:20.456532",
     "status": "completed"
    },
    "tags": []
   },
   "outputs": [
    {
     "data": {
      "image/png": "[encoded data removed]",
      "text/plain": [
       "<Figure size 800x600 with 1 Axes>"
      ]
     },
     "metadata": {},
     "output_type": "display_data"
    }
   ],
   "source": [
    "from sklearn.metrics import roc_curve, auc\n",
    "\n",
    "fpr, tpr, _ = roc_curve(y_test, y_pred)\n",
    "roc_auc = auc(fpr, tpr)\n",
    "\n",
    "plt.figure(figsize=(8, 6))\n",
    "plt.plot(fpr, tpr, color='darkorange', lw=2, label='ROC curve (AUC = {:.2f})'.format(roc_auc))\n",
    "plt.plot([0, 1], [0, 1], color='navy', lw=2, linestyle='--')\n",
    "plt.xlim([0.0, 1.0])\n",
    "plt.ylim([0.0, 1.05])\n",
    "plt.xlabel('False Positive Rate')\n",
    "plt.ylabel('True Positive Rate')\n",
    "plt.title('Receiver Operating Characteristic (ROC) Curve')\n",
    "plt.legend(loc='lower right')\n",
    "plt.show()"
   ]
  },
  {
   "cell_type": "code",
   "execution_count": 32,
   "id": "c8764a3f",
   "metadata": {
    "execution": {
     "iopub.execute_input": "2023-10-09T07:51:20.796902Z",
     "iopub.status.busy": "2023-10-09T07:51:20.796480Z",
     "iopub.status.idle": "2023-10-09T07:56:09.895246Z",
     "shell.execute_reply": "2023-10-09T07:56:09.893955Z"
    },
    "papermill": {
     "duration": 289.132174,
     "end_time": "2023-10-09T07:56:09.912597",
     "exception": false,
     "start_time": "2023-10-09T07:51:20.780423",
     "status": "completed"
    },
    "tags": []
   },
   "outputs": [
    {
     "name": "stdout",
     "output_type": "stream",
     "text": [
      "Fold 1: Accuracy = 1.00\n",
      "Fold 2: Accuracy = 1.00\n",
      "Fold 3: Accuracy = 1.00\n",
      "Fold 4: Accuracy = 1.00\n",
      "Fold 5: Accuracy = 1.00\n",
      "Mean Accuracy: 1.00\n",
      "Standard Deviation: 0.00\n"
     ]
    }
   ],
   "source": [
    "\n",
    "\n",
    "num_folds = 5\n",
    "\n",
    "kf = KFold(n_splits=num_folds, shuffle=True, random_state=42)\n",
    "\n",
    "# Perform cross-validation and compute accuracy scores\n",
    "scores = cross_val_score(dtree, x1, y1, cv=kf, scoring='accuracy')\n",
    "\n",
    "# Print the accuracy scores for each fold\n",
    "for i, score in enumerate(scores, 1):\n",
    "    print(f'Fold {i}: Accuracy = {score:.2f}')\n",
    "\n",
    "# Calculate and print the mean and standard deviation of the accuracy scores\n",
    "mean_accuracy = np.mean(scores)\n",
    "std_accuracy = np.std(scores)\n",
    "print(f'Mean Accuracy: {mean_accuracy:.2f}')\n",
    "print(f'Standard Deviation: {std_accuracy:.2f}')"
   ]
  },
  {
   "cell_type": "code",
   "execution_count": 33,
   "id": "5d8e684d",
   "metadata": {
    "execution": {
     "iopub.execute_input": "2023-10-09T07:56:09.944427Z",
     "iopub.status.busy": "2023-10-09T07:56:09.943822Z",
     "iopub.status.idle": "2023-10-09T07:56:09.948669Z",
     "shell.execute_reply": "2023-10-09T07:56:09.947487Z"
    },
    "papermill": {
     "duration": 0.0234,
     "end_time": "2023-10-09T07:56:09.950731",
     "exception": false,
     "start_time": "2023-10-09T07:56:09.927331",
     "status": "completed"
    },
    "tags": []
   },
   "outputs": [],
   "source": [
    "#overfitting pruning decision tree\n",
    "dtree=DecisionTreeClassifier(max_depth=8)\n"
   ]
  },
  {
   "cell_type": "code",
   "execution_count": 34,
   "id": "70ac84c9",
   "metadata": {
    "execution": {
     "iopub.execute_input": "2023-10-09T07:56:09.981752Z",
     "iopub.status.busy": "2023-10-09T07:56:09.981377Z",
     "iopub.status.idle": "2023-10-09T07:56:29.892237Z",
     "shell.execute_reply": "2023-10-09T07:56:29.891505Z"
    },
    "papermill": {
     "duration": 19.928644,
     "end_time": "2023-10-09T07:56:29.894182",
     "exception": false,
     "start_time": "2023-10-09T07:56:09.965538",
     "status": "completed"
    },
    "tags": []
   },
   "outputs": [
    {
     "data": {
      "text/html": [
       "<style>#sk-container-id-4 {color: black;background-color: white;}#sk-container-id-4 pre{padding: 0;}#sk-container-id-4 div.sk-toggleable {background-color: white;}#sk-container-id-4 label.sk-toggleable__label {cursor: pointer;display: block;width: 100%;margin-bottom: 0;padding: 0.3em;box-sizing: border-box;text-align: center;}#sk-container-id-4 label.sk-toggleable__label-arrow:before {content: \"▸\";float: left;margin-right: 0.25em;color: #696969;}#sk-container-id-4 label.sk-toggleable__label-arrow:hover:before {color: black;}#sk-container-id-4 div.sk-estimator:hover label.sk-toggleable__label-arrow:before {color: black;}#sk-container-id-4 div.sk-toggleable__content {max-height: 0;max-width: 0;overflow: hidden;text-align: left;background-color: #f0f8ff;}#sk-container-id-4 div.sk-toggleable__content pre {margin: 0.2em;color: black;border-radius: 0.25em;background-color: #f0f8ff;}#sk-container-id-4 input.sk-toggleable__control:checked~div.sk-toggleable__content {max-height: 200px;max-width: 100%;overflow: auto;}#sk-container-id-4 input.sk-toggleable__control:checked~label.sk-toggleable__label-arrow:before {content: \"▾\";}#sk-container-id-4 div.sk-estimator input.sk-toggleable__control:checked~label.sk-toggleable__label {background-color: #d4ebff;}#sk-container-id-4 div.sk-label input.sk-toggleable__control:checked~label.sk-toggleable__label {background-color: #d4ebff;}#sk-container-id-4 input.sk-hidden--visually {border: 0;clip: rect(1px 1px 1px 1px);clip: rect(1px, 1px, 1px, 1px);height: 1px;margin: -1px;overflow: hidden;padding: 0;position: absolute;width: 1px;}#sk-container-id-4 div.sk-estimator {font-family: monospace;background-color: #f0f8ff;border: 1px dotted black;border-radius: 0.25em;box-sizing: border-box;margin-bottom: 0.5em;}#sk-container-id-4 div.sk-estimator:hover {background-color: #d4ebff;}#sk-container-id-4 div.sk-parallel-item::after {content: \"\";width: 100%;border-bottom: 1px solid gray;flex-grow: 1;}#sk-container-id-4 div.sk-label:hover label.sk-toggleable__label {background-color: #d4ebff;}#sk-container-id-4 div.sk-serial::before {content: \"\";position: absolute;border-left: 1px solid gray;box-sizing: border-box;top: 0;bottom: 0;left: 50%;z-index: 0;}#sk-container-id-4 div.sk-serial {display: flex;flex-direction: column;align-items: center;background-color: white;padding-right: 0.2em;padding-left: 0.2em;position: relative;}#sk-container-id-4 div.sk-item {position: relative;z-index: 1;}#sk-container-id-4 div.sk-parallel {display: flex;align-items: stretch;justify-content: center;background-color: white;position: relative;}#sk-container-id-4 div.sk-item::before, #sk-container-id-4 div.sk-parallel-item::before {content: \"\";position: absolute;border-left: 1px solid gray;box-sizing: border-box;top: 0;bottom: 0;left: 50%;z-index: -1;}#sk-container-id-4 div.sk-parallel-item {display: flex;flex-direction: column;z-index: 1;position: relative;background-color: white;}#sk-container-id-4 div.sk-parallel-item:first-child::after {align-self: flex-end;width: 50%;}#sk-container-id-4 div.sk-parallel-item:last-child::after {align-self: flex-start;width: 50%;}#sk-container-id-4 div.sk-parallel-item:only-child::after {width: 0;}#sk-container-id-4 div.sk-dashed-wrapped {border: 1px dashed gray;margin: 0 0.4em 0.5em 0.4em;box-sizing: border-box;padding-bottom: 0.4em;background-color: white;}#sk-container-id-4 div.sk-label label {font-family: monospace;font-weight: bold;display: inline-block;line-height: 1.2em;}#sk-container-id-4 div.sk-label-container {text-align: center;}#sk-container-id-4 div.sk-container {/* jupyter's `normalize.less` sets `[hidden] { display: none; }` but bootstrap.min.css set `[hidden] { display: none !important; }` so we also need the `!important` here to be able to override the default hidden behavior on the sphinx rendered scikit-learn.org. See: https://github.com/scikit-learn/scikit-learn/issues/21755 */display: inline-block !important;position: relative;}#sk-container-id-4 div.sk-text-repr-fallback {display: none;}</style><div id=\"sk-container-id-4\" class=\"sk-top-container\"><div class=\"sk-text-repr-fallback\"><pre>DecisionTreeClassifier(max_depth=8)</pre><b>In a Jupyter environment, please rerun this cell to show the HTML representation or trust the notebook. <br />On GitHub, the HTML representation is unable to render, please try loading this page with nbviewer.org.</b></div><div class=\"sk-container\" hidden><div class=\"sk-item\"><div class=\"sk-estimator sk-toggleable\"><input class=\"sk-toggleable__control sk-hidden--visually\" id=\"sk-estimator-id-4\" type=\"checkbox\" checked><label for=\"sk-estimator-id-4\" class=\"sk-toggleable__label sk-toggleable__label-arrow\">DecisionTreeClassifier</label><div class=\"sk-toggleable__content\"><pre>DecisionTreeClassifier(max_depth=8)</pre></div></div></div></div></div>"
      ],
      "text/plain": [
       "DecisionTreeClassifier(max_depth=8)"
      ]
     },
     "execution_count": 34,
     "metadata": {},
     "output_type": "execute_result"
    }
   ],
   "source": [
    "dtree.fit(x_train,y_train)"
   ]
  },
  {
   "cell_type": "code",
   "execution_count": 35,
   "id": "a9d92a53",
   "metadata": {
    "execution": {
     "iopub.execute_input": "2023-10-09T07:56:29.926289Z",
     "iopub.status.busy": "2023-10-09T07:56:29.925339Z",
     "iopub.status.idle": "2023-10-09T07:56:30.282887Z",
     "shell.execute_reply": "2023-10-09T07:56:30.281707Z"
    },
    "papermill": {
     "duration": 0.375815,
     "end_time": "2023-10-09T07:56:30.284893",
     "exception": false,
     "start_time": "2023-10-09T07:56:29.909078",
     "status": "completed"
    },
    "tags": []
   },
   "outputs": [
    {
     "name": "stdout",
     "output_type": "stream",
     "text": [
      "Classification Report:Test Data\n",
      "              precision    recall  f1-score   support\n",
      "\n",
      "           0       0.98      0.99      0.98     84918\n",
      "           1       0.99      0.98      0.98     85034\n",
      "\n",
      "    accuracy                           0.98    169952\n",
      "   macro avg       0.98      0.98      0.98    169952\n",
      "weighted avg       0.98      0.98      0.98    169952\n",
      "\n"
     ]
    }
   ],
   "source": [
    "y_pred=dtree.predict(x_test)\n",
    "class_rep = classification_report(y_test, y_pred)\n",
    "print(\"Classification Report:Test Data\")\n",
    "print(class_rep)"
   ]
  },
  {
   "cell_type": "code",
   "execution_count": 36,
   "id": "2137f53a",
   "metadata": {
    "execution": {
     "iopub.execute_input": "2023-10-09T07:56:30.316812Z",
     "iopub.status.busy": "2023-10-09T07:56:30.315774Z",
     "iopub.status.idle": "2023-10-09T07:56:31.160817Z",
     "shell.execute_reply": "2023-10-09T07:56:31.160085Z"
    },
    "papermill": {
     "duration": 0.863533,
     "end_time": "2023-10-09T07:56:31.163030",
     "exception": false,
     "start_time": "2023-10-09T07:56:30.299497",
     "status": "completed"
    },
    "tags": []
   },
   "outputs": [
    {
     "name": "stdout",
     "output_type": "stream",
     "text": [
      "Classification Report:Train Data\n",
      "              precision    recall  f1-score   support\n",
      "\n",
      "           0       0.98      0.99      0.98    198335\n",
      "           1       0.99      0.98      0.98    198219\n",
      "\n",
      "    accuracy                           0.98    396554\n",
      "   macro avg       0.98      0.98      0.98    396554\n",
      "weighted avg       0.98      0.98      0.98    396554\n",
      "\n"
     ]
    }
   ],
   "source": [
    "y_pred_train=dtree.predict(x_train)\n",
    "class_rep = classification_report(y_train, y_pred_train)\n",
    "print(\"Classification Report:Train Data\")\n",
    "print(class_rep)"
   ]
  },
  {
   "cell_type": "code",
   "execution_count": 37,
   "id": "b20c6d36",
   "metadata": {
    "execution": {
     "iopub.execute_input": "2023-10-09T07:56:31.195600Z",
     "iopub.status.busy": "2023-10-09T07:56:31.194672Z",
     "iopub.status.idle": "2023-10-09T07:58:18.163619Z",
     "shell.execute_reply": "2023-10-09T07:58:18.162419Z"
    },
    "papermill": {
     "duration": 107.002377,
     "end_time": "2023-10-09T07:58:18.180206",
     "exception": false,
     "start_time": "2023-10-09T07:56:31.177829",
     "status": "completed"
    },
    "tags": []
   },
   "outputs": [
    {
     "name": "stdout",
     "output_type": "stream",
     "text": [
      "Fold 1: Accuracy = 0.98\n",
      "Fold 2: Accuracy = 0.98\n",
      "Fold 3: Accuracy = 0.98\n",
      "Fold 4: Accuracy = 0.98\n",
      "Fold 5: Accuracy = 0.98\n",
      "Mean Accuracy: 0.98\n"
     ]
    }
   ],
   "source": [
    "\n",
    "num_folds = 5\n",
    "\n",
    "kf = KFold(n_splits=num_folds, shuffle=True, random_state=42)\n",
    "\n",
    "# Perform cross-validation and compute accuracy scores\n",
    "scores = cross_val_score(dtree, x1, y1, cv=kf, scoring='accuracy')\n",
    "\n",
    "# Print the accuracy scores for each fold\n",
    "for i, score in enumerate(scores, 1):\n",
    "    print(f'Fold {i}: Accuracy = {score:.2f}')\n",
    "\n",
    "# Calculate and print the mean and standard deviation of the accuracy scores\n",
    "mean_accuracy = np.mean(scores)\n",
    "std_accuracy = np.std(scores)\n",
    "print(f'Mean Accuracy: {mean_accuracy:.2f}')"
   ]
  },
  {
   "cell_type": "code",
   "execution_count": 38,
   "id": "925e3617",
   "metadata": {
    "execution": {
     "iopub.execute_input": "2023-10-09T07:58:18.211187Z",
     "iopub.status.busy": "2023-10-09T07:58:18.210791Z",
     "iopub.status.idle": "2023-10-09T07:58:18.489730Z",
     "shell.execute_reply": "2023-10-09T07:58:18.488621Z"
    },
    "papermill": {
     "duration": 0.297085,
     "end_time": "2023-10-09T07:58:18.491852",
     "exception": false,
     "start_time": "2023-10-09T07:58:18.194767",
     "status": "completed"
    },
    "tags": []
   },
   "outputs": [
    {
     "data": {
      "image/png": "[encoded data removed]",
      "text/plain": [
       "<Figure size 800x600 with 1 Axes>"
      ]
     },
     "metadata": {},
     "output_type": "display_data"
    }
   ],
   "source": [
    "from sklearn.metrics import roc_curve, auc\n",
    "\n",
    "fpr, tpr, _ = roc_curve(y_test, y_pred)\n",
    "roc_auc = auc(fpr, tpr)\n",
    "\n",
    "plt.figure(figsize=(8, 6))\n",
    "plt.plot(fpr, tpr, color='darkorange', lw=2, label='ROC curve (AUC = {:.2f})'.format(roc_auc))\n",
    "plt.plot([0, 1], [0, 1], color='navy', lw=2, linestyle='--')\n",
    "plt.xlim([0.0, 1.0])\n",
    "plt.ylim([0.0, 1.05])\n",
    "plt.xlabel('False Positive Rate')\n",
    "plt.ylabel('True Positive Rate')\n",
    "plt.title('Receiver Operating Characteristic (ROC) Curve')\n",
    "plt.legend(loc='lower right')\n",
    "plt.show()"
   ]
  },
  {
   "cell_type": "code",
   "execution_count": 39,
   "id": "8b08cbbb",
   "metadata": {
    "execution": {
     "iopub.execute_input": "2023-10-09T07:58:18.524340Z",
     "iopub.status.busy": "2023-10-09T07:58:18.523992Z",
     "iopub.status.idle": "2023-10-09T07:58:18.531317Z",
     "shell.execute_reply": "2023-10-09T07:58:18.530644Z"
    },
    "papermill": {
     "duration": 0.02574,
     "end_time": "2023-10-09T07:58:18.533092",
     "exception": false,
     "start_time": "2023-10-09T07:58:18.507352",
     "status": "completed"
    },
    "tags": []
   },
   "outputs": [],
   "source": [
    "feature_importances = dtree.feature_importances_\n",
    "\n",
    "# Create a DataFrame for easier visualization (optional but helpful)\n",
    "importance_df = pd.DataFrame({'Feature': x1.columns, 'Importance': feature_importances})\n",
    "\n",
    "# Sort the features by importance score\n",
    "importance_df = importance_df.sort_values(by='Importance', ascending=False)"
   ]
  },
  {
   "cell_type": "code",
   "execution_count": 40,
   "id": "be40155f",
   "metadata": {
    "execution": {
     "iopub.execute_input": "2023-10-09T07:58:18.566100Z",
     "iopub.status.busy": "2023-10-09T07:58:18.565285Z",
     "iopub.status.idle": "2023-10-09T07:58:18.576272Z",
     "shell.execute_reply": "2023-10-09T07:58:18.575593Z"
    },
    "papermill": {
     "duration": 0.029321,
     "end_time": "2023-10-09T07:58:18.578211",
     "exception": false,
     "start_time": "2023-10-09T07:58:18.548890",
     "status": "completed"
    },
    "tags": []
   },
   "outputs": [
    {
     "data": {
      "text/html": [
       "<div>\n",
       "<style scoped>\n",
       "    .dataframe tbody tr th:only-of-type {\n",
       "        vertical-align: middle;\n",
       "    }\n",
       "\n",
       "    .dataframe tbody tr th {\n",
       "        vertical-align: top;\n",
       "    }\n",
       "\n",
       "    .dataframe thead th {\n",
       "        text-align: right;\n",
       "    }\n",
       "</style>\n",
       "<table border=\"1\" class=\"dataframe\">\n",
       "  <thead>\n",
       "    <tr style=\"text-align: right;\">\n",
       "      <th></th>\n",
       "      <th>Feature</th>\n",
       "      <th>Importance</th>\n",
       "    </tr>\n",
       "  </thead>\n",
       "  <tbody>\n",
       "    <tr>\n",
       "      <th>14</th>\n",
       "      <td>V14</td>\n",
       "      <td>0.845512</td>\n",
       "    </tr>\n",
       "    <tr>\n",
       "      <th>4</th>\n",
       "      <td>V4</td>\n",
       "      <td>0.044420</td>\n",
       "    </tr>\n",
       "    <tr>\n",
       "      <th>17</th>\n",
       "      <td>V17</td>\n",
       "      <td>0.032682</td>\n",
       "    </tr>\n",
       "    <tr>\n",
       "      <th>12</th>\n",
       "      <td>V12</td>\n",
       "      <td>0.018738</td>\n",
       "    </tr>\n",
       "    <tr>\n",
       "      <th>3</th>\n",
       "      <td>V3</td>\n",
       "      <td>0.007769</td>\n",
       "    </tr>\n",
       "    <tr>\n",
       "      <th>0</th>\n",
       "      <td>Time</td>\n",
       "      <td>0.007735</td>\n",
       "    </tr>\n",
       "    <tr>\n",
       "      <th>13</th>\n",
       "      <td>V13</td>\n",
       "      <td>0.004619</td>\n",
       "    </tr>\n",
       "    <tr>\n",
       "      <th>29</th>\n",
       "      <td>Amount</td>\n",
       "      <td>0.004240</td>\n",
       "    </tr>\n",
       "    <tr>\n",
       "      <th>23</th>\n",
       "      <td>V23</td>\n",
       "      <td>0.004223</td>\n",
       "    </tr>\n",
       "    <tr>\n",
       "      <th>11</th>\n",
       "      <td>V11</td>\n",
       "      <td>0.004095</td>\n",
       "    </tr>\n",
       "    <tr>\n",
       "      <th>10</th>\n",
       "      <td>V10</td>\n",
       "      <td>0.003678</td>\n",
       "    </tr>\n",
       "    <tr>\n",
       "      <th>22</th>\n",
       "      <td>V22</td>\n",
       "      <td>0.003550</td>\n",
       "    </tr>\n",
       "    <tr>\n",
       "      <th>1</th>\n",
       "      <td>V1</td>\n",
       "      <td>0.002632</td>\n",
       "    </tr>\n",
       "    <tr>\n",
       "      <th>16</th>\n",
       "      <td>V16</td>\n",
       "      <td>0.002566</td>\n",
       "    </tr>\n",
       "    <tr>\n",
       "      <th>21</th>\n",
       "      <td>V21</td>\n",
       "      <td>0.001664</td>\n",
       "    </tr>\n",
       "    <tr>\n",
       "      <th>7</th>\n",
       "      <td>V7</td>\n",
       "      <td>0.001575</td>\n",
       "    </tr>\n",
       "    <tr>\n",
       "      <th>18</th>\n",
       "      <td>V18</td>\n",
       "      <td>0.001517</td>\n",
       "    </tr>\n",
       "    <tr>\n",
       "      <th>15</th>\n",
       "      <td>V15</td>\n",
       "      <td>0.001440</td>\n",
       "    </tr>\n",
       "    <tr>\n",
       "      <th>9</th>\n",
       "      <td>V9</td>\n",
       "      <td>0.001328</td>\n",
       "    </tr>\n",
       "    <tr>\n",
       "      <th>24</th>\n",
       "      <td>V24</td>\n",
       "      <td>0.001317</td>\n",
       "    </tr>\n",
       "    <tr>\n",
       "      <th>19</th>\n",
       "      <td>V19</td>\n",
       "      <td>0.001141</td>\n",
       "    </tr>\n",
       "    <tr>\n",
       "      <th>20</th>\n",
       "      <td>V20</td>\n",
       "      <td>0.000901</td>\n",
       "    </tr>\n",
       "    <tr>\n",
       "      <th>8</th>\n",
       "      <td>V8</td>\n",
       "      <td>0.000886</td>\n",
       "    </tr>\n",
       "    <tr>\n",
       "      <th>6</th>\n",
       "      <td>V6</td>\n",
       "      <td>0.000633</td>\n",
       "    </tr>\n",
       "    <tr>\n",
       "      <th>25</th>\n",
       "      <td>V25</td>\n",
       "      <td>0.000532</td>\n",
       "    </tr>\n",
       "    <tr>\n",
       "      <th>28</th>\n",
       "      <td>V28</td>\n",
       "      <td>0.000532</td>\n",
       "    </tr>\n",
       "    <tr>\n",
       "      <th>26</th>\n",
       "      <td>V26</td>\n",
       "      <td>0.000054</td>\n",
       "    </tr>\n",
       "    <tr>\n",
       "      <th>27</th>\n",
       "      <td>V27</td>\n",
       "      <td>0.000020</td>\n",
       "    </tr>\n",
       "    <tr>\n",
       "      <th>2</th>\n",
       "      <td>V2</td>\n",
       "      <td>0.000000</td>\n",
       "    </tr>\n",
       "    <tr>\n",
       "      <th>5</th>\n",
       "      <td>V5</td>\n",
       "      <td>0.000000</td>\n",
       "    </tr>\n",
       "  </tbody>\n",
       "</table>\n",
       "</div>"
      ],
      "text/plain": [
       "   Feature  Importance\n",
       "14     V14    0.845512\n",
       "4       V4    0.044420\n",
       "17     V17    0.032682\n",
       "12     V12    0.018738\n",
       "3       V3    0.007769\n",
       "0     Time    0.007735\n",
       "13     V13    0.004619\n",
       "29  Amount    0.004240\n",
       "23     V23    0.004223\n",
       "11     V11    0.004095\n",
       "10     V10    0.003678\n",
       "22     V22    0.003550\n",
       "1       V1    0.002632\n",
       "16     V16    0.002566\n",
       "21     V21    0.001664\n",
       "7       V7    0.001575\n",
       "18     V18    0.001517\n",
       "15     V15    0.001440\n",
       "9       V9    0.001328\n",
       "24     V24    0.001317\n",
       "19     V19    0.001141\n",
       "20     V20    0.000901\n",
       "8       V8    0.000886\n",
       "6       V6    0.000633\n",
       "25     V25    0.000532\n",
       "28     V28    0.000532\n",
       "26     V26    0.000054\n",
       "27     V27    0.000020\n",
       "2       V2    0.000000\n",
       "5       V5    0.000000"
      ]
     },
     "execution_count": 40,
     "metadata": {},
     "output_type": "execute_result"
    }
   ],
   "source": [
    "importance_df"
   ]
  },
  {
   "cell_type": "code",
   "execution_count": 41,
   "id": "21bd2a13",
   "metadata": {
    "execution": {
     "iopub.execute_input": "2023-10-09T07:58:18.611840Z",
     "iopub.status.busy": "2023-10-09T07:58:18.611248Z",
     "iopub.status.idle": "2023-10-09T07:58:19.201922Z",
     "shell.execute_reply": "2023-10-09T07:58:19.200913Z"
    },
    "papermill": {
     "duration": 0.610148,
     "end_time": "2023-10-09T07:58:19.204010",
     "exception": false,
     "start_time": "2023-10-09T07:58:18.593862",
     "status": "completed"
    },
    "tags": []
   },
   "outputs": [
    {
     "data": {
      "image/png": "[encoded data removed]",
      "text/plain": [
       "<Figure size 1500x600 with 1 Axes>"
      ]
     },
     "metadata": {},
     "output_type": "display_data"
    }
   ],
   "source": [
    "\n",
    "\n",
    "importance_df['Importance (%)'] = (importance_df['Importance'] / importance_df['Importance'].sum()) * 100\n",
    "\n",
    "\n",
    "\n",
    "\n",
    "plt.figure(figsize=(15, 6))\n",
    "sns.set(style=\"whitegrid\")\n",
    "sns.heatmap(importance_df[['Importance (%)']].transpose(), cmap='viridis', annot=True, cbar=False)\n",
    "plt.title('Feature Importance (%)')\n",
    "plt.xlabel('Features')\n",
    "plt.ylabel('Importance (%)')\n",
    "plt.xticks(rotation=90)  # Rotate x-axis labels for better readability\n",
    "plt.show()\n"
   ]
  },
  {
   "cell_type": "code",
   "execution_count": 42,
   "id": "f84c5459",
   "metadata": {
    "execution": {
     "iopub.execute_input": "2023-10-09T07:58:19.239128Z",
     "iopub.status.busy": "2023-10-09T07:58:19.238766Z",
     "iopub.status.idle": "2023-10-09T07:58:19.244085Z",
     "shell.execute_reply": "2023-10-09T07:58:19.242837Z"
    },
    "papermill": {
     "duration": 0.024782,
     "end_time": "2023-10-09T07:58:19.245977",
     "exception": false,
     "start_time": "2023-10-09T07:58:19.221195",
     "status": "completed"
    },
    "tags": []
   },
   "outputs": [],
   "source": [
    "coefficients = model.coef_\n",
    "feature_importancel = abs(coefficients[0])\n",
    "sorted_indices = feature_importancel.argsort()[::-1]\n",
    "\n",
    "cm=x1.columns\n",
    "\n",
    "sorted_feature_names = [cm[i] for i in sorted_indices]"
   ]
  },
  {
   "cell_type": "code",
   "execution_count": 43,
   "id": "4554c5d6",
   "metadata": {
    "execution": {
     "iopub.execute_input": "2023-10-09T07:58:19.280670Z",
     "iopub.status.busy": "2023-10-09T07:58:19.280002Z",
     "iopub.status.idle": "2023-10-09T07:58:19.285530Z",
     "shell.execute_reply": "2023-10-09T07:58:19.284776Z"
    },
    "papermill": {
     "duration": 0.025222,
     "end_time": "2023-10-09T07:58:19.287301",
     "exception": false,
     "start_time": "2023-10-09T07:58:19.262079",
     "status": "completed"
    },
    "tags": []
   },
   "outputs": [
    {
     "data": {
      "text/plain": [
       "['V14',\n",
       " 'V3',\n",
       " 'V17',\n",
       " 'V12',\n",
       " 'V10',\n",
       " 'V7',\n",
       " 'V4',\n",
       " 'V1',\n",
       " 'V16',\n",
       " 'V11',\n",
       " 'V2',\n",
       " 'V5',\n",
       " 'V9',\n",
       " 'V18',\n",
       " 'V6',\n",
       " 'V8',\n",
       " 'V19',\n",
       " 'V21',\n",
       " 'V20',\n",
       " 'V27',\n",
       " 'V24',\n",
       " 'V15',\n",
       " 'V22',\n",
       " 'V13',\n",
       " 'V28',\n",
       " 'V23',\n",
       " 'V26',\n",
       " 'V25',\n",
       " 'Amount',\n",
       " 'Time']"
      ]
     },
     "execution_count": 43,
     "metadata": {},
     "output_type": "execute_result"
    }
   ],
   "source": [
    "sorted_feature_names"
   ]
  },
  {
   "cell_type": "markdown",
   "id": "6c8fe1a5",
   "metadata": {
    "papermill": {
     "duration": 0.016589,
     "end_time": "2023-10-09T07:58:19.321517",
     "exception": false,
     "start_time": "2023-10-09T07:58:19.304928",
     "status": "completed"
    },
    "tags": []
   },
   "source": [
    "#### Amount and time are very insignificant feaure for both logistic regression and decision tree. For both V14 is important feature for both the models. Other features have no significant iportance for decision tree model."
   ]
  }
 ],
 "metadata": {
  "kernelspec": {
   "display_name": "Python 3",
   "language": "python",
   "name": "python3"
  },
  "language_info": {
   "codemirror_mode": {
    "name": "ipython",
    "version": 3
   },
   "file_extension": ".py",
   "mimetype": "text/x-python",
   "name": "python",
   "nbconvert_exporter": "python",
   "pygments_lexer": "ipython3",
   "version": "3.10.12"
  },
  "papermill": {
   "default_parameters": {},
   "duration": 540.610316,
   "end_time": "2023-10-09T07:58:20.059494",
   "environment_variables": {},
   "exception": null,
   "input_path": "__notebook__.ipynb",
   "output_path": "__notebook__.ipynb",
   "parameters": {},
   "start_time": "2023-10-09T07:49:19.449178",
   "version": "2.4.0"
  }
 },
 "nbformat": 4,
 "nbformat_minor": 5
}
