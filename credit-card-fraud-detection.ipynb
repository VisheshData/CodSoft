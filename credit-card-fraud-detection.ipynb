{
 "cells": [
  {
   "cell_type": "code",
   "execution_count": 1,
   "id": "b3e20627",
   "metadata": {
    "_cell_guid": "b1076dfc-b9ad-4769-8c92-a6c4dae69d19",
    "_uuid": "8f2839f25d086af736a60e9eeb907d3b93b6e0e5",
    "execution": {
     "iopub.execute_input": "2023-10-08T09:48:28.795013Z",
     "iopub.status.busy": "2023-10-08T09:48:28.794291Z",
     "iopub.status.idle": "2023-10-08T09:48:29.227167Z",
     "shell.execute_reply": "2023-10-08T09:48:29.226038Z"
    },
    "papermill": {
     "duration": 0.447819,
     "end_time": "2023-10-08T09:48:29.230741",
     "exception": false,
     "start_time": "2023-10-08T09:48:28.782922",
     "status": "completed"
    },
    "tags": []
   },
   "outputs": [
    {
     "name": "stdout",
     "output_type": "stream",
     "text": [
      "/kaggle/input/creditcardfraud/creditcard.csv\n"
     ]
    }
   ],
   "source": [
    "# This Python 3 environment comes with many helpful analytics libraries installed\n",
    "# It is defined by the kaggle/python Docker image: https://github.com/kaggle/docker-python\n",
    "# For example, here's several helpful packages to load\n",
    "\n",
    "import numpy as np # linear algebra\n",
    "import pandas as pd # data processing, CSV file I/O (e.g. pd.read_csv)\n",
    "\n",
    "# Input data files are available in the read-only \"../input/\" directory\n",
    "# For example, running this (by clicking run or pressing Shift+Enter) will list all files under the input directory\n",
    "\n",
    "import os\n",
    "for dirname, _, filenames in os.walk('/kaggle/input'):\n",
    "    for filename in filenames:\n",
    "        print(os.path.join(dirname, filename))\n",
    "\n",
    "# You can write up to 20GB to the current directory (/kaggle/working/) that gets preserved as output when you create a version using \"Save & Run All\" \n",
    "# You can also write temporary files to /kaggle/temp/, but they won't be saved outside of the current session"
   ]
  },
  {
   "cell_type": "code",
   "execution_count": 2,
   "id": "8b176e18",
   "metadata": {
    "execution": {
     "iopub.execute_input": "2023-10-08T09:48:29.253300Z",
     "iopub.status.busy": "2023-10-08T09:48:29.252520Z",
     "iopub.status.idle": "2023-10-08T09:48:34.406959Z",
     "shell.execute_reply": "2023-10-08T09:48:34.405773Z"
    },
    "papermill": {
     "duration": 5.168484,
     "end_time": "2023-10-08T09:48:34.409675",
     "exception": false,
     "start_time": "2023-10-08T09:48:29.241191",
     "status": "completed"
    },
    "tags": []
   },
   "outputs": [],
   "source": [
    "df=pd.read_csv('/kaggle/input/creditcardfraud/creditcard.csv')"
   ]
  },
  {
   "cell_type": "code",
   "execution_count": 3,
   "id": "7dc1edba",
   "metadata": {
    "execution": {
     "iopub.execute_input": "2023-10-08T09:48:34.431638Z",
     "iopub.status.busy": "2023-10-08T09:48:34.430886Z",
     "iopub.status.idle": "2023-10-08T09:48:34.471534Z",
     "shell.execute_reply": "2023-10-08T09:48:34.470679Z"
    },
    "papermill": {
     "duration": 0.054039,
     "end_time": "2023-10-08T09:48:34.474085",
     "exception": false,
     "start_time": "2023-10-08T09:48:34.420046",
     "status": "completed"
    },
    "tags": []
   },
   "outputs": [
    {
     "data": {
      "text/html": [
       "<div>\n",
       "<style scoped>\n",
       "    .dataframe tbody tr th:only-of-type {\n",
       "        vertical-align: middle;\n",
       "    }\n",
       "\n",
       "    .dataframe tbody tr th {\n",
       "        vertical-align: top;\n",
       "    }\n",
       "\n",
       "    .dataframe thead th {\n",
       "        text-align: right;\n",
       "    }\n",
       "</style>\n",
       "<table border=\"1\" class=\"dataframe\">\n",
       "  <thead>\n",
       "    <tr style=\"text-align: right;\">\n",
       "      <th></th>\n",
       "      <th>Time</th>\n",
       "      <th>V1</th>\n",
       "      <th>V2</th>\n",
       "      <th>V3</th>\n",
       "      <th>V4</th>\n",
       "      <th>V5</th>\n",
       "      <th>V6</th>\n",
       "      <th>V7</th>\n",
       "      <th>V8</th>\n",
       "      <th>V9</th>\n",
       "      <th>...</th>\n",
       "      <th>V21</th>\n",
       "      <th>V22</th>\n",
       "      <th>V23</th>\n",
       "      <th>V24</th>\n",
       "      <th>V25</th>\n",
       "      <th>V26</th>\n",
       "      <th>V27</th>\n",
       "      <th>V28</th>\n",
       "      <th>Amount</th>\n",
       "      <th>Class</th>\n",
       "    </tr>\n",
       "  </thead>\n",
       "  <tbody>\n",
       "    <tr>\n",
       "      <th>0</th>\n",
       "      <td>0.0</td>\n",
       "      <td>-1.359807</td>\n",
       "      <td>-0.072781</td>\n",
       "      <td>2.536347</td>\n",
       "      <td>1.378155</td>\n",
       "      <td>-0.338321</td>\n",
       "      <td>0.462388</td>\n",
       "      <td>0.239599</td>\n",
       "      <td>0.098698</td>\n",
       "      <td>0.363787</td>\n",
       "      <td>...</td>\n",
       "      <td>-0.018307</td>\n",
       "      <td>0.277838</td>\n",
       "      <td>-0.110474</td>\n",
       "      <td>0.066928</td>\n",
       "      <td>0.128539</td>\n",
       "      <td>-0.189115</td>\n",
       "      <td>0.133558</td>\n",
       "      <td>-0.021053</td>\n",
       "      <td>149.62</td>\n",
       "      <td>0</td>\n",
       "    </tr>\n",
       "    <tr>\n",
       "      <th>1</th>\n",
       "      <td>0.0</td>\n",
       "      <td>1.191857</td>\n",
       "      <td>0.266151</td>\n",
       "      <td>0.166480</td>\n",
       "      <td>0.448154</td>\n",
       "      <td>0.060018</td>\n",
       "      <td>-0.082361</td>\n",
       "      <td>-0.078803</td>\n",
       "      <td>0.085102</td>\n",
       "      <td>-0.255425</td>\n",
       "      <td>...</td>\n",
       "      <td>-0.225775</td>\n",
       "      <td>-0.638672</td>\n",
       "      <td>0.101288</td>\n",
       "      <td>-0.339846</td>\n",
       "      <td>0.167170</td>\n",
       "      <td>0.125895</td>\n",
       "      <td>-0.008983</td>\n",
       "      <td>0.014724</td>\n",
       "      <td>2.69</td>\n",
       "      <td>0</td>\n",
       "    </tr>\n",
       "    <tr>\n",
       "      <th>2</th>\n",
       "      <td>1.0</td>\n",
       "      <td>-1.358354</td>\n",
       "      <td>-1.340163</td>\n",
       "      <td>1.773209</td>\n",
       "      <td>0.379780</td>\n",
       "      <td>-0.503198</td>\n",
       "      <td>1.800499</td>\n",
       "      <td>0.791461</td>\n",
       "      <td>0.247676</td>\n",
       "      <td>-1.514654</td>\n",
       "      <td>...</td>\n",
       "      <td>0.247998</td>\n",
       "      <td>0.771679</td>\n",
       "      <td>0.909412</td>\n",
       "      <td>-0.689281</td>\n",
       "      <td>-0.327642</td>\n",
       "      <td>-0.139097</td>\n",
       "      <td>-0.055353</td>\n",
       "      <td>-0.059752</td>\n",
       "      <td>378.66</td>\n",
       "      <td>0</td>\n",
       "    </tr>\n",
       "    <tr>\n",
       "      <th>3</th>\n",
       "      <td>1.0</td>\n",
       "      <td>-0.966272</td>\n",
       "      <td>-0.185226</td>\n",
       "      <td>1.792993</td>\n",
       "      <td>-0.863291</td>\n",
       "      <td>-0.010309</td>\n",
       "      <td>1.247203</td>\n",
       "      <td>0.237609</td>\n",
       "      <td>0.377436</td>\n",
       "      <td>-1.387024</td>\n",
       "      <td>...</td>\n",
       "      <td>-0.108300</td>\n",
       "      <td>0.005274</td>\n",
       "      <td>-0.190321</td>\n",
       "      <td>-1.175575</td>\n",
       "      <td>0.647376</td>\n",
       "      <td>-0.221929</td>\n",
       "      <td>0.062723</td>\n",
       "      <td>0.061458</td>\n",
       "      <td>123.50</td>\n",
       "      <td>0</td>\n",
       "    </tr>\n",
       "    <tr>\n",
       "      <th>4</th>\n",
       "      <td>2.0</td>\n",
       "      <td>-1.158233</td>\n",
       "      <td>0.877737</td>\n",
       "      <td>1.548718</td>\n",
       "      <td>0.403034</td>\n",
       "      <td>-0.407193</td>\n",
       "      <td>0.095921</td>\n",
       "      <td>0.592941</td>\n",
       "      <td>-0.270533</td>\n",
       "      <td>0.817739</td>\n",
       "      <td>...</td>\n",
       "      <td>-0.009431</td>\n",
       "      <td>0.798278</td>\n",
       "      <td>-0.137458</td>\n",
       "      <td>0.141267</td>\n",
       "      <td>-0.206010</td>\n",
       "      <td>0.502292</td>\n",
       "      <td>0.219422</td>\n",
       "      <td>0.215153</td>\n",
       "      <td>69.99</td>\n",
       "      <td>0</td>\n",
       "    </tr>\n",
       "  </tbody>\n",
       "</table>\n",
       "<p>5 rows × 31 columns</p>\n",
       "</div>"
      ],
      "text/plain": [
       "   Time        V1        V2        V3        V4        V5        V6        V7  \\\n",
       "0   0.0 -1.359807 -0.072781  2.536347  1.378155 -0.338321  0.462388  0.239599   \n",
       "1   0.0  1.191857  0.266151  0.166480  0.448154  0.060018 -0.082361 -0.078803   \n",
       "2   1.0 -1.358354 -1.340163  1.773209  0.379780 -0.503198  1.800499  0.791461   \n",
       "3   1.0 -0.966272 -0.185226  1.792993 -0.863291 -0.010309  1.247203  0.237609   \n",
       "4   2.0 -1.158233  0.877737  1.548718  0.403034 -0.407193  0.095921  0.592941   \n",
       "\n",
       "         V8        V9  ...       V21       V22       V23       V24       V25  \\\n",
       "0  0.098698  0.363787  ... -0.018307  0.277838 -0.110474  0.066928  0.128539   \n",
       "1  0.085102 -0.255425  ... -0.225775 -0.638672  0.101288 -0.339846  0.167170   \n",
       "2  0.247676 -1.514654  ...  0.247998  0.771679  0.909412 -0.689281 -0.327642   \n",
       "3  0.377436 -1.387024  ... -0.108300  0.005274 -0.190321 -1.175575  0.647376   \n",
       "4 -0.270533  0.817739  ... -0.009431  0.798278 -0.137458  0.141267 -0.206010   \n",
       "\n",
       "        V26       V27       V28  Amount  Class  \n",
       "0 -0.189115  0.133558 -0.021053  149.62      0  \n",
       "1  0.125895 -0.008983  0.014724    2.69      0  \n",
       "2 -0.139097 -0.055353 -0.059752  378.66      0  \n",
       "3 -0.221929  0.062723  0.061458  123.50      0  \n",
       "4  0.502292  0.219422  0.215153   69.99      0  \n",
       "\n",
       "[5 rows x 31 columns]"
      ]
     },
     "execution_count": 3,
     "metadata": {},
     "output_type": "execute_result"
    }
   ],
   "source": [
    "df.head()"
   ]
  },
  {
   "cell_type": "code",
   "execution_count": 4,
   "id": "a1cf64e8",
   "metadata": {
    "execution": {
     "iopub.execute_input": "2023-10-08T09:48:34.497989Z",
     "iopub.status.busy": "2023-10-08T09:48:34.497277Z",
     "iopub.status.idle": "2023-10-08T09:48:34.548664Z",
     "shell.execute_reply": "2023-10-08T09:48:34.547522Z"
    },
    "papermill": {
     "duration": 0.066789,
     "end_time": "2023-10-08T09:48:34.551241",
     "exception": false,
     "start_time": "2023-10-08T09:48:34.484452",
     "status": "completed"
    },
    "tags": []
   },
   "outputs": [
    {
     "name": "stdout",
     "output_type": "stream",
     "text": [
      "<class 'pandas.core.frame.DataFrame'>\n",
      "RangeIndex: 284807 entries, 0 to 284806\n",
      "Data columns (total 31 columns):\n",
      " #   Column  Non-Null Count   Dtype  \n",
      "---  ------  --------------   -----  \n",
      " 0   Time    284807 non-null  float64\n",
      " 1   V1      284807 non-null  float64\n",
      " 2   V2      284807 non-null  float64\n",
      " 3   V3      284807 non-null  float64\n",
      " 4   V4      284807 non-null  float64\n",
      " 5   V5      284807 non-null  float64\n",
      " 6   V6      284807 non-null  float64\n",
      " 7   V7      284807 non-null  float64\n",
      " 8   V8      284807 non-null  float64\n",
      " 9   V9      284807 non-null  float64\n",
      " 10  V10     284807 non-null  float64\n",
      " 11  V11     284807 non-null  float64\n",
      " 12  V12     284807 non-null  float64\n",
      " 13  V13     284807 non-null  float64\n",
      " 14  V14     284807 non-null  float64\n",
      " 15  V15     284807 non-null  float64\n",
      " 16  V16     284807 non-null  float64\n",
      " 17  V17     284807 non-null  float64\n",
      " 18  V18     284807 non-null  float64\n",
      " 19  V19     284807 non-null  float64\n",
      " 20  V20     284807 non-null  float64\n",
      " 21  V21     284807 non-null  float64\n",
      " 22  V22     284807 non-null  float64\n",
      " 23  V23     284807 non-null  float64\n",
      " 24  V24     284807 non-null  float64\n",
      " 25  V25     284807 non-null  float64\n",
      " 26  V26     284807 non-null  float64\n",
      " 27  V27     284807 non-null  float64\n",
      " 28  V28     284807 non-null  float64\n",
      " 29  Amount  284807 non-null  float64\n",
      " 30  Class   284807 non-null  int64  \n",
      "dtypes: float64(30), int64(1)\n",
      "memory usage: 67.4 MB\n"
     ]
    }
   ],
   "source": [
    "df.info()"
   ]
  },
  {
   "cell_type": "code",
   "execution_count": 5,
   "id": "79faacc5",
   "metadata": {
    "execution": {
     "iopub.execute_input": "2023-10-08T09:48:34.573209Z",
     "iopub.status.busy": "2023-10-08T09:48:34.572567Z",
     "iopub.status.idle": "2023-10-08T09:48:35.707744Z",
     "shell.execute_reply": "2023-10-08T09:48:35.706491Z"
    },
    "papermill": {
     "duration": 1.149094,
     "end_time": "2023-10-08T09:48:35.710337",
     "exception": false,
     "start_time": "2023-10-08T09:48:34.561243",
     "status": "completed"
    },
    "tags": []
   },
   "outputs": [
    {
     "data": {
      "text/plain": [
       "1081"
      ]
     },
     "execution_count": 5,
     "metadata": {},
     "output_type": "execute_result"
    }
   ],
   "source": [
    "dups=df.duplicated()\n",
    "dups.sum()"
   ]
  },
  {
   "cell_type": "code",
   "execution_count": 6,
   "id": "860a978d",
   "metadata": {
    "execution": {
     "iopub.execute_input": "2023-10-08T09:48:35.733197Z",
     "iopub.status.busy": "2023-10-08T09:48:35.732520Z",
     "iopub.status.idle": "2023-10-08T09:48:39.599008Z",
     "shell.execute_reply": "2023-10-08T09:48:39.598114Z"
    },
    "papermill": {
     "duration": 3.882006,
     "end_time": "2023-10-08T09:48:39.602380",
     "exception": false,
     "start_time": "2023-10-08T09:48:35.720374",
     "status": "completed"
    },
    "tags": []
   },
   "outputs": [
    {
     "data": {
      "text/plain": [
       "<Axes: >"
      ]
     },
     "execution_count": 6,
     "metadata": {},
     "output_type": "execute_result"
    },
    {
     "data": {
      "image/png": "[encoded data removed]",
      "text/plain": [
       "<Figure size 2000x1000 with 2 Axes>"
      ]
     },
     "metadata": {},
     "output_type": "display_data"
    }
   ],
   "source": [
    "import seaborn as sns\n",
    "import matplotlib.pyplot as plt\n",
    "corr=df.corr()\n",
    "matrix=np.triu(corr)\n",
    "plt.figure(figsize=(20,10))\n",
    "sns.heatmap(corr,annot=True,fmt='.2f',mask=matrix)"
   ]
  },
  {
   "cell_type": "code",
   "execution_count": 7,
   "id": "ca8bef5d",
   "metadata": {
    "execution": {
     "iopub.execute_input": "2023-10-08T09:48:39.629447Z",
     "iopub.status.busy": "2023-10-08T09:48:39.629036Z",
     "iopub.status.idle": "2023-10-08T09:48:40.761391Z",
     "shell.execute_reply": "2023-10-08T09:48:40.760312Z"
    },
    "papermill": {
     "duration": 1.148902,
     "end_time": "2023-10-08T09:48:40.763957",
     "exception": false,
     "start_time": "2023-10-08T09:48:39.615055",
     "status": "completed"
    },
    "tags": []
   },
   "outputs": [],
   "source": [
    "## Deleting duplicated\n",
    "df.drop_duplicates(inplace=True)"
   ]
  },
  {
   "cell_type": "code",
   "execution_count": 8,
   "id": "e7ad3803",
   "metadata": {
    "execution": {
     "iopub.execute_input": "2023-10-08T09:48:40.790353Z",
     "iopub.status.busy": "2023-10-08T09:48:40.789982Z",
     "iopub.status.idle": "2023-10-08T09:48:40.822667Z",
     "shell.execute_reply": "2023-10-08T09:48:40.821574Z"
    },
    "papermill": {
     "duration": 0.048939,
     "end_time": "2023-10-08T09:48:40.825104",
     "exception": false,
     "start_time": "2023-10-08T09:48:40.776165",
     "status": "completed"
    },
    "tags": []
   },
   "outputs": [
    {
     "name": "stdout",
     "output_type": "stream",
     "text": [
      "<class 'pandas.core.frame.DataFrame'>\n",
      "Index: 283726 entries, 0 to 284806\n",
      "Data columns (total 31 columns):\n",
      " #   Column  Non-Null Count   Dtype  \n",
      "---  ------  --------------   -----  \n",
      " 0   Time    283726 non-null  float64\n",
      " 1   V1      283726 non-null  float64\n",
      " 2   V2      283726 non-null  float64\n",
      " 3   V3      283726 non-null  float64\n",
      " 4   V4      283726 non-null  float64\n",
      " 5   V5      283726 non-null  float64\n",
      " 6   V6      283726 non-null  float64\n",
      " 7   V7      283726 non-null  float64\n",
      " 8   V8      283726 non-null  float64\n",
      " 9   V9      283726 non-null  float64\n",
      " 10  V10     283726 non-null  float64\n",
      " 11  V11     283726 non-null  float64\n",
      " 12  V12     283726 non-null  float64\n",
      " 13  V13     283726 non-null  float64\n",
      " 14  V14     283726 non-null  float64\n",
      " 15  V15     283726 non-null  float64\n",
      " 16  V16     283726 non-null  float64\n",
      " 17  V17     283726 non-null  float64\n",
      " 18  V18     283726 non-null  float64\n",
      " 19  V19     283726 non-null  float64\n",
      " 20  V20     283726 non-null  float64\n",
      " 21  V21     283726 non-null  float64\n",
      " 22  V22     283726 non-null  float64\n",
      " 23  V23     283726 non-null  float64\n",
      " 24  V24     283726 non-null  float64\n",
      " 25  V25     283726 non-null  float64\n",
      " 26  V26     283726 non-null  float64\n",
      " 27  V27     283726 non-null  float64\n",
      " 28  V28     283726 non-null  float64\n",
      " 29  Amount  283726 non-null  float64\n",
      " 30  Class   283726 non-null  int64  \n",
      "dtypes: float64(30), int64(1)\n",
      "memory usage: 69.3 MB\n"
     ]
    }
   ],
   "source": [
    "df.info()"
   ]
  },
  {
   "cell_type": "code",
   "execution_count": 9,
   "id": "ff5996f2",
   "metadata": {
    "execution": {
     "iopub.execute_input": "2023-10-08T09:48:40.852307Z",
     "iopub.status.busy": "2023-10-08T09:48:40.851645Z",
     "iopub.status.idle": "2023-10-08T09:48:42.037498Z",
     "shell.execute_reply": "2023-10-08T09:48:42.036162Z"
    },
    "papermill": {
     "duration": 1.202549,
     "end_time": "2023-10-08T09:48:42.040319",
     "exception": false,
     "start_time": "2023-10-08T09:48:40.837770",
     "status": "completed"
    },
    "tags": []
   },
   "outputs": [
    {
     "data": {
      "text/plain": [
       "0"
      ]
     },
     "execution_count": 9,
     "metadata": {},
     "output_type": "execute_result"
    }
   ],
   "source": [
    "dups=df.duplicated()\n",
    "dups.sum()"
   ]
  },
  {
   "cell_type": "code",
   "execution_count": 10,
   "id": "19d38f91",
   "metadata": {
    "execution": {
     "iopub.execute_input": "2023-10-08T09:48:42.068343Z",
     "iopub.status.busy": "2023-10-08T09:48:42.067500Z",
     "iopub.status.idle": "2023-10-08T09:48:42.368965Z",
     "shell.execute_reply": "2023-10-08T09:48:42.367987Z"
    },
    "papermill": {
     "duration": 0.318297,
     "end_time": "2023-10-08T09:48:42.371681",
     "exception": false,
     "start_time": "2023-10-08T09:48:42.053384",
     "status": "completed"
    },
    "tags": []
   },
   "outputs": [],
   "source": [
    "from sklearn.model_selection import train_test_split\n",
    "from sklearn.linear_model import LogisticRegression\n",
    "from sklearn.metrics import confusion_matrix, classification_report"
   ]
  },
  {
   "cell_type": "code",
   "execution_count": 11,
   "id": "8491d2f1",
   "metadata": {
    "execution": {
     "iopub.execute_input": "2023-10-08T09:48:42.399951Z",
     "iopub.status.busy": "2023-10-08T09:48:42.399210Z",
     "iopub.status.idle": "2023-10-08T09:48:42.431977Z",
     "shell.execute_reply": "2023-10-08T09:48:42.430843Z"
    },
    "papermill": {
     "duration": 0.050126,
     "end_time": "2023-10-08T09:48:42.434673",
     "exception": false,
     "start_time": "2023-10-08T09:48:42.384547",
     "status": "completed"
    },
    "tags": []
   },
   "outputs": [],
   "source": [
    "x=df.drop(columns='Class', axis=1)\n",
    "y=df.pop('Class')"
   ]
  },
  {
   "cell_type": "code",
   "execution_count": 12,
   "id": "717288c9",
   "metadata": {
    "execution": {
     "iopub.execute_input": "2023-10-08T09:48:42.462311Z",
     "iopub.status.busy": "2023-10-08T09:48:42.461865Z",
     "iopub.status.idle": "2023-10-08T09:48:42.622817Z",
     "shell.execute_reply": "2023-10-08T09:48:42.621666Z"
    },
    "papermill": {
     "duration": 0.178374,
     "end_time": "2023-10-08T09:48:42.625698",
     "exception": false,
     "start_time": "2023-10-08T09:48:42.447324",
     "status": "completed"
    },
    "tags": []
   },
   "outputs": [],
   "source": [
    "x_train,x_test,y_train,y_test=train_test_split(x,y,test_size=0.3,random_state=1)"
   ]
  },
  {
   "cell_type": "code",
   "execution_count": 13,
   "id": "e520f92d",
   "metadata": {
    "execution": {
     "iopub.execute_input": "2023-10-08T09:48:42.720874Z",
     "iopub.status.busy": "2023-10-08T09:48:42.719567Z",
     "iopub.status.idle": "2023-10-08T09:48:42.725241Z",
     "shell.execute_reply": "2023-10-08T09:48:42.724361Z"
    },
    "papermill": {
     "duration": 0.022106,
     "end_time": "2023-10-08T09:48:42.727562",
     "exception": false,
     "start_time": "2023-10-08T09:48:42.705456",
     "status": "completed"
    },
    "tags": []
   },
   "outputs": [],
   "source": [
    "model=LogisticRegression()"
   ]
  },
  {
   "cell_type": "code",
   "execution_count": 14,
   "id": "778311eb",
   "metadata": {
    "execution": {
     "iopub.execute_input": "2023-10-08T09:48:42.755875Z",
     "iopub.status.busy": "2023-10-08T09:48:42.755117Z",
     "iopub.status.idle": "2023-10-08T09:48:46.084307Z",
     "shell.execute_reply": "2023-10-08T09:48:46.082894Z"
    },
    "papermill": {
     "duration": 3.348089,
     "end_time": "2023-10-08T09:48:46.088512",
     "exception": false,
     "start_time": "2023-10-08T09:48:42.740423",
     "status": "completed"
    },
    "tags": []
   },
   "outputs": [
    {
     "name": "stderr",
     "output_type": "stream",
     "text": [
      "/opt/conda/lib/python3.10/site-packages/sklearn/linear_model/_logistic.py:458: ConvergenceWarning: lbfgs failed to converge (status=1):\n",
      "STOP: TOTAL NO. of ITERATIONS REACHED LIMIT.\n",
      "\n",
      "Increase the number of iterations (max_iter) or scale the data as shown in:\n",
      "    https://scikit-learn.org/stable/modules/preprocessing.html\n",
      "Please also refer to the documentation for alternative solver options:\n",
      "    https://scikit-learn.org/stable/modules/linear_model.html#logistic-regression\n",
      "  n_iter_i = _check_optimize_result(\n"
     ]
    },
    {
     "data": {
      "text/html": [
       "<style>#sk-container-id-1 {color: black;background-color: white;}#sk-container-id-1 pre{padding: 0;}#sk-container-id-1 div.sk-toggleable {background-color: white;}#sk-container-id-1 label.sk-toggleable__label {cursor: pointer;display: block;width: 100%;margin-bottom: 0;padding: 0.3em;box-sizing: border-box;text-align: center;}#sk-container-id-1 label.sk-toggleable__label-arrow:before {content: \"▸\";float: left;margin-right: 0.25em;color: #696969;}#sk-container-id-1 label.sk-toggleable__label-arrow:hover:before {color: black;}#sk-container-id-1 div.sk-estimator:hover label.sk-toggleable__label-arrow:before {color: black;}#sk-container-id-1 div.sk-toggleable__content {max-height: 0;max-width: 0;overflow: hidden;text-align: left;background-color: #f0f8ff;}#sk-container-id-1 div.sk-toggleable__content pre {margin: 0.2em;color: black;border-radius: 0.25em;background-color: #f0f8ff;}#sk-container-id-1 input.sk-toggleable__control:checked~div.sk-toggleable__content {max-height: 200px;max-width: 100%;overflow: auto;}#sk-container-id-1 input.sk-toggleable__control:checked~label.sk-toggleable__label-arrow:before {content: \"▾\";}#sk-container-id-1 div.sk-estimator input.sk-toggleable__control:checked~label.sk-toggleable__label {background-color: #d4ebff;}#sk-container-id-1 div.sk-label input.sk-toggleable__control:checked~label.sk-toggleable__label {background-color: #d4ebff;}#sk-container-id-1 input.sk-hidden--visually {border: 0;clip: rect(1px 1px 1px 1px);clip: rect(1px, 1px, 1px, 1px);height: 1px;margin: -1px;overflow: hidden;padding: 0;position: absolute;width: 1px;}#sk-container-id-1 div.sk-estimator {font-family: monospace;background-color: #f0f8ff;border: 1px dotted black;border-radius: 0.25em;box-sizing: border-box;margin-bottom: 0.5em;}#sk-container-id-1 div.sk-estimator:hover {background-color: #d4ebff;}#sk-container-id-1 div.sk-parallel-item::after {content: \"\";width: 100%;border-bottom: 1px solid gray;flex-grow: 1;}#sk-container-id-1 div.sk-label:hover label.sk-toggleable__label {background-color: #d4ebff;}#sk-container-id-1 div.sk-serial::before {content: \"\";position: absolute;border-left: 1px solid gray;box-sizing: border-box;top: 0;bottom: 0;left: 50%;z-index: 0;}#sk-container-id-1 div.sk-serial {display: flex;flex-direction: column;align-items: center;background-color: white;padding-right: 0.2em;padding-left: 0.2em;position: relative;}#sk-container-id-1 div.sk-item {position: relative;z-index: 1;}#sk-container-id-1 div.sk-parallel {display: flex;align-items: stretch;justify-content: center;background-color: white;position: relative;}#sk-container-id-1 div.sk-item::before, #sk-container-id-1 div.sk-parallel-item::before {content: \"\";position: absolute;border-left: 1px solid gray;box-sizing: border-box;top: 0;bottom: 0;left: 50%;z-index: -1;}#sk-container-id-1 div.sk-parallel-item {display: flex;flex-direction: column;z-index: 1;position: relative;background-color: white;}#sk-container-id-1 div.sk-parallel-item:first-child::after {align-self: flex-end;width: 50%;}#sk-container-id-1 div.sk-parallel-item:last-child::after {align-self: flex-start;width: 50%;}#sk-container-id-1 div.sk-parallel-item:only-child::after {width: 0;}#sk-container-id-1 div.sk-dashed-wrapped {border: 1px dashed gray;margin: 0 0.4em 0.5em 0.4em;box-sizing: border-box;padding-bottom: 0.4em;background-color: white;}#sk-container-id-1 div.sk-label label {font-family: monospace;font-weight: bold;display: inline-block;line-height: 1.2em;}#sk-container-id-1 div.sk-label-container {text-align: center;}#sk-container-id-1 div.sk-container {/* jupyter's `normalize.less` sets `[hidden] { display: none; }` but bootstrap.min.css set `[hidden] { display: none !important; }` so we also need the `!important` here to be able to override the default hidden behavior on the sphinx rendered scikit-learn.org. See: https://github.com/scikit-learn/scikit-learn/issues/21755 */display: inline-block !important;position: relative;}#sk-container-id-1 div.sk-text-repr-fallback {display: none;}</style><div id=\"sk-container-id-1\" class=\"sk-top-container\"><div class=\"sk-text-repr-fallback\"><pre>LogisticRegression()</pre><b>In a Jupyter environment, please rerun this cell to show the HTML representation or trust the notebook. <br />On GitHub, the HTML representation is unable to render, please try loading this page with nbviewer.org.</b></div><div class=\"sk-container\" hidden><div class=\"sk-item\"><div class=\"sk-estimator sk-toggleable\"><input class=\"sk-toggleable__control sk-hidden--visually\" id=\"sk-estimator-id-1\" type=\"checkbox\" checked><label for=\"sk-estimator-id-1\" class=\"sk-toggleable__label sk-toggleable__label-arrow\">LogisticRegression</label><div class=\"sk-toggleable__content\"><pre>LogisticRegression()</pre></div></div></div></div></div>"
      ],
      "text/plain": [
       "LogisticRegression()"
      ]
     },
     "execution_count": 14,
     "metadata": {},
     "output_type": "execute_result"
    }
   ],
   "source": [
    "model.fit(x_train,y_train)"
   ]
  },
  {
   "cell_type": "code",
   "execution_count": 15,
   "id": "0841ed00",
   "metadata": {
    "execution": {
     "iopub.execute_input": "2023-10-08T09:48:46.139995Z",
     "iopub.status.busy": "2023-10-08T09:48:46.139167Z",
     "iopub.status.idle": "2023-10-08T09:48:46.331942Z",
     "shell.execute_reply": "2023-10-08T09:48:46.330877Z"
    },
    "papermill": {
     "duration": 0.221759,
     "end_time": "2023-10-08T09:48:46.334207",
     "exception": false,
     "start_time": "2023-10-08T09:48:46.112448",
     "status": "completed"
    },
    "tags": []
   },
   "outputs": [
    {
     "name": "stdout",
     "output_type": "stream",
     "text": [
      "Classification Report:Test Data\n",
      "              precision    recall  f1-score   support\n",
      "\n",
      "           0       1.00      1.00      1.00     84993\n",
      "           1       0.69      0.65      0.67       125\n",
      "\n",
      "    accuracy                           1.00     85118\n",
      "   macro avg       0.84      0.82      0.83     85118\n",
      "weighted avg       1.00      1.00      1.00     85118\n",
      "\n"
     ]
    }
   ],
   "source": [
    "y_pred=model.predict(x_test)\n",
    "class_rep = classification_report(y_test, y_pred)\n",
    "print(\"Classification Report:Test Data\")\n",
    "print(class_rep)"
   ]
  },
  {
   "cell_type": "code",
   "execution_count": 16,
   "id": "29b46ede",
   "metadata": {
    "execution": {
     "iopub.execute_input": "2023-10-08T09:48:46.363457Z",
     "iopub.status.busy": "2023-10-08T09:48:46.362376Z",
     "iopub.status.idle": "2023-10-08T09:48:46.408643Z",
     "shell.execute_reply": "2023-10-08T09:48:46.407410Z"
    },
    "papermill": {
     "duration": 0.064069,
     "end_time": "2023-10-08T09:48:46.411282",
     "exception": false,
     "start_time": "2023-10-08T09:48:46.347213",
     "status": "completed"
    },
    "tags": []
   },
   "outputs": [
    {
     "data": {
      "text/plain": [
       "Counter({0: 283253, 1: 473})"
      ]
     },
     "execution_count": 16,
     "metadata": {},
     "output_type": "execute_result"
    }
   ],
   "source": [
    "from collections import Counter\n",
    "counter=Counter(y)\n",
    "counter"
   ]
  },
  {
   "cell_type": "code",
   "execution_count": 17,
   "id": "a6039638",
   "metadata": {
    "execution": {
     "iopub.execute_input": "2023-10-08T09:48:46.440026Z",
     "iopub.status.busy": "2023-10-08T09:48:46.439581Z",
     "iopub.status.idle": "2023-10-08T09:48:47.692780Z",
     "shell.execute_reply": "2023-10-08T09:48:47.691669Z"
    },
    "papermill": {
     "duration": 1.270823,
     "end_time": "2023-10-08T09:48:47.695584",
     "exception": false,
     "start_time": "2023-10-08T09:48:46.424761",
     "status": "completed"
    },
    "tags": []
   },
   "outputs": [],
   "source": [
    "#### Using SMOTE in order to balance highly ibalance data\n",
    "from imblearn.over_sampling import SMOTE\n",
    "\n",
    "oversample=SMOTE()\n",
    "x1,y1=oversample.fit_resample(x,y)"
   ]
  },
  {
   "cell_type": "code",
   "execution_count": 18,
   "id": "f8313c5e",
   "metadata": {
    "execution": {
     "iopub.execute_input": "2023-10-08T09:48:47.723933Z",
     "iopub.status.busy": "2023-10-08T09:48:47.723404Z",
     "iopub.status.idle": "2023-10-08T09:48:47.804123Z",
     "shell.execute_reply": "2023-10-08T09:48:47.803060Z"
    },
    "papermill": {
     "duration": 0.097406,
     "end_time": "2023-10-08T09:48:47.806312",
     "exception": false,
     "start_time": "2023-10-08T09:48:47.708906",
     "status": "completed"
    },
    "tags": []
   },
   "outputs": [
    {
     "data": {
      "text/plain": [
       "Counter({0: 283253, 1: 283253})"
      ]
     },
     "execution_count": 18,
     "metadata": {},
     "output_type": "execute_result"
    }
   ],
   "source": [
    "from collections import Counter\n",
    "counter=Counter(y1)\n",
    "counter"
   ]
  },
  {
   "cell_type": "code",
   "execution_count": 19,
   "id": "9ae1e941",
   "metadata": {
    "execution": {
     "iopub.execute_input": "2023-10-08T09:48:47.834167Z",
     "iopub.status.busy": "2023-10-08T09:48:47.833811Z",
     "iopub.status.idle": "2023-10-08T09:48:48.284712Z",
     "shell.execute_reply": "2023-10-08T09:48:48.283500Z"
    },
    "papermill": {
     "duration": 0.467972,
     "end_time": "2023-10-08T09:48:48.287417",
     "exception": false,
     "start_time": "2023-10-08T09:48:47.819445",
     "status": "completed"
    },
    "tags": []
   },
   "outputs": [],
   "source": [
    "x_train,x_test,y_train,y_test=train_test_split(x1,y1,test_size=0.3,random_state=1)"
   ]
  },
  {
   "cell_type": "code",
   "execution_count": 20,
   "id": "4fb405e4",
   "metadata": {
    "execution": {
     "iopub.execute_input": "2023-10-08T09:48:48.316483Z",
     "iopub.status.busy": "2023-10-08T09:48:48.316104Z",
     "iopub.status.idle": "2023-10-08T09:48:52.576736Z",
     "shell.execute_reply": "2023-10-08T09:48:52.575638Z"
    },
    "papermill": {
     "duration": 4.278681,
     "end_time": "2023-10-08T09:48:52.579703",
     "exception": false,
     "start_time": "2023-10-08T09:48:48.301022",
     "status": "completed"
    },
    "tags": []
   },
   "outputs": [
    {
     "data": {
      "text/html": [
       "<style>#sk-container-id-2 {color: black;background-color: white;}#sk-container-id-2 pre{padding: 0;}#sk-container-id-2 div.sk-toggleable {background-color: white;}#sk-container-id-2 label.sk-toggleable__label {cursor: pointer;display: block;width: 100%;margin-bottom: 0;padding: 0.3em;box-sizing: border-box;text-align: center;}#sk-container-id-2 label.sk-toggleable__label-arrow:before {content: \"▸\";float: left;margin-right: 0.25em;color: #696969;}#sk-container-id-2 label.sk-toggleable__label-arrow:hover:before {color: black;}#sk-container-id-2 div.sk-estimator:hover label.sk-toggleable__label-arrow:before {color: black;}#sk-container-id-2 div.sk-toggleable__content {max-height: 0;max-width: 0;overflow: hidden;text-align: left;background-color: #f0f8ff;}#sk-container-id-2 div.sk-toggleable__content pre {margin: 0.2em;color: black;border-radius: 0.25em;background-color: #f0f8ff;}#sk-container-id-2 input.sk-toggleable__control:checked~div.sk-toggleable__content {max-height: 200px;max-width: 100%;overflow: auto;}#sk-container-id-2 input.sk-toggleable__control:checked~label.sk-toggleable__label-arrow:before {content: \"▾\";}#sk-container-id-2 div.sk-estimator input.sk-toggleable__control:checked~label.sk-toggleable__label {background-color: #d4ebff;}#sk-container-id-2 div.sk-label input.sk-toggleable__control:checked~label.sk-toggleable__label {background-color: #d4ebff;}#sk-container-id-2 input.sk-hidden--visually {border: 0;clip: rect(1px 1px 1px 1px);clip: rect(1px, 1px, 1px, 1px);height: 1px;margin: -1px;overflow: hidden;padding: 0;position: absolute;width: 1px;}#sk-container-id-2 div.sk-estimator {font-family: monospace;background-color: #f0f8ff;border: 1px dotted black;border-radius: 0.25em;box-sizing: border-box;margin-bottom: 0.5em;}#sk-container-id-2 div.sk-estimator:hover {background-color: #d4ebff;}#sk-container-id-2 div.sk-parallel-item::after {content: \"\";width: 100%;border-bottom: 1px solid gray;flex-grow: 1;}#sk-container-id-2 div.sk-label:hover label.sk-toggleable__label {background-color: #d4ebff;}#sk-container-id-2 div.sk-serial::before {content: \"\";position: absolute;border-left: 1px solid gray;box-sizing: border-box;top: 0;bottom: 0;left: 50%;z-index: 0;}#sk-container-id-2 div.sk-serial {display: flex;flex-direction: column;align-items: center;background-color: white;padding-right: 0.2em;padding-left: 0.2em;position: relative;}#sk-container-id-2 div.sk-item {position: relative;z-index: 1;}#sk-container-id-2 div.sk-parallel {display: flex;align-items: stretch;justify-content: center;background-color: white;position: relative;}#sk-container-id-2 div.sk-item::before, #sk-container-id-2 div.sk-parallel-item::before {content: \"\";position: absolute;border-left: 1px solid gray;box-sizing: border-box;top: 0;bottom: 0;left: 50%;z-index: -1;}#sk-container-id-2 div.sk-parallel-item {display: flex;flex-direction: column;z-index: 1;position: relative;background-color: white;}#sk-container-id-2 div.sk-parallel-item:first-child::after {align-self: flex-end;width: 50%;}#sk-container-id-2 div.sk-parallel-item:last-child::after {align-self: flex-start;width: 50%;}#sk-container-id-2 div.sk-parallel-item:only-child::after {width: 0;}#sk-container-id-2 div.sk-dashed-wrapped {border: 1px dashed gray;margin: 0 0.4em 0.5em 0.4em;box-sizing: border-box;padding-bottom: 0.4em;background-color: white;}#sk-container-id-2 div.sk-label label {font-family: monospace;font-weight: bold;display: inline-block;line-height: 1.2em;}#sk-container-id-2 div.sk-label-container {text-align: center;}#sk-container-id-2 div.sk-container {/* jupyter's `normalize.less` sets `[hidden] { display: none; }` but bootstrap.min.css set `[hidden] { display: none !important; }` so we also need the `!important` here to be able to override the default hidden behavior on the sphinx rendered scikit-learn.org. See: https://github.com/scikit-learn/scikit-learn/issues/21755 */display: inline-block !important;position: relative;}#sk-container-id-2 div.sk-text-repr-fallback {display: none;}</style><div id=\"sk-container-id-2\" class=\"sk-top-container\"><div class=\"sk-text-repr-fallback\"><pre>LogisticRegression()</pre><b>In a Jupyter environment, please rerun this cell to show the HTML representation or trust the notebook. <br />On GitHub, the HTML representation is unable to render, please try loading this page with nbviewer.org.</b></div><div class=\"sk-container\" hidden><div class=\"sk-item\"><div class=\"sk-estimator sk-toggleable\"><input class=\"sk-toggleable__control sk-hidden--visually\" id=\"sk-estimator-id-2\" type=\"checkbox\" checked><label for=\"sk-estimator-id-2\" class=\"sk-toggleable__label sk-toggleable__label-arrow\">LogisticRegression</label><div class=\"sk-toggleable__content\"><pre>LogisticRegression()</pre></div></div></div></div></div>"
      ],
      "text/plain": [
       "LogisticRegression()"
      ]
     },
     "execution_count": 20,
     "metadata": {},
     "output_type": "execute_result"
    }
   ],
   "source": [
    "model.fit(x_train,y_train)"
   ]
  },
  {
   "cell_type": "code",
   "execution_count": 21,
   "id": "31008bf2",
   "metadata": {
    "execution": {
     "iopub.execute_input": "2023-10-08T09:48:52.631452Z",
     "iopub.status.busy": "2023-10-08T09:48:52.630918Z",
     "iopub.status.idle": "2023-10-08T09:48:53.056369Z",
     "shell.execute_reply": "2023-10-08T09:48:53.055174Z"
    },
    "papermill": {
     "duration": 0.454638,
     "end_time": "2023-10-08T09:48:53.058974",
     "exception": false,
     "start_time": "2023-10-08T09:48:52.604336",
     "status": "completed"
    },
    "tags": []
   },
   "outputs": [
    {
     "name": "stdout",
     "output_type": "stream",
     "text": [
      "Classification Report:Test Data\n",
      "              precision    recall  f1-score   support\n",
      "\n",
      "           0       0.96      0.98      0.97     84918\n",
      "           1       0.98      0.96      0.97     85034\n",
      "\n",
      "    accuracy                           0.97    169952\n",
      "   macro avg       0.97      0.97      0.97    169952\n",
      "weighted avg       0.97      0.97      0.97    169952\n",
      "\n"
     ]
    }
   ],
   "source": [
    "y_pred=model.predict(x_test)\n",
    "class_rep = classification_report(y_test, y_pred)\n",
    "print(\"Classification Report:Test Data\")\n",
    "print(class_rep)"
   ]
  },
  {
   "cell_type": "code",
   "execution_count": 22,
   "id": "ec42072e",
   "metadata": {
    "execution": {
     "iopub.execute_input": "2023-10-08T09:48:53.089236Z",
     "iopub.status.busy": "2023-10-08T09:48:53.087888Z",
     "iopub.status.idle": "2023-10-08T09:48:54.011925Z",
     "shell.execute_reply": "2023-10-08T09:48:54.010702Z"
    },
    "papermill": {
     "duration": 0.941725,
     "end_time": "2023-10-08T09:48:54.014360",
     "exception": false,
     "start_time": "2023-10-08T09:48:53.072635",
     "status": "completed"
    },
    "tags": []
   },
   "outputs": [
    {
     "name": "stdout",
     "output_type": "stream",
     "text": [
      "Classification Report:Train Data\n",
      "              precision    recall  f1-score   support\n",
      "\n",
      "           0       0.96      0.98      0.97    198335\n",
      "           1       0.98      0.96      0.97    198219\n",
      "\n",
      "    accuracy                           0.97    396554\n",
      "   macro avg       0.97      0.97      0.97    396554\n",
      "weighted avg       0.97      0.97      0.97    396554\n",
      "\n"
     ]
    }
   ],
   "source": [
    "y_pred_train=model.predict(x_train)\n",
    "class_rep = classification_report(y_train, y_pred_train)\n",
    "print(\"Classification Report:Train Data\")\n",
    "print(class_rep)"
   ]
  },
  {
   "cell_type": "code",
   "execution_count": 23,
   "id": "1d52a30f",
   "metadata": {
    "execution": {
     "iopub.execute_input": "2023-10-08T09:48:54.043897Z",
     "iopub.status.busy": "2023-10-08T09:48:54.042982Z",
     "iopub.status.idle": "2023-10-08T09:48:54.081574Z",
     "shell.execute_reply": "2023-10-08T09:48:54.080265Z"
    },
    "papermill": {
     "duration": 0.055876,
     "end_time": "2023-10-08T09:48:54.083858",
     "exception": false,
     "start_time": "2023-10-08T09:48:54.027982",
     "status": "completed"
    },
    "tags": []
   },
   "outputs": [
    {
     "name": "stdout",
     "output_type": "stream",
     "text": [
      "Confusion Matrix\n",
      " [[83192  1726]\n",
      " [ 3319 81715]]\n"
     ]
    }
   ],
   "source": [
    "cm=confusion_matrix(y_test,y_pred)\n",
    "print('Confusion Matrix\\n',cm)"
   ]
  },
  {
   "cell_type": "code",
   "execution_count": 24,
   "id": "10f40e62",
   "metadata": {
    "execution": {
     "iopub.execute_input": "2023-10-08T09:48:54.113128Z",
     "iopub.status.busy": "2023-10-08T09:48:54.112752Z",
     "iopub.status.idle": "2023-10-08T09:48:54.331428Z",
     "shell.execute_reply": "2023-10-08T09:48:54.330275Z"
    },
    "papermill": {
     "duration": 0.236196,
     "end_time": "2023-10-08T09:48:54.334065",
     "exception": false,
     "start_time": "2023-10-08T09:48:54.097869",
     "status": "completed"
    },
    "tags": []
   },
   "outputs": [
    {
     "data": {
      "image/png": "[encoded data removed]",
      "text/plain": [
       "<Figure size 800x600 with 1 Axes>"
      ]
     },
     "metadata": {},
     "output_type": "display_data"
    }
   ],
   "source": [
    "from sklearn.metrics import roc_curve, auc\n",
    "\n",
    "fpr, tpr, _ = roc_curve(y_test, y_pred)\n",
    "roc_auc = auc(fpr, tpr)\n",
    "\n",
    "plt.figure(figsize=(8, 6))\n",
    "plt.plot(fpr, tpr, color='darkorange', lw=2, label='ROC curve (AUC = {:.2f})'.format(roc_auc))\n",
    "plt.plot([0, 1], [0, 1], color='navy', lw=2, linestyle='--')\n",
    "plt.xlim([0.0, 1.0])\n",
    "plt.ylim([0.0, 1.05])\n",
    "plt.xlabel('False Positive Rate')\n",
    "plt.ylabel('True Positive Rate')\n",
    "plt.title('Receiver Operating Characteristic (ROC) Curve')\n",
    "plt.legend(loc='lower right')\n",
    "plt.show()"
   ]
  },
  {
   "cell_type": "code",
   "execution_count": 25,
   "id": "b3a11bef",
   "metadata": {
    "execution": {
     "iopub.execute_input": "2023-10-08T09:48:54.366370Z",
     "iopub.status.busy": "2023-10-08T09:48:54.365454Z",
     "iopub.status.idle": "2023-10-08T09:49:24.703348Z",
     "shell.execute_reply": "2023-10-08T09:49:24.702183Z"
    },
    "papermill": {
     "duration": 30.386641,
     "end_time": "2023-10-08T09:49:24.735296",
     "exception": false,
     "start_time": "2023-10-08T09:48:54.348655",
     "status": "completed"
    },
    "tags": []
   },
   "outputs": [
    {
     "name": "stderr",
     "output_type": "stream",
     "text": [
      "/opt/conda/lib/python3.10/site-packages/sklearn/linear_model/_logistic.py:458: ConvergenceWarning: lbfgs failed to converge (status=1):\n",
      "STOP: TOTAL NO. of ITERATIONS REACHED LIMIT.\n",
      "\n",
      "Increase the number of iterations (max_iter) or scale the data as shown in:\n",
      "    https://scikit-learn.org/stable/modules/preprocessing.html\n",
      "Please also refer to the documentation for alternative solver options:\n",
      "    https://scikit-learn.org/stable/modules/linear_model.html#logistic-regression\n",
      "  n_iter_i = _check_optimize_result(\n"
     ]
    },
    {
     "name": "stdout",
     "output_type": "stream",
     "text": [
      "Fold 1: Accuracy = 0.97\n",
      "Fold 2: Accuracy = 0.97\n",
      "Fold 3: Accuracy = 0.97\n",
      "Fold 4: Accuracy = 0.97\n",
      "Fold 5: Accuracy = 0.97\n",
      "Mean Accuracy: 0.97\n",
      "Standard Deviation: 0.00\n"
     ]
    }
   ],
   "source": [
    "from sklearn.model_selection import cross_val_score\n",
    "from sklearn.model_selection import KFold\n",
    "\n",
    "num_folds = 5\n",
    "\n",
    "kf = KFold(n_splits=num_folds, shuffle=True, random_state=42)\n",
    "\n",
    "# Perform cross-validation and compute accuracy scores\n",
    "scores = cross_val_score(model, x1, y1, cv=kf, scoring='accuracy')\n",
    "\n",
    "# Print the accuracy scores for each fold\n",
    "for i, score in enumerate(scores, 1):\n",
    "    print(f'Fold {i}: Accuracy = {score:.2f}')\n",
    "\n",
    "# Calculate and print the mean and standard deviation of the accuracy scores\n",
    "mean_accuracy = np.mean(scores)\n",
    "std_accuracy = np.std(scores)\n",
    "print(f'Mean Accuracy: {mean_accuracy:.2f}')\n",
    "print(f'Standard Deviation: {std_accuracy:.2f}')"
   ]
  },
  {
   "cell_type": "code",
   "execution_count": 26,
   "id": "8dbdbde0",
   "metadata": {
    "execution": {
     "iopub.execute_input": "2023-10-08T09:49:24.787141Z",
     "iopub.status.busy": "2023-10-08T09:49:24.786763Z",
     "iopub.status.idle": "2023-10-08T09:49:24.791455Z",
     "shell.execute_reply": "2023-10-08T09:49:24.790390Z"
    },
    "papermill": {
     "duration": 0.030494,
     "end_time": "2023-10-08T09:49:24.793743",
     "exception": false,
     "start_time": "2023-10-08T09:49:24.763249",
     "status": "completed"
    },
    "tags": []
   },
   "outputs": [],
   "source": [
    "from sklearn.tree import DecisionTreeClassifier"
   ]
  },
  {
   "cell_type": "code",
   "execution_count": 27,
   "id": "26a5aa0d",
   "metadata": {
    "execution": {
     "iopub.execute_input": "2023-10-08T09:49:24.825740Z",
     "iopub.status.busy": "2023-10-08T09:49:24.824933Z",
     "iopub.status.idle": "2023-10-08T09:49:24.829523Z",
     "shell.execute_reply": "2023-10-08T09:49:24.828541Z"
    },
    "papermill": {
     "duration": 0.023093,
     "end_time": "2023-10-08T09:49:24.831951",
     "exception": false,
     "start_time": "2023-10-08T09:49:24.808858",
     "status": "completed"
    },
    "tags": []
   },
   "outputs": [],
   "source": [
    "dtree=DecisionTreeClassifier()"
   ]
  },
  {
   "cell_type": "code",
   "execution_count": 28,
   "id": "f6fbf2eb",
   "metadata": {
    "execution": {
     "iopub.execute_input": "2023-10-08T09:49:24.864557Z",
     "iopub.status.busy": "2023-10-08T09:49:24.863242Z",
     "iopub.status.idle": "2023-10-08T09:50:24.121916Z",
     "shell.execute_reply": "2023-10-08T09:50:24.120770Z"
    },
    "papermill": {
     "duration": 59.292382,
     "end_time": "2023-10-08T09:50:24.139064",
     "exception": false,
     "start_time": "2023-10-08T09:49:24.846682",
     "status": "completed"
    },
    "tags": []
   },
   "outputs": [
    {
     "data": {
      "text/html": [
       "<style>#sk-container-id-3 {color: black;background-color: white;}#sk-container-id-3 pre{padding: 0;}#sk-container-id-3 div.sk-toggleable {background-color: white;}#sk-container-id-3 label.sk-toggleable__label {cursor: pointer;display: block;width: 100%;margin-bottom: 0;padding: 0.3em;box-sizing: border-box;text-align: center;}#sk-container-id-3 label.sk-toggleable__label-arrow:before {content: \"▸\";float: left;margin-right: 0.25em;color: #696969;}#sk-container-id-3 label.sk-toggleable__label-arrow:hover:before {color: black;}#sk-container-id-3 div.sk-estimator:hover label.sk-toggleable__label-arrow:before {color: black;}#sk-container-id-3 div.sk-toggleable__content {max-height: 0;max-width: 0;overflow: hidden;text-align: left;background-color: #f0f8ff;}#sk-container-id-3 div.sk-toggleable__content pre {margin: 0.2em;color: black;border-radius: 0.25em;background-color: #f0f8ff;}#sk-container-id-3 input.sk-toggleable__control:checked~div.sk-toggleable__content {max-height: 200px;max-width: 100%;overflow: auto;}#sk-container-id-3 input.sk-toggleable__control:checked~label.sk-toggleable__label-arrow:before {content: \"▾\";}#sk-container-id-3 div.sk-estimator input.sk-toggleable__control:checked~label.sk-toggleable__label {background-color: #d4ebff;}#sk-container-id-3 div.sk-label input.sk-toggleable__control:checked~label.sk-toggleable__label {background-color: #d4ebff;}#sk-container-id-3 input.sk-hidden--visually {border: 0;clip: rect(1px 1px 1px 1px);clip: rect(1px, 1px, 1px, 1px);height: 1px;margin: -1px;overflow: hidden;padding: 0;position: absolute;width: 1px;}#sk-container-id-3 div.sk-estimator {font-family: monospace;background-color: #f0f8ff;border: 1px dotted black;border-radius: 0.25em;box-sizing: border-box;margin-bottom: 0.5em;}#sk-container-id-3 div.sk-estimator:hover {background-color: #d4ebff;}#sk-container-id-3 div.sk-parallel-item::after {content: \"\";width: 100%;border-bottom: 1px solid gray;flex-grow: 1;}#sk-container-id-3 div.sk-label:hover label.sk-toggleable__label {background-color: #d4ebff;}#sk-container-id-3 div.sk-serial::before {content: \"\";position: absolute;border-left: 1px solid gray;box-sizing: border-box;top: 0;bottom: 0;left: 50%;z-index: 0;}#sk-container-id-3 div.sk-serial {display: flex;flex-direction: column;align-items: center;background-color: white;padding-right: 0.2em;padding-left: 0.2em;position: relative;}#sk-container-id-3 div.sk-item {position: relative;z-index: 1;}#sk-container-id-3 div.sk-parallel {display: flex;align-items: stretch;justify-content: center;background-color: white;position: relative;}#sk-container-id-3 div.sk-item::before, #sk-container-id-3 div.sk-parallel-item::before {content: \"\";position: absolute;border-left: 1px solid gray;box-sizing: border-box;top: 0;bottom: 0;left: 50%;z-index: -1;}#sk-container-id-3 div.sk-parallel-item {display: flex;flex-direction: column;z-index: 1;position: relative;background-color: white;}#sk-container-id-3 div.sk-parallel-item:first-child::after {align-self: flex-end;width: 50%;}#sk-container-id-3 div.sk-parallel-item:last-child::after {align-self: flex-start;width: 50%;}#sk-container-id-3 div.sk-parallel-item:only-child::after {width: 0;}#sk-container-id-3 div.sk-dashed-wrapped {border: 1px dashed gray;margin: 0 0.4em 0.5em 0.4em;box-sizing: border-box;padding-bottom: 0.4em;background-color: white;}#sk-container-id-3 div.sk-label label {font-family: monospace;font-weight: bold;display: inline-block;line-height: 1.2em;}#sk-container-id-3 div.sk-label-container {text-align: center;}#sk-container-id-3 div.sk-container {/* jupyter's `normalize.less` sets `[hidden] { display: none; }` but bootstrap.min.css set `[hidden] { display: none !important; }` so we also need the `!important` here to be able to override the default hidden behavior on the sphinx rendered scikit-learn.org. See: https://github.com/scikit-learn/scikit-learn/issues/21755 */display: inline-block !important;position: relative;}#sk-container-id-3 div.sk-text-repr-fallback {display: none;}</style><div id=\"sk-container-id-3\" class=\"sk-top-container\"><div class=\"sk-text-repr-fallback\"><pre>DecisionTreeClassifier()</pre><b>In a Jupyter environment, please rerun this cell to show the HTML representation or trust the notebook. <br />On GitHub, the HTML representation is unable to render, please try loading this page with nbviewer.org.</b></div><div class=\"sk-container\" hidden><div class=\"sk-item\"><div class=\"sk-estimator sk-toggleable\"><input class=\"sk-toggleable__control sk-hidden--visually\" id=\"sk-estimator-id-3\" type=\"checkbox\" checked><label for=\"sk-estimator-id-3\" class=\"sk-toggleable__label sk-toggleable__label-arrow\">DecisionTreeClassifier</label><div class=\"sk-toggleable__content\"><pre>DecisionTreeClassifier()</pre></div></div></div></div></div>"
      ],
      "text/plain": [
       "DecisionTreeClassifier()"
      ]
     },
     "execution_count": 28,
     "metadata": {},
     "output_type": "execute_result"
    }
   ],
   "source": [
    "dtree.fit(x_train,y_train)"
   ]
  },
  {
   "cell_type": "code",
   "execution_count": 29,
   "id": "dbc93929",
   "metadata": {
    "execution": {
     "iopub.execute_input": "2023-10-08T09:50:24.169226Z",
     "iopub.status.busy": "2023-10-08T09:50:24.168869Z",
     "iopub.status.idle": "2023-10-08T09:50:24.557174Z",
     "shell.execute_reply": "2023-10-08T09:50:24.555929Z"
    },
    "papermill": {
     "duration": 0.406664,
     "end_time": "2023-10-08T09:50:24.559877",
     "exception": false,
     "start_time": "2023-10-08T09:50:24.153213",
     "status": "completed"
    },
    "tags": []
   },
   "outputs": [
    {
     "name": "stdout",
     "output_type": "stream",
     "text": [
      "Classification Report:Test Data\n",
      "              precision    recall  f1-score   support\n",
      "\n",
      "           0       1.00      1.00      1.00     84918\n",
      "           1       1.00      1.00      1.00     85034\n",
      "\n",
      "    accuracy                           1.00    169952\n",
      "   macro avg       1.00      1.00      1.00    169952\n",
      "weighted avg       1.00      1.00      1.00    169952\n",
      "\n"
     ]
    }
   ],
   "source": [
    "y_pred=dtree.predict(x_test)\n",
    "class_rep = classification_report(y_test, y_pred)\n",
    "print(\"Classification Report:Test Data\")\n",
    "print(class_rep)"
   ]
  },
  {
   "cell_type": "code",
   "execution_count": 30,
   "id": "0b00145b",
   "metadata": {
    "execution": {
     "iopub.execute_input": "2023-10-08T09:50:24.592747Z",
     "iopub.status.busy": "2023-10-08T09:50:24.591768Z",
     "iopub.status.idle": "2023-10-08T09:50:25.525220Z",
     "shell.execute_reply": "2023-10-08T09:50:25.523959Z"
    },
    "papermill": {
     "duration": 0.95237,
     "end_time": "2023-10-08T09:50:25.527552",
     "exception": false,
     "start_time": "2023-10-08T09:50:24.575182",
     "status": "completed"
    },
    "tags": []
   },
   "outputs": [
    {
     "name": "stdout",
     "output_type": "stream",
     "text": [
      "Classification Report:Train Data\n",
      "              precision    recall  f1-score   support\n",
      "\n",
      "           0       1.00      1.00      1.00    198335\n",
      "           1       1.00      1.00      1.00    198219\n",
      "\n",
      "    accuracy                           1.00    396554\n",
      "   macro avg       1.00      1.00      1.00    396554\n",
      "weighted avg       1.00      1.00      1.00    396554\n",
      "\n"
     ]
    }
   ],
   "source": [
    "y_pred_train=dtree.predict(x_train)\n",
    "class_rep = classification_report(y_train, y_pred_train)\n",
    "print(\"Classification Report:Train Data\")\n",
    "print(class_rep)"
   ]
  },
  {
   "cell_type": "code",
   "execution_count": 31,
   "id": "d1a839ed",
   "metadata": {
    "execution": {
     "iopub.execute_input": "2023-10-08T09:50:25.560273Z",
     "iopub.status.busy": "2023-10-08T09:50:25.559839Z",
     "iopub.status.idle": "2023-10-08T09:50:25.821278Z",
     "shell.execute_reply": "2023-10-08T09:50:25.820103Z"
    },
    "papermill": {
     "duration": 0.280853,
     "end_time": "2023-10-08T09:50:25.823536",
     "exception": false,
     "start_time": "2023-10-08T09:50:25.542683",
     "status": "completed"
    },
    "tags": []
   },
   "outputs": [
    {
     "data": {
      "image/png": "[encoded data removed]",
      "text/plain": [
       "<Figure size 800x600 with 1 Axes>"
      ]
     },
     "metadata": {},
     "output_type": "display_data"
    }
   ],
   "source": [
    "from sklearn.metrics import roc_curve, auc\n",
    "\n",
    "fpr, tpr, _ = roc_curve(y_test, y_pred)\n",
    "roc_auc = auc(fpr, tpr)\n",
    "\n",
    "plt.figure(figsize=(8, 6))\n",
    "plt.plot(fpr, tpr, color='darkorange', lw=2, label='ROC curve (AUC = {:.2f})'.format(roc_auc))\n",
    "plt.plot([0, 1], [0, 1], color='navy', lw=2, linestyle='--')\n",
    "plt.xlim([0.0, 1.0])\n",
    "plt.ylim([0.0, 1.05])\n",
    "plt.xlabel('False Positive Rate')\n",
    "plt.ylabel('True Positive Rate')\n",
    "plt.title('Receiver Operating Characteristic (ROC) Curve')\n",
    "plt.legend(loc='lower right')\n",
    "plt.show()"
   ]
  },
  {
   "cell_type": "code",
   "execution_count": 32,
   "id": "80bd358f",
   "metadata": {
    "execution": {
     "iopub.execute_input": "2023-10-08T09:50:25.857434Z",
     "iopub.status.busy": "2023-10-08T09:50:25.856986Z",
     "iopub.status.idle": "2023-10-08T09:55:41.955659Z",
     "shell.execute_reply": "2023-10-08T09:55:41.954569Z"
    },
    "papermill": {
     "duration": 316.134113,
     "end_time": "2023-10-08T09:55:41.973140",
     "exception": false,
     "start_time": "2023-10-08T09:50:25.839027",
     "status": "completed"
    },
    "tags": []
   },
   "outputs": [
    {
     "name": "stdout",
     "output_type": "stream",
     "text": [
      "Fold 1: Accuracy = 1.00\n",
      "Fold 2: Accuracy = 1.00\n",
      "Fold 3: Accuracy = 1.00\n",
      "Fold 4: Accuracy = 1.00\n",
      "Fold 5: Accuracy = 1.00\n",
      "Mean Accuracy: 1.00\n",
      "Standard Deviation: 0.00\n"
     ]
    }
   ],
   "source": [
    "\n",
    "\n",
    "num_folds = 5\n",
    "\n",
    "kf = KFold(n_splits=num_folds, shuffle=True, random_state=42)\n",
    "\n",
    "# Perform cross-validation and compute accuracy scores\n",
    "scores = cross_val_score(dtree, x1, y1, cv=kf, scoring='accuracy')\n",
    "\n",
    "# Print the accuracy scores for each fold\n",
    "for i, score in enumerate(scores, 1):\n",
    "    print(f'Fold {i}: Accuracy = {score:.2f}')\n",
    "\n",
    "# Calculate and print the mean and standard deviation of the accuracy scores\n",
    "mean_accuracy = np.mean(scores)\n",
    "std_accuracy = np.std(scores)\n",
    "print(f'Mean Accuracy: {mean_accuracy:.2f}')\n",
    "print(f'Standard Deviation: {std_accuracy:.2f}')"
   ]
  },
  {
   "cell_type": "code",
   "execution_count": 33,
   "id": "6bc774ec",
   "metadata": {
    "execution": {
     "iopub.execute_input": "2023-10-08T09:55:42.005559Z",
     "iopub.status.busy": "2023-10-08T09:55:42.004722Z",
     "iopub.status.idle": "2023-10-08T09:55:42.009162Z",
     "shell.execute_reply": "2023-10-08T09:55:42.008318Z"
    },
    "papermill": {
     "duration": 0.022804,
     "end_time": "2023-10-08T09:55:42.011057",
     "exception": false,
     "start_time": "2023-10-08T09:55:41.988253",
     "status": "completed"
    },
    "tags": []
   },
   "outputs": [],
   "source": [
    "#overfitting pruning decision tree\n",
    "dtree=DecisionTreeClassifier(max_depth=8)\n"
   ]
  },
  {
   "cell_type": "code",
   "execution_count": 34,
   "id": "bb722bc9",
   "metadata": {
    "execution": {
     "iopub.execute_input": "2023-10-08T09:55:42.045671Z",
     "iopub.status.busy": "2023-10-08T09:55:42.045003Z",
     "iopub.status.idle": "2023-10-08T09:56:03.885298Z",
     "shell.execute_reply": "2023-10-08T09:56:03.884167Z"
    },
    "papermill": {
     "duration": 21.859137,
     "end_time": "2023-10-08T09:56:03.887672",
     "exception": false,
     "start_time": "2023-10-08T09:55:42.028535",
     "status": "completed"
    },
    "tags": []
   },
   "outputs": [
    {
     "data": {
      "text/html": [
       "<style>#sk-container-id-4 {color: black;background-color: white;}#sk-container-id-4 pre{padding: 0;}#sk-container-id-4 div.sk-toggleable {background-color: white;}#sk-container-id-4 label.sk-toggleable__label {cursor: pointer;display: block;width: 100%;margin-bottom: 0;padding: 0.3em;box-sizing: border-box;text-align: center;}#sk-container-id-4 label.sk-toggleable__label-arrow:before {content: \"▸\";float: left;margin-right: 0.25em;color: #696969;}#sk-container-id-4 label.sk-toggleable__label-arrow:hover:before {color: black;}#sk-container-id-4 div.sk-estimator:hover label.sk-toggleable__label-arrow:before {color: black;}#sk-container-id-4 div.sk-toggleable__content {max-height: 0;max-width: 0;overflow: hidden;text-align: left;background-color: #f0f8ff;}#sk-container-id-4 div.sk-toggleable__content pre {margin: 0.2em;color: black;border-radius: 0.25em;background-color: #f0f8ff;}#sk-container-id-4 input.sk-toggleable__control:checked~div.sk-toggleable__content {max-height: 200px;max-width: 100%;overflow: auto;}#sk-container-id-4 input.sk-toggleable__control:checked~label.sk-toggleable__label-arrow:before {content: \"▾\";}#sk-container-id-4 div.sk-estimator input.sk-toggleable__control:checked~label.sk-toggleable__label {background-color: #d4ebff;}#sk-container-id-4 div.sk-label input.sk-toggleable__control:checked~label.sk-toggleable__label {background-color: #d4ebff;}#sk-container-id-4 input.sk-hidden--visually {border: 0;clip: rect(1px 1px 1px 1px);clip: rect(1px, 1px, 1px, 1px);height: 1px;margin: -1px;overflow: hidden;padding: 0;position: absolute;width: 1px;}#sk-container-id-4 div.sk-estimator {font-family: monospace;background-color: #f0f8ff;border: 1px dotted black;border-radius: 0.25em;box-sizing: border-box;margin-bottom: 0.5em;}#sk-container-id-4 div.sk-estimator:hover {background-color: #d4ebff;}#sk-container-id-4 div.sk-parallel-item::after {content: \"\";width: 100%;border-bottom: 1px solid gray;flex-grow: 1;}#sk-container-id-4 div.sk-label:hover label.sk-toggleable__label {background-color: #d4ebff;}#sk-container-id-4 div.sk-serial::before {content: \"\";position: absolute;border-left: 1px solid gray;box-sizing: border-box;top: 0;bottom: 0;left: 50%;z-index: 0;}#sk-container-id-4 div.sk-serial {display: flex;flex-direction: column;align-items: center;background-color: white;padding-right: 0.2em;padding-left: 0.2em;position: relative;}#sk-container-id-4 div.sk-item {position: relative;z-index: 1;}#sk-container-id-4 div.sk-parallel {display: flex;align-items: stretch;justify-content: center;background-color: white;position: relative;}#sk-container-id-4 div.sk-item::before, #sk-container-id-4 div.sk-parallel-item::before {content: \"\";position: absolute;border-left: 1px solid gray;box-sizing: border-box;top: 0;bottom: 0;left: 50%;z-index: -1;}#sk-container-id-4 div.sk-parallel-item {display: flex;flex-direction: column;z-index: 1;position: relative;background-color: white;}#sk-container-id-4 div.sk-parallel-item:first-child::after {align-self: flex-end;width: 50%;}#sk-container-id-4 div.sk-parallel-item:last-child::after {align-self: flex-start;width: 50%;}#sk-container-id-4 div.sk-parallel-item:only-child::after {width: 0;}#sk-container-id-4 div.sk-dashed-wrapped {border: 1px dashed gray;margin: 0 0.4em 0.5em 0.4em;box-sizing: border-box;padding-bottom: 0.4em;background-color: white;}#sk-container-id-4 div.sk-label label {font-family: monospace;font-weight: bold;display: inline-block;line-height: 1.2em;}#sk-container-id-4 div.sk-label-container {text-align: center;}#sk-container-id-4 div.sk-container {/* jupyter's `normalize.less` sets `[hidden] { display: none; }` but bootstrap.min.css set `[hidden] { display: none !important; }` so we also need the `!important` here to be able to override the default hidden behavior on the sphinx rendered scikit-learn.org. See: https://github.com/scikit-learn/scikit-learn/issues/21755 */display: inline-block !important;position: relative;}#sk-container-id-4 div.sk-text-repr-fallback {display: none;}</style><div id=\"sk-container-id-4\" class=\"sk-top-container\"><div class=\"sk-text-repr-fallback\"><pre>DecisionTreeClassifier(max_depth=8)</pre><b>In a Jupyter environment, please rerun this cell to show the HTML representation or trust the notebook. <br />On GitHub, the HTML representation is unable to render, please try loading this page with nbviewer.org.</b></div><div class=\"sk-container\" hidden><div class=\"sk-item\"><div class=\"sk-estimator sk-toggleable\"><input class=\"sk-toggleable__control sk-hidden--visually\" id=\"sk-estimator-id-4\" type=\"checkbox\" checked><label for=\"sk-estimator-id-4\" class=\"sk-toggleable__label sk-toggleable__label-arrow\">DecisionTreeClassifier</label><div class=\"sk-toggleable__content\"><pre>DecisionTreeClassifier(max_depth=8)</pre></div></div></div></div></div>"
      ],
      "text/plain": [
       "DecisionTreeClassifier(max_depth=8)"
      ]
     },
     "execution_count": 34,
     "metadata": {},
     "output_type": "execute_result"
    }
   ],
   "source": [
    "dtree.fit(x_train,y_train)"
   ]
  },
  {
   "cell_type": "code",
   "execution_count": 35,
   "id": "3c825d54",
   "metadata": {
    "execution": {
     "iopub.execute_input": "2023-10-08T09:56:03.922402Z",
     "iopub.status.busy": "2023-10-08T09:56:03.921705Z",
     "iopub.status.idle": "2023-10-08T09:56:04.288152Z",
     "shell.execute_reply": "2023-10-08T09:56:04.286851Z"
    },
    "papermill": {
     "duration": 0.386576,
     "end_time": "2023-10-08T09:56:04.290691",
     "exception": false,
     "start_time": "2023-10-08T09:56:03.904115",
     "status": "completed"
    },
    "tags": []
   },
   "outputs": [
    {
     "name": "stdout",
     "output_type": "stream",
     "text": [
      "Classification Report:Test Data\n",
      "              precision    recall  f1-score   support\n",
      "\n",
      "           0       0.98      0.98      0.98     84918\n",
      "           1       0.98      0.98      0.98     85034\n",
      "\n",
      "    accuracy                           0.98    169952\n",
      "   macro avg       0.98      0.98      0.98    169952\n",
      "weighted avg       0.98      0.98      0.98    169952\n",
      "\n"
     ]
    }
   ],
   "source": [
    "y_pred=dtree.predict(x_test)\n",
    "class_rep = classification_report(y_test, y_pred)\n",
    "print(\"Classification Report:Test Data\")\n",
    "print(class_rep)"
   ]
  },
  {
   "cell_type": "code",
   "execution_count": 36,
   "id": "fa23d10e",
   "metadata": {
    "execution": {
     "iopub.execute_input": "2023-10-08T09:56:04.324967Z",
     "iopub.status.busy": "2023-10-08T09:56:04.324510Z",
     "iopub.status.idle": "2023-10-08T09:56:05.208111Z",
     "shell.execute_reply": "2023-10-08T09:56:05.206447Z"
    },
    "papermill": {
     "duration": 0.904006,
     "end_time": "2023-10-08T09:56:05.210718",
     "exception": false,
     "start_time": "2023-10-08T09:56:04.306712",
     "status": "completed"
    },
    "tags": []
   },
   "outputs": [
    {
     "name": "stdout",
     "output_type": "stream",
     "text": [
      "Classification Report:Train Data\n",
      "              precision    recall  f1-score   support\n",
      "\n",
      "           0       0.98      0.98      0.98    198335\n",
      "           1       0.98      0.98      0.98    198219\n",
      "\n",
      "    accuracy                           0.98    396554\n",
      "   macro avg       0.98      0.98      0.98    396554\n",
      "weighted avg       0.98      0.98      0.98    396554\n",
      "\n"
     ]
    }
   ],
   "source": [
    "y_pred_train=dtree.predict(x_train)\n",
    "class_rep = classification_report(y_train, y_pred_train)\n",
    "print(\"Classification Report:Train Data\")\n",
    "print(class_rep)"
   ]
  },
  {
   "cell_type": "code",
   "execution_count": 37,
   "id": "1c500601",
   "metadata": {
    "execution": {
     "iopub.execute_input": "2023-10-08T09:56:05.245113Z",
     "iopub.status.busy": "2023-10-08T09:56:05.244695Z",
     "iopub.status.idle": "2023-10-08T09:57:56.148999Z",
     "shell.execute_reply": "2023-10-08T09:57:56.147931Z"
    },
    "papermill": {
     "duration": 110.942063,
     "end_time": "2023-10-08T09:57:56.169061",
     "exception": false,
     "start_time": "2023-10-08T09:56:05.226998",
     "status": "completed"
    },
    "tags": []
   },
   "outputs": [
    {
     "name": "stdout",
     "output_type": "stream",
     "text": [
      "Fold 1: Accuracy = 0.98\n",
      "Fold 2: Accuracy = 0.98\n",
      "Fold 3: Accuracy = 0.98\n",
      "Fold 4: Accuracy = 0.98\n",
      "Fold 5: Accuracy = 0.98\n",
      "Mean Accuracy: 0.98\n"
     ]
    }
   ],
   "source": [
    "\n",
    "num_folds = 5\n",
    "\n",
    "kf = KFold(n_splits=num_folds, shuffle=True, random_state=42)\n",
    "\n",
    "# Perform cross-validation and compute accuracy scores\n",
    "scores = cross_val_score(dtree, x1, y1, cv=kf, scoring='accuracy')\n",
    "\n",
    "# Print the accuracy scores for each fold\n",
    "for i, score in enumerate(scores, 1):\n",
    "    print(f'Fold {i}: Accuracy = {score:.2f}')\n",
    "\n",
    "# Calculate and print the mean and standard deviation of the accuracy scores\n",
    "mean_accuracy = np.mean(scores)\n",
    "std_accuracy = np.std(scores)\n",
    "print(f'Mean Accuracy: {mean_accuracy:.2f}')"
   ]
  },
  {
   "cell_type": "code",
   "execution_count": 38,
   "id": "b5f8fc91",
   "metadata": {
    "execution": {
     "iopub.execute_input": "2023-10-08T09:57:56.206747Z",
     "iopub.status.busy": "2023-10-08T09:57:56.205323Z",
     "iopub.status.idle": "2023-10-08T09:57:56.454674Z",
     "shell.execute_reply": "2023-10-08T09:57:56.453439Z"
    },
    "papermill": {
     "duration": 0.27083,
     "end_time": "2023-10-08T09:57:56.457300",
     "exception": false,
     "start_time": "2023-10-08T09:57:56.186470",
     "status": "completed"
    },
    "tags": []
   },
   "outputs": [
    {
     "data": {
      "image/png": "[encoded data removed]",
      "text/plain": [
       "<Figure size 800x600 with 1 Axes>"
      ]
     },
     "metadata": {},
     "output_type": "display_data"
    }
   ],
   "source": [
    "from sklearn.metrics import roc_curve, auc\n",
    "\n",
    "fpr, tpr, _ = roc_curve(y_test, y_pred)\n",
    "roc_auc = auc(fpr, tpr)\n",
    "\n",
    "plt.figure(figsize=(8, 6))\n",
    "plt.plot(fpr, tpr, color='darkorange', lw=2, label='ROC curve (AUC = {:.2f})'.format(roc_auc))\n",
    "plt.plot([0, 1], [0, 1], color='navy', lw=2, linestyle='--')\n",
    "plt.xlim([0.0, 1.0])\n",
    "plt.ylim([0.0, 1.05])\n",
    "plt.xlabel('False Positive Rate')\n",
    "plt.ylabel('True Positive Rate')\n",
    "plt.title('Receiver Operating Characteristic (ROC) Curve')\n",
    "plt.legend(loc='lower right')\n",
    "plt.show()"
   ]
  },
  {
   "cell_type": "code",
   "execution_count": 39,
   "id": "dd705b64",
   "metadata": {
    "execution": {
     "iopub.execute_input": "2023-10-08T09:57:56.495206Z",
     "iopub.status.busy": "2023-10-08T09:57:56.494351Z",
     "iopub.status.idle": "2023-10-08T09:57:56.501230Z",
     "shell.execute_reply": "2023-10-08T09:57:56.500498Z"
    },
    "papermill": {
     "duration": 0.02785,
     "end_time": "2023-10-08T09:57:56.503286",
     "exception": false,
     "start_time": "2023-10-08T09:57:56.475436",
     "status": "completed"
    },
    "tags": []
   },
   "outputs": [],
   "source": [
    "feature_importances = dtree.feature_importances_\n",
    "\n",
    "# Create a DataFrame for easier visualization (optional but helpful)\n",
    "importance_df = pd.DataFrame({'Feature': x1.columns, 'Importance': feature_importances})\n",
    "\n",
    "# Sort the features by importance score\n",
    "importance_df = importance_df.sort_values(by='Importance', ascending=False)"
   ]
  },
  {
   "cell_type": "code",
   "execution_count": 40,
   "id": "49c38142",
   "metadata": {
    "execution": {
     "iopub.execute_input": "2023-10-08T09:57:56.541205Z",
     "iopub.status.busy": "2023-10-08T09:57:56.539916Z",
     "iopub.status.idle": "2023-10-08T09:57:56.553212Z",
     "shell.execute_reply": "2023-10-08T09:57:56.552046Z"
    },
    "papermill": {
     "duration": 0.035071,
     "end_time": "2023-10-08T09:57:56.555819",
     "exception": false,
     "start_time": "2023-10-08T09:57:56.520748",
     "status": "completed"
    },
    "tags": []
   },
   "outputs": [
    {
     "data": {
      "text/html": [
       "<div>\n",
       "<style scoped>\n",
       "    .dataframe tbody tr th:only-of-type {\n",
       "        vertical-align: middle;\n",
       "    }\n",
       "\n",
       "    .dataframe tbody tr th {\n",
       "        vertical-align: top;\n",
       "    }\n",
       "\n",
       "    .dataframe thead th {\n",
       "        text-align: right;\n",
       "    }\n",
       "</style>\n",
       "<table border=\"1\" class=\"dataframe\">\n",
       "  <thead>\n",
       "    <tr style=\"text-align: right;\">\n",
       "      <th></th>\n",
       "      <th>Feature</th>\n",
       "      <th>Importance</th>\n",
       "    </tr>\n",
       "  </thead>\n",
       "  <tbody>\n",
       "    <tr>\n",
       "      <th>14</th>\n",
       "      <td>V14</td>\n",
       "      <td>0.843660</td>\n",
       "    </tr>\n",
       "    <tr>\n",
       "      <th>4</th>\n",
       "      <td>V4</td>\n",
       "      <td>0.041744</td>\n",
       "    </tr>\n",
       "    <tr>\n",
       "      <th>17</th>\n",
       "      <td>V17</td>\n",
       "      <td>0.030094</td>\n",
       "    </tr>\n",
       "    <tr>\n",
       "      <th>12</th>\n",
       "      <td>V12</td>\n",
       "      <td>0.021767</td>\n",
       "    </tr>\n",
       "    <tr>\n",
       "      <th>0</th>\n",
       "      <td>Time</td>\n",
       "      <td>0.008715</td>\n",
       "    </tr>\n",
       "    <tr>\n",
       "      <th>3</th>\n",
       "      <td>V3</td>\n",
       "      <td>0.008430</td>\n",
       "    </tr>\n",
       "    <tr>\n",
       "      <th>1</th>\n",
       "      <td>V1</td>\n",
       "      <td>0.005674</td>\n",
       "    </tr>\n",
       "    <tr>\n",
       "      <th>13</th>\n",
       "      <td>V13</td>\n",
       "      <td>0.005013</td>\n",
       "    </tr>\n",
       "    <tr>\n",
       "      <th>11</th>\n",
       "      <td>V11</td>\n",
       "      <td>0.004378</td>\n",
       "    </tr>\n",
       "    <tr>\n",
       "      <th>15</th>\n",
       "      <td>V15</td>\n",
       "      <td>0.003618</td>\n",
       "    </tr>\n",
       "    <tr>\n",
       "      <th>10</th>\n",
       "      <td>V10</td>\n",
       "      <td>0.003555</td>\n",
       "    </tr>\n",
       "    <tr>\n",
       "      <th>8</th>\n",
       "      <td>V8</td>\n",
       "      <td>0.003222</td>\n",
       "    </tr>\n",
       "    <tr>\n",
       "      <th>21</th>\n",
       "      <td>V21</td>\n",
       "      <td>0.002898</td>\n",
       "    </tr>\n",
       "    <tr>\n",
       "      <th>29</th>\n",
       "      <td>Amount</td>\n",
       "      <td>0.002622</td>\n",
       "    </tr>\n",
       "    <tr>\n",
       "      <th>18</th>\n",
       "      <td>V18</td>\n",
       "      <td>0.002533</td>\n",
       "    </tr>\n",
       "    <tr>\n",
       "      <th>23</th>\n",
       "      <td>V23</td>\n",
       "      <td>0.002025</td>\n",
       "    </tr>\n",
       "    <tr>\n",
       "      <th>16</th>\n",
       "      <td>V16</td>\n",
       "      <td>0.001788</td>\n",
       "    </tr>\n",
       "    <tr>\n",
       "      <th>28</th>\n",
       "      <td>V28</td>\n",
       "      <td>0.001407</td>\n",
       "    </tr>\n",
       "    <tr>\n",
       "      <th>19</th>\n",
       "      <td>V19</td>\n",
       "      <td>0.001291</td>\n",
       "    </tr>\n",
       "    <tr>\n",
       "      <th>7</th>\n",
       "      <td>V7</td>\n",
       "      <td>0.001187</td>\n",
       "    </tr>\n",
       "    <tr>\n",
       "      <th>20</th>\n",
       "      <td>V20</td>\n",
       "      <td>0.000904</td>\n",
       "    </tr>\n",
       "    <tr>\n",
       "      <th>24</th>\n",
       "      <td>V24</td>\n",
       "      <td>0.000886</td>\n",
       "    </tr>\n",
       "    <tr>\n",
       "      <th>22</th>\n",
       "      <td>V22</td>\n",
       "      <td>0.000658</td>\n",
       "    </tr>\n",
       "    <tr>\n",
       "      <th>26</th>\n",
       "      <td>V26</td>\n",
       "      <td>0.000626</td>\n",
       "    </tr>\n",
       "    <tr>\n",
       "      <th>9</th>\n",
       "      <td>V9</td>\n",
       "      <td>0.000570</td>\n",
       "    </tr>\n",
       "    <tr>\n",
       "      <th>25</th>\n",
       "      <td>V25</td>\n",
       "      <td>0.000558</td>\n",
       "    </tr>\n",
       "    <tr>\n",
       "      <th>6</th>\n",
       "      <td>V6</td>\n",
       "      <td>0.000081</td>\n",
       "    </tr>\n",
       "    <tr>\n",
       "      <th>2</th>\n",
       "      <td>V2</td>\n",
       "      <td>0.000066</td>\n",
       "    </tr>\n",
       "    <tr>\n",
       "      <th>5</th>\n",
       "      <td>V5</td>\n",
       "      <td>0.000031</td>\n",
       "    </tr>\n",
       "    <tr>\n",
       "      <th>27</th>\n",
       "      <td>V27</td>\n",
       "      <td>0.000000</td>\n",
       "    </tr>\n",
       "  </tbody>\n",
       "</table>\n",
       "</div>"
      ],
      "text/plain": [
       "   Feature  Importance\n",
       "14     V14    0.843660\n",
       "4       V4    0.041744\n",
       "17     V17    0.030094\n",
       "12     V12    0.021767\n",
       "0     Time    0.008715\n",
       "3       V3    0.008430\n",
       "1       V1    0.005674\n",
       "13     V13    0.005013\n",
       "11     V11    0.004378\n",
       "15     V15    0.003618\n",
       "10     V10    0.003555\n",
       "8       V8    0.003222\n",
       "21     V21    0.002898\n",
       "29  Amount    0.002622\n",
       "18     V18    0.002533\n",
       "23     V23    0.002025\n",
       "16     V16    0.001788\n",
       "28     V28    0.001407\n",
       "19     V19    0.001291\n",
       "7       V7    0.001187\n",
       "20     V20    0.000904\n",
       "24     V24    0.000886\n",
       "22     V22    0.000658\n",
       "26     V26    0.000626\n",
       "9       V9    0.000570\n",
       "25     V25    0.000558\n",
       "6       V6    0.000081\n",
       "2       V2    0.000066\n",
       "5       V5    0.000031\n",
       "27     V27    0.000000"
      ]
     },
     "execution_count": 40,
     "metadata": {},
     "output_type": "execute_result"
    }
   ],
   "source": [
    "importance_df"
   ]
  },
  {
   "cell_type": "code",
   "execution_count": 41,
   "id": "0a3da388",
   "metadata": {
    "execution": {
     "iopub.execute_input": "2023-10-08T09:57:56.593776Z",
     "iopub.status.busy": "2023-10-08T09:57:56.593275Z",
     "iopub.status.idle": "2023-10-08T09:57:57.176297Z",
     "shell.execute_reply": "2023-10-08T09:57:57.175162Z"
    },
    "papermill": {
     "duration": 0.605032,
     "end_time": "2023-10-08T09:57:57.178464",
     "exception": false,
     "start_time": "2023-10-08T09:57:56.573432",
     "status": "completed"
    },
    "tags": []
   },
   "outputs": [
    {
     "data": {
      "image/png": "[encoded data removed]",
      "text/plain": [
       "<Figure size 1500x600 with 1 Axes>"
      ]
     },
     "metadata": {},
     "output_type": "display_data"
    }
   ],
   "source": [
    "\n",
    "\n",
    "importance_df['Importance (%)'] = (importance_df['Importance'] / importance_df['Importance'].sum()) * 100\n",
    "\n",
    "\n",
    "\n",
    "\n",
    "plt.figure(figsize=(15, 6))\n",
    "sns.set(style=\"whitegrid\")\n",
    "sns.heatmap(importance_df[['Importance (%)']].transpose(), cmap='viridis', annot=True, cbar=False)\n",
    "plt.title('Feature Importance (%)')\n",
    "plt.xlabel('Features')\n",
    "plt.ylabel('Importance (%)')\n",
    "plt.xticks(rotation=90)  # Rotate x-axis labels for better readability\n",
    "plt.show()\n"
   ]
  },
  {
   "cell_type": "code",
   "execution_count": 42,
   "id": "08e2cb7b",
   "metadata": {
    "execution": {
     "iopub.execute_input": "2023-10-08T09:57:57.215760Z",
     "iopub.status.busy": "2023-10-08T09:57:57.215355Z",
     "iopub.status.idle": "2023-10-08T09:57:57.220766Z",
     "shell.execute_reply": "2023-10-08T09:57:57.219658Z"
    },
    "papermill": {
     "duration": 0.026689,
     "end_time": "2023-10-08T09:57:57.222628",
     "exception": false,
     "start_time": "2023-10-08T09:57:57.195939",
     "status": "completed"
    },
    "tags": []
   },
   "outputs": [],
   "source": [
    "coefficients = model.coef_\n",
    "feature_importancel = abs(coefficients[0])\n",
    "sorted_indices = feature_importancel.argsort()[::-1]\n",
    "\n",
    "cm=x1.columns\n",
    "\n",
    "sorted_feature_names = [cm[i] for i in sorted_indices]"
   ]
  },
  {
   "cell_type": "code",
   "execution_count": 43,
   "id": "f3e13b59",
   "metadata": {
    "execution": {
     "iopub.execute_input": "2023-10-08T09:57:57.259110Z",
     "iopub.status.busy": "2023-10-08T09:57:57.258723Z",
     "iopub.status.idle": "2023-10-08T09:57:57.265809Z",
     "shell.execute_reply": "2023-10-08T09:57:57.264855Z"
    },
    "papermill": {
     "duration": 0.02794,
     "end_time": "2023-10-08T09:57:57.267879",
     "exception": false,
     "start_time": "2023-10-08T09:57:57.239939",
     "status": "completed"
    },
    "tags": []
   },
   "outputs": [
    {
     "data": {
      "text/plain": [
       "['V14',\n",
       " 'V3',\n",
       " 'V4',\n",
       " 'V12',\n",
       " 'V17',\n",
       " 'V10',\n",
       " 'V16',\n",
       " 'V9',\n",
       " 'V7',\n",
       " 'V11',\n",
       " 'V6',\n",
       " 'V13',\n",
       " 'V1',\n",
       " 'V15',\n",
       " 'V18',\n",
       " 'V22',\n",
       " 'V21',\n",
       " 'V8',\n",
       " 'V20',\n",
       " 'V19',\n",
       " 'V2',\n",
       " 'V25',\n",
       " 'V5',\n",
       " 'V27',\n",
       " 'V28',\n",
       " 'V23',\n",
       " 'V26',\n",
       " 'V24',\n",
       " 'Amount',\n",
       " 'Time']"
      ]
     },
     "execution_count": 43,
     "metadata": {},
     "output_type": "execute_result"
    }
   ],
   "source": [
    "sorted_feature_names"
   ]
  },
  {
   "cell_type": "markdown",
   "id": "cd1afb3c",
   "metadata": {
    "papermill": {
     "duration": 0.017772,
     "end_time": "2023-10-08T09:57:57.303287",
     "exception": false,
     "start_time": "2023-10-08T09:57:57.285515",
     "status": "completed"
    },
    "tags": []
   },
   "source": [
    "#### Amount and time are very insignificant feaure for both logistic regression and decision tree. For both V14 is important feature for both the models. Other features have no significant iportance for decision tree model."
   ]
  },
  {
   "cell_type": "markdown",
   "id": "f2e7e87f",
   "metadata": {
    "papermill": {
     "duration": 0.017586,
     "end_time": "2023-10-08T09:57:57.338846",
     "exception": false,
     "start_time": "2023-10-08T09:57:57.321260",
     "status": "completed"
    },
    "tags": []
   },
   "source": [
    "## Building XGBoost models in order to see performance on unbalanced data"
   ]
  },
  {
   "cell_type": "code",
   "execution_count": 44,
   "id": "77ffc2fb",
   "metadata": {
    "execution": {
     "iopub.execute_input": "2023-10-08T09:57:57.376892Z",
     "iopub.status.busy": "2023-10-08T09:57:57.376091Z",
     "iopub.status.idle": "2023-10-08T09:57:57.519419Z",
     "shell.execute_reply": "2023-10-08T09:57:57.518145Z"
    },
    "papermill": {
     "duration": 0.16567,
     "end_time": "2023-10-08T09:57:57.522379",
     "exception": false,
     "start_time": "2023-10-08T09:57:57.356709",
     "status": "completed"
    },
    "tags": []
   },
   "outputs": [],
   "source": [
    "x_train,x_test,y_train,y_test=train_test_split(x,y,test_size=0.3,random_state=1)"
   ]
  },
  {
   "cell_type": "code",
   "execution_count": 45,
   "id": "f9bc214e",
   "metadata": {
    "execution": {
     "iopub.execute_input": "2023-10-08T09:57:57.559836Z",
     "iopub.status.busy": "2023-10-08T09:57:57.559416Z",
     "iopub.status.idle": "2023-10-08T09:58:47.680682Z",
     "shell.execute_reply": "2023-10-08T09:58:47.679458Z"
    },
    "papermill": {
     "duration": 50.159663,
     "end_time": "2023-10-08T09:58:47.699944",
     "exception": false,
     "start_time": "2023-10-08T09:57:57.540281",
     "status": "completed"
    },
    "tags": []
   },
   "outputs": [
    {
     "data": {
      "text/html": [
       "<style>#sk-container-id-5 {color: black;background-color: white;}#sk-container-id-5 pre{padding: 0;}#sk-container-id-5 div.sk-toggleable {background-color: white;}#sk-container-id-5 label.sk-toggleable__label {cursor: pointer;display: block;width: 100%;margin-bottom: 0;padding: 0.3em;box-sizing: border-box;text-align: center;}#sk-container-id-5 label.sk-toggleable__label-arrow:before {content: \"▸\";float: left;margin-right: 0.25em;color: #696969;}#sk-container-id-5 label.sk-toggleable__label-arrow:hover:before {color: black;}#sk-container-id-5 div.sk-estimator:hover label.sk-toggleable__label-arrow:before {color: black;}#sk-container-id-5 div.sk-toggleable__content {max-height: 0;max-width: 0;overflow: hidden;text-align: left;background-color: #f0f8ff;}#sk-container-id-5 div.sk-toggleable__content pre {margin: 0.2em;color: black;border-radius: 0.25em;background-color: #f0f8ff;}#sk-container-id-5 input.sk-toggleable__control:checked~div.sk-toggleable__content {max-height: 200px;max-width: 100%;overflow: auto;}#sk-container-id-5 input.sk-toggleable__control:checked~label.sk-toggleable__label-arrow:before {content: \"▾\";}#sk-container-id-5 div.sk-estimator input.sk-toggleable__control:checked~label.sk-toggleable__label {background-color: #d4ebff;}#sk-container-id-5 div.sk-label input.sk-toggleable__control:checked~label.sk-toggleable__label {background-color: #d4ebff;}#sk-container-id-5 input.sk-hidden--visually {border: 0;clip: rect(1px 1px 1px 1px);clip: rect(1px, 1px, 1px, 1px);height: 1px;margin: -1px;overflow: hidden;padding: 0;position: absolute;width: 1px;}#sk-container-id-5 div.sk-estimator {font-family: monospace;background-color: #f0f8ff;border: 1px dotted black;border-radius: 0.25em;box-sizing: border-box;margin-bottom: 0.5em;}#sk-container-id-5 div.sk-estimator:hover {background-color: #d4ebff;}#sk-container-id-5 div.sk-parallel-item::after {content: \"\";width: 100%;border-bottom: 1px solid gray;flex-grow: 1;}#sk-container-id-5 div.sk-label:hover label.sk-toggleable__label {background-color: #d4ebff;}#sk-container-id-5 div.sk-serial::before {content: \"\";position: absolute;border-left: 1px solid gray;box-sizing: border-box;top: 0;bottom: 0;left: 50%;z-index: 0;}#sk-container-id-5 div.sk-serial {display: flex;flex-direction: column;align-items: center;background-color: white;padding-right: 0.2em;padding-left: 0.2em;position: relative;}#sk-container-id-5 div.sk-item {position: relative;z-index: 1;}#sk-container-id-5 div.sk-parallel {display: flex;align-items: stretch;justify-content: center;background-color: white;position: relative;}#sk-container-id-5 div.sk-item::before, #sk-container-id-5 div.sk-parallel-item::before {content: \"\";position: absolute;border-left: 1px solid gray;box-sizing: border-box;top: 0;bottom: 0;left: 50%;z-index: -1;}#sk-container-id-5 div.sk-parallel-item {display: flex;flex-direction: column;z-index: 1;position: relative;background-color: white;}#sk-container-id-5 div.sk-parallel-item:first-child::after {align-self: flex-end;width: 50%;}#sk-container-id-5 div.sk-parallel-item:last-child::after {align-self: flex-start;width: 50%;}#sk-container-id-5 div.sk-parallel-item:only-child::after {width: 0;}#sk-container-id-5 div.sk-dashed-wrapped {border: 1px dashed gray;margin: 0 0.4em 0.5em 0.4em;box-sizing: border-box;padding-bottom: 0.4em;background-color: white;}#sk-container-id-5 div.sk-label label {font-family: monospace;font-weight: bold;display: inline-block;line-height: 1.2em;}#sk-container-id-5 div.sk-label-container {text-align: center;}#sk-container-id-5 div.sk-container {/* jupyter's `normalize.less` sets `[hidden] { display: none; }` but bootstrap.min.css set `[hidden] { display: none !important; }` so we also need the `!important` here to be able to override the default hidden behavior on the sphinx rendered scikit-learn.org. See: https://github.com/scikit-learn/scikit-learn/issues/21755 */display: inline-block !important;position: relative;}#sk-container-id-5 div.sk-text-repr-fallback {display: none;}</style><div id=\"sk-container-id-5\" class=\"sk-top-container\"><div class=\"sk-text-repr-fallback\"><pre>XGBClassifier(base_score=None, booster=None, callbacks=None,\n",
       "              colsample_bylevel=None, colsample_bynode=None,\n",
       "              colsample_bytree=None, early_stopping_rounds=None,\n",
       "              enable_categorical=False, eval_metric=None, feature_types=None,\n",
       "              gamma=None, gpu_id=None, grow_policy=None, importance_type=None,\n",
       "              interaction_constraints=None, learning_rate=None, max_bin=None,\n",
       "              max_cat_threshold=None, max_cat_to_onehot=None,\n",
       "              max_delta_step=None, max_depth=None, max_leaves=None,\n",
       "              min_child_weight=None, missing=nan, monotone_constraints=None,\n",
       "              n_estimators=100, n_jobs=None, num_parallel_tree=None,\n",
       "              predictor=None, random_state=1, ...)</pre><b>In a Jupyter environment, please rerun this cell to show the HTML representation or trust the notebook. <br />On GitHub, the HTML representation is unable to render, please try loading this page with nbviewer.org.</b></div><div class=\"sk-container\" hidden><div class=\"sk-item\"><div class=\"sk-estimator sk-toggleable\"><input class=\"sk-toggleable__control sk-hidden--visually\" id=\"sk-estimator-id-5\" type=\"checkbox\" checked><label for=\"sk-estimator-id-5\" class=\"sk-toggleable__label sk-toggleable__label-arrow\">XGBClassifier</label><div class=\"sk-toggleable__content\"><pre>XGBClassifier(base_score=None, booster=None, callbacks=None,\n",
       "              colsample_bylevel=None, colsample_bynode=None,\n",
       "              colsample_bytree=None, early_stopping_rounds=None,\n",
       "              enable_categorical=False, eval_metric=None, feature_types=None,\n",
       "              gamma=None, gpu_id=None, grow_policy=None, importance_type=None,\n",
       "              interaction_constraints=None, learning_rate=None, max_bin=None,\n",
       "              max_cat_threshold=None, max_cat_to_onehot=None,\n",
       "              max_delta_step=None, max_depth=None, max_leaves=None,\n",
       "              min_child_weight=None, missing=nan, monotone_constraints=None,\n",
       "              n_estimators=100, n_jobs=None, num_parallel_tree=None,\n",
       "              predictor=None, random_state=1, ...)</pre></div></div></div></div></div>"
      ],
      "text/plain": [
       "XGBClassifier(base_score=None, booster=None, callbacks=None,\n",
       "              colsample_bylevel=None, colsample_bynode=None,\n",
       "              colsample_bytree=None, early_stopping_rounds=None,\n",
       "              enable_categorical=False, eval_metric=None, feature_types=None,\n",
       "              gamma=None, gpu_id=None, grow_policy=None, importance_type=None,\n",
       "              interaction_constraints=None, learning_rate=None, max_bin=None,\n",
       "              max_cat_threshold=None, max_cat_to_onehot=None,\n",
       "              max_delta_step=None, max_depth=None, max_leaves=None,\n",
       "              min_child_weight=None, missing=nan, monotone_constraints=None,\n",
       "              n_estimators=100, n_jobs=None, num_parallel_tree=None,\n",
       "              predictor=None, random_state=1, ...)"
      ]
     },
     "execution_count": 45,
     "metadata": {},
     "output_type": "execute_result"
    }
   ],
   "source": [
    "from xgboost import XGBClassifier\n",
    "xgb = XGBClassifier(random_state=1)\n",
    "xgb.fit(x_train,y_train)"
   ]
  },
  {
   "cell_type": "code",
   "execution_count": 46,
   "id": "b5d17473",
   "metadata": {
    "execution": {
     "iopub.execute_input": "2023-10-08T09:58:47.738915Z",
     "iopub.status.busy": "2023-10-08T09:58:47.738300Z",
     "iopub.status.idle": "2023-10-08T09:58:48.045776Z",
     "shell.execute_reply": "2023-10-08T09:58:48.044705Z"
    },
    "papermill": {
     "duration": 0.330285,
     "end_time": "2023-10-08T09:58:48.048571",
     "exception": false,
     "start_time": "2023-10-08T09:58:47.718286",
     "status": "completed"
    },
    "tags": []
   },
   "outputs": [],
   "source": [
    "y_pred = xgb.predict(x_test)\n",
    "y_pred_train=xgb.predict(x_train)"
   ]
  },
  {
   "cell_type": "code",
   "execution_count": 47,
   "id": "3340246b",
   "metadata": {
    "execution": {
     "iopub.execute_input": "2023-10-08T09:58:48.088145Z",
     "iopub.status.busy": "2023-10-08T09:58:48.087728Z",
     "iopub.status.idle": "2023-10-08T09:58:48.211149Z",
     "shell.execute_reply": "2023-10-08T09:58:48.209974Z"
    },
    "papermill": {
     "duration": 0.146247,
     "end_time": "2023-10-08T09:58:48.213718",
     "exception": false,
     "start_time": "2023-10-08T09:58:48.067471",
     "status": "completed"
    },
    "tags": []
   },
   "outputs": [
    {
     "name": "stdout",
     "output_type": "stream",
     "text": [
      "Classification Report:Test Data\n",
      "              precision    recall  f1-score   support\n",
      "\n",
      "           0       1.00      1.00      1.00     84993\n",
      "           1       0.90      0.74      0.81       125\n",
      "\n",
      "    accuracy                           1.00     85118\n",
      "   macro avg       0.95      0.87      0.91     85118\n",
      "weighted avg       1.00      1.00      1.00     85118\n",
      "\n"
     ]
    }
   ],
   "source": [
    "class_rep = classification_report(y_test, y_pred)\n",
    "print(\"Classification Report:Test Data\")\n",
    "print(class_rep)"
   ]
  },
  {
   "cell_type": "code",
   "execution_count": 48,
   "id": "d354021e",
   "metadata": {
    "execution": {
     "iopub.execute_input": "2023-10-08T09:58:48.253422Z",
     "iopub.status.busy": "2023-10-08T09:58:48.253016Z",
     "iopub.status.idle": "2023-10-08T09:58:48.538095Z",
     "shell.execute_reply": "2023-10-08T09:58:48.536458Z"
    },
    "papermill": {
     "duration": 0.308282,
     "end_time": "2023-10-08T09:58:48.540714",
     "exception": false,
     "start_time": "2023-10-08T09:58:48.232432",
     "status": "completed"
    },
    "tags": []
   },
   "outputs": [
    {
     "name": "stdout",
     "output_type": "stream",
     "text": [
      "Classification Report:Train Data\n",
      "              precision    recall  f1-score   support\n",
      "\n",
      "           0       1.00      1.00      1.00    198260\n",
      "           1       1.00      1.00      1.00       348\n",
      "\n",
      "    accuracy                           1.00    198608\n",
      "   macro avg       1.00      1.00      1.00    198608\n",
      "weighted avg       1.00      1.00      1.00    198608\n",
      "\n"
     ]
    }
   ],
   "source": [
    "class_rep = classification_report(y_train, y_pred_train)\n",
    "print(\"Classification Report:Train Data\")\n",
    "print(class_rep)"
   ]
  },
  {
   "cell_type": "code",
   "execution_count": 49,
   "id": "86c4e097",
   "metadata": {
    "execution": {
     "iopub.execute_input": "2023-10-08T09:58:48.578830Z",
     "iopub.status.busy": "2023-10-08T09:58:48.578459Z",
     "iopub.status.idle": "2023-10-08T11:07:54.280062Z",
     "shell.execute_reply": "2023-10-08T11:07:54.278723Z"
    },
    "papermill": {
     "duration": 4145.723379,
     "end_time": "2023-10-08T11:07:54.282508",
     "exception": false,
     "start_time": "2023-10-08T09:58:48.559129",
     "status": "completed"
    },
    "tags": []
   },
   "outputs": [
    {
     "name": "stdout",
     "output_type": "stream",
     "text": [
      "Best Hyperparameters: {'learning_rate': 0.1, 'max_depth': 5, 'n_estimators': 300}\n",
      "Accuracy of Best Model: 1.00\n"
     ]
    }
   ],
   "source": [
    "param_grid = {\n",
    "    'n_estimators': [100, 200, 300],\n",
    "    'learning_rate': [0.01, 0.1, 0.2],\n",
    "    'max_depth': [3, 4, 5],\n",
    "}\n",
    "\n",
    "from sklearn.model_selection import GridSearchCV\n",
    "from sklearn.metrics import accuracy_score\n",
    "\n",
    "# Create a GridSearchCV object\n",
    "grid_search = GridSearchCV(estimator=xgb, param_grid=param_grid, cv=3, scoring='accuracy')\n",
    "\n",
    "# Fit the grid search to the training data\n",
    "grid_search.fit(x_train, y_train)\n",
    "\n",
    "# Get the best hyperparameters from the grid search\n",
    "best_params = grid_search.best_params_\n",
    "print(f\"Best Hyperparameters: {best_params}\")\n",
    "\n",
    "# Use the best model to make predictions on the test data\n",
    "best_model = grid_search.best_estimator_\n",
    "y_pred = best_model.predict(x_test)\n",
    "\n",
    "# Evaluate the best model's accuracy\n",
    "accuracy = accuracy_score(y_test, y_pred)\n",
    "print(f\"Accuracy of Best Model: {accuracy:.2f}\")"
   ]
  },
  {
   "cell_type": "code",
   "execution_count": null,
   "id": "18012b2f",
   "metadata": {
    "papermill": {
     "duration": 0.018449,
     "end_time": "2023-10-08T11:07:54.319449",
     "exception": false,
     "start_time": "2023-10-08T11:07:54.301000",
     "status": "completed"
    },
    "tags": []
   },
   "outputs": [],
   "source": []
  }
 ],
 "metadata": {
  "kernelspec": {
   "display_name": "Python 3",
   "language": "python",
   "name": "python3"
  },
  "language_info": {
   "codemirror_mode": {
    "name": "ipython",
    "version": 3
   },
   "file_extension": ".py",
   "mimetype": "text/x-python",
   "name": "python",
   "nbconvert_exporter": "python",
   "pygments_lexer": "ipython3",
   "version": "3.10.12"
  },
  "papermill": {
   "default_parameters": {},
   "duration": 4769.716715,
   "end_time": "2023-10-08T11:07:55.270146",
   "environment_variables": {},
   "exception": null,
   "input_path": "__notebook__.ipynb",
   "output_path": "__notebook__.ipynb",
   "parameters": {},
   "start_time": "2023-10-08T09:48:25.553431",
   "version": "2.4.0"
  }
 },
 "nbformat": 4,
 "nbformat_minor": 5
}
