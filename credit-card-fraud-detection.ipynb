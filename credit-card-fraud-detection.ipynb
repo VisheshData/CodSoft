{
 "cells": [
  {
   "cell_type": "code",
   "execution_count": 1,
   "id": "dd011c4e",
   "metadata": {
    "_cell_guid": "b1076dfc-b9ad-4769-8c92-a6c4dae69d19",
    "_uuid": "8f2839f25d086af736a60e9eeb907d3b93b6e0e5",
    "execution": {
     "iopub.execute_input": "2023-10-07T14:09:19.327113Z",
     "iopub.status.busy": "2023-10-07T14:09:19.326437Z",
     "iopub.status.idle": "2023-10-07T14:09:19.700608Z",
     "shell.execute_reply": "2023-10-07T14:09:19.699439Z"
    },
    "papermill": {
     "duration": 0.386616,
     "end_time": "2023-10-07T14:09:19.702978",
     "exception": false,
     "start_time": "2023-10-07T14:09:19.316362",
     "status": "completed"
    },
    "tags": []
   },
   "outputs": [
    {
     "name": "stdout",
     "output_type": "stream",
     "text": [
      "/kaggle/input/creditcardfraud/creditcard.csv\n"
     ]
    }
   ],
   "source": [
    "# This Python 3 environment comes with many helpful analytics libraries installed\n",
    "# It is defined by the kaggle/python Docker image: https://github.com/kaggle/docker-python\n",
    "# For example, here's several helpful packages to load\n",
    "\n",
    "import numpy as np # linear algebra\n",
    "import pandas as pd # data processing, CSV file I/O (e.g. pd.read_csv)\n",
    "\n",
    "# Input data files are available in the read-only \"../input/\" directory\n",
    "# For example, running this (by clicking run or pressing Shift+Enter) will list all files under the input directory\n",
    "\n",
    "import os\n",
    "for dirname, _, filenames in os.walk('/kaggle/input'):\n",
    "    for filename in filenames:\n",
    "        print(os.path.join(dirname, filename))\n",
    "\n",
    "# You can write up to 20GB to the current directory (/kaggle/working/) that gets preserved as output when you create a version using \"Save & Run All\" \n",
    "# You can also write temporary files to /kaggle/temp/, but they won't be saved outside of the current session"
   ]
  },
  {
   "cell_type": "code",
   "execution_count": 2,
   "id": "a736ddc7",
   "metadata": {
    "execution": {
     "iopub.execute_input": "2023-10-07T14:09:19.722123Z",
     "iopub.status.busy": "2023-10-07T14:09:19.721650Z",
     "iopub.status.idle": "2023-10-07T14:09:24.180657Z",
     "shell.execute_reply": "2023-10-07T14:09:24.179731Z"
    },
    "papermill": {
     "duration": 4.471459,
     "end_time": "2023-10-07T14:09:24.183384",
     "exception": false,
     "start_time": "2023-10-07T14:09:19.711925",
     "status": "completed"
    },
    "tags": []
   },
   "outputs": [],
   "source": [
    "df=pd.read_csv('/kaggle/input/creditcardfraud/creditcard.csv')"
   ]
  },
  {
   "cell_type": "code",
   "execution_count": 3,
   "id": "33aa10ca",
   "metadata": {
    "execution": {
     "iopub.execute_input": "2023-10-07T14:09:24.201860Z",
     "iopub.status.busy": "2023-10-07T14:09:24.201495Z",
     "iopub.status.idle": "2023-10-07T14:09:24.241499Z",
     "shell.execute_reply": "2023-10-07T14:09:24.240299Z"
    },
    "papermill": {
     "duration": 0.051826,
     "end_time": "2023-10-07T14:09:24.243739",
     "exception": false,
     "start_time": "2023-10-07T14:09:24.191913",
     "status": "completed"
    },
    "tags": []
   },
   "outputs": [
    {
     "data": {
      "text/html": [
       "<div>\n",
       "<style scoped>\n",
       "    .dataframe tbody tr th:only-of-type {\n",
       "        vertical-align: middle;\n",
       "    }\n",
       "\n",
       "    .dataframe tbody tr th {\n",
       "        vertical-align: top;\n",
       "    }\n",
       "\n",
       "    .dataframe thead th {\n",
       "        text-align: right;\n",
       "    }\n",
       "</style>\n",
       "<table border=\"1\" class=\"dataframe\">\n",
       "  <thead>\n",
       "    <tr style=\"text-align: right;\">\n",
       "      <th></th>\n",
       "      <th>Time</th>\n",
       "      <th>V1</th>\n",
       "      <th>V2</th>\n",
       "      <th>V3</th>\n",
       "      <th>V4</th>\n",
       "      <th>V5</th>\n",
       "      <th>V6</th>\n",
       "      <th>V7</th>\n",
       "      <th>V8</th>\n",
       "      <th>V9</th>\n",
       "      <th>...</th>\n",
       "      <th>V21</th>\n",
       "      <th>V22</th>\n",
       "      <th>V23</th>\n",
       "      <th>V24</th>\n",
       "      <th>V25</th>\n",
       "      <th>V26</th>\n",
       "      <th>V27</th>\n",
       "      <th>V28</th>\n",
       "      <th>Amount</th>\n",
       "      <th>Class</th>\n",
       "    </tr>\n",
       "  </thead>\n",
       "  <tbody>\n",
       "    <tr>\n",
       "      <th>0</th>\n",
       "      <td>0.0</td>\n",
       "      <td>-1.359807</td>\n",
       "      <td>-0.072781</td>\n",
       "      <td>2.536347</td>\n",
       "      <td>1.378155</td>\n",
       "      <td>-0.338321</td>\n",
       "      <td>0.462388</td>\n",
       "      <td>0.239599</td>\n",
       "      <td>0.098698</td>\n",
       "      <td>0.363787</td>\n",
       "      <td>...</td>\n",
       "      <td>-0.018307</td>\n",
       "      <td>0.277838</td>\n",
       "      <td>-0.110474</td>\n",
       "      <td>0.066928</td>\n",
       "      <td>0.128539</td>\n",
       "      <td>-0.189115</td>\n",
       "      <td>0.133558</td>\n",
       "      <td>-0.021053</td>\n",
       "      <td>149.62</td>\n",
       "      <td>0</td>\n",
       "    </tr>\n",
       "    <tr>\n",
       "      <th>1</th>\n",
       "      <td>0.0</td>\n",
       "      <td>1.191857</td>\n",
       "      <td>0.266151</td>\n",
       "      <td>0.166480</td>\n",
       "      <td>0.448154</td>\n",
       "      <td>0.060018</td>\n",
       "      <td>-0.082361</td>\n",
       "      <td>-0.078803</td>\n",
       "      <td>0.085102</td>\n",
       "      <td>-0.255425</td>\n",
       "      <td>...</td>\n",
       "      <td>-0.225775</td>\n",
       "      <td>-0.638672</td>\n",
       "      <td>0.101288</td>\n",
       "      <td>-0.339846</td>\n",
       "      <td>0.167170</td>\n",
       "      <td>0.125895</td>\n",
       "      <td>-0.008983</td>\n",
       "      <td>0.014724</td>\n",
       "      <td>2.69</td>\n",
       "      <td>0</td>\n",
       "    </tr>\n",
       "    <tr>\n",
       "      <th>2</th>\n",
       "      <td>1.0</td>\n",
       "      <td>-1.358354</td>\n",
       "      <td>-1.340163</td>\n",
       "      <td>1.773209</td>\n",
       "      <td>0.379780</td>\n",
       "      <td>-0.503198</td>\n",
       "      <td>1.800499</td>\n",
       "      <td>0.791461</td>\n",
       "      <td>0.247676</td>\n",
       "      <td>-1.514654</td>\n",
       "      <td>...</td>\n",
       "      <td>0.247998</td>\n",
       "      <td>0.771679</td>\n",
       "      <td>0.909412</td>\n",
       "      <td>-0.689281</td>\n",
       "      <td>-0.327642</td>\n",
       "      <td>-0.139097</td>\n",
       "      <td>-0.055353</td>\n",
       "      <td>-0.059752</td>\n",
       "      <td>378.66</td>\n",
       "      <td>0</td>\n",
       "    </tr>\n",
       "    <tr>\n",
       "      <th>3</th>\n",
       "      <td>1.0</td>\n",
       "      <td>-0.966272</td>\n",
       "      <td>-0.185226</td>\n",
       "      <td>1.792993</td>\n",
       "      <td>-0.863291</td>\n",
       "      <td>-0.010309</td>\n",
       "      <td>1.247203</td>\n",
       "      <td>0.237609</td>\n",
       "      <td>0.377436</td>\n",
       "      <td>-1.387024</td>\n",
       "      <td>...</td>\n",
       "      <td>-0.108300</td>\n",
       "      <td>0.005274</td>\n",
       "      <td>-0.190321</td>\n",
       "      <td>-1.175575</td>\n",
       "      <td>0.647376</td>\n",
       "      <td>-0.221929</td>\n",
       "      <td>0.062723</td>\n",
       "      <td>0.061458</td>\n",
       "      <td>123.50</td>\n",
       "      <td>0</td>\n",
       "    </tr>\n",
       "    <tr>\n",
       "      <th>4</th>\n",
       "      <td>2.0</td>\n",
       "      <td>-1.158233</td>\n",
       "      <td>0.877737</td>\n",
       "      <td>1.548718</td>\n",
       "      <td>0.403034</td>\n",
       "      <td>-0.407193</td>\n",
       "      <td>0.095921</td>\n",
       "      <td>0.592941</td>\n",
       "      <td>-0.270533</td>\n",
       "      <td>0.817739</td>\n",
       "      <td>...</td>\n",
       "      <td>-0.009431</td>\n",
       "      <td>0.798278</td>\n",
       "      <td>-0.137458</td>\n",
       "      <td>0.141267</td>\n",
       "      <td>-0.206010</td>\n",
       "      <td>0.502292</td>\n",
       "      <td>0.219422</td>\n",
       "      <td>0.215153</td>\n",
       "      <td>69.99</td>\n",
       "      <td>0</td>\n",
       "    </tr>\n",
       "  </tbody>\n",
       "</table>\n",
       "<p>5 rows × 31 columns</p>\n",
       "</div>"
      ],
      "text/plain": [
       "   Time        V1        V2        V3        V4        V5        V6        V7  \\\n",
       "0   0.0 -1.359807 -0.072781  2.536347  1.378155 -0.338321  0.462388  0.239599   \n",
       "1   0.0  1.191857  0.266151  0.166480  0.448154  0.060018 -0.082361 -0.078803   \n",
       "2   1.0 -1.358354 -1.340163  1.773209  0.379780 -0.503198  1.800499  0.791461   \n",
       "3   1.0 -0.966272 -0.185226  1.792993 -0.863291 -0.010309  1.247203  0.237609   \n",
       "4   2.0 -1.158233  0.877737  1.548718  0.403034 -0.407193  0.095921  0.592941   \n",
       "\n",
       "         V8        V9  ...       V21       V22       V23       V24       V25  \\\n",
       "0  0.098698  0.363787  ... -0.018307  0.277838 -0.110474  0.066928  0.128539   \n",
       "1  0.085102 -0.255425  ... -0.225775 -0.638672  0.101288 -0.339846  0.167170   \n",
       "2  0.247676 -1.514654  ...  0.247998  0.771679  0.909412 -0.689281 -0.327642   \n",
       "3  0.377436 -1.387024  ... -0.108300  0.005274 -0.190321 -1.175575  0.647376   \n",
       "4 -0.270533  0.817739  ... -0.009431  0.798278 -0.137458  0.141267 -0.206010   \n",
       "\n",
       "        V26       V27       V28  Amount  Class  \n",
       "0 -0.189115  0.133558 -0.021053  149.62      0  \n",
       "1  0.125895 -0.008983  0.014724    2.69      0  \n",
       "2 -0.139097 -0.055353 -0.059752  378.66      0  \n",
       "3 -0.221929  0.062723  0.061458  123.50      0  \n",
       "4  0.502292  0.219422  0.215153   69.99      0  \n",
       "\n",
       "[5 rows x 31 columns]"
      ]
     },
     "execution_count": 3,
     "metadata": {},
     "output_type": "execute_result"
    }
   ],
   "source": [
    "df.head()"
   ]
  },
  {
   "cell_type": "code",
   "execution_count": 4,
   "id": "1e358c19",
   "metadata": {
    "execution": {
     "iopub.execute_input": "2023-10-07T14:09:24.263189Z",
     "iopub.status.busy": "2023-10-07T14:09:24.262849Z",
     "iopub.status.idle": "2023-10-07T14:09:24.307844Z",
     "shell.execute_reply": "2023-10-07T14:09:24.305995Z"
    },
    "papermill": {
     "duration": 0.057771,
     "end_time": "2023-10-07T14:09:24.310255",
     "exception": false,
     "start_time": "2023-10-07T14:09:24.252484",
     "status": "completed"
    },
    "tags": []
   },
   "outputs": [
    {
     "name": "stdout",
     "output_type": "stream",
     "text": [
      "<class 'pandas.core.frame.DataFrame'>\n",
      "RangeIndex: 284807 entries, 0 to 284806\n",
      "Data columns (total 31 columns):\n",
      " #   Column  Non-Null Count   Dtype  \n",
      "---  ------  --------------   -----  \n",
      " 0   Time    284807 non-null  float64\n",
      " 1   V1      284807 non-null  float64\n",
      " 2   V2      284807 non-null  float64\n",
      " 3   V3      284807 non-null  float64\n",
      " 4   V4      284807 non-null  float64\n",
      " 5   V5      284807 non-null  float64\n",
      " 6   V6      284807 non-null  float64\n",
      " 7   V7      284807 non-null  float64\n",
      " 8   V8      284807 non-null  float64\n",
      " 9   V9      284807 non-null  float64\n",
      " 10  V10     284807 non-null  float64\n",
      " 11  V11     284807 non-null  float64\n",
      " 12  V12     284807 non-null  float64\n",
      " 13  V13     284807 non-null  float64\n",
      " 14  V14     284807 non-null  float64\n",
      " 15  V15     284807 non-null  float64\n",
      " 16  V16     284807 non-null  float64\n",
      " 17  V17     284807 non-null  float64\n",
      " 18  V18     284807 non-null  float64\n",
      " 19  V19     284807 non-null  float64\n",
      " 20  V20     284807 non-null  float64\n",
      " 21  V21     284807 non-null  float64\n",
      " 22  V22     284807 non-null  float64\n",
      " 23  V23     284807 non-null  float64\n",
      " 24  V24     284807 non-null  float64\n",
      " 25  V25     284807 non-null  float64\n",
      " 26  V26     284807 non-null  float64\n",
      " 27  V27     284807 non-null  float64\n",
      " 28  V28     284807 non-null  float64\n",
      " 29  Amount  284807 non-null  float64\n",
      " 30  Class   284807 non-null  int64  \n",
      "dtypes: float64(30), int64(1)\n",
      "memory usage: 67.4 MB\n"
     ]
    }
   ],
   "source": [
    "df.info()"
   ]
  },
  {
   "cell_type": "code",
   "execution_count": 5,
   "id": "ca0609ff",
   "metadata": {
    "execution": {
     "iopub.execute_input": "2023-10-07T14:09:24.329471Z",
     "iopub.status.busy": "2023-10-07T14:09:24.329095Z",
     "iopub.status.idle": "2023-10-07T14:09:25.338533Z",
     "shell.execute_reply": "2023-10-07T14:09:25.337364Z"
    },
    "papermill": {
     "duration": 1.021711,
     "end_time": "2023-10-07T14:09:25.340654",
     "exception": false,
     "start_time": "2023-10-07T14:09:24.318943",
     "status": "completed"
    },
    "tags": []
   },
   "outputs": [
    {
     "data": {
      "text/plain": [
       "1081"
      ]
     },
     "execution_count": 5,
     "metadata": {},
     "output_type": "execute_result"
    }
   ],
   "source": [
    "dups=df.duplicated()\n",
    "dups.sum()"
   ]
  },
  {
   "cell_type": "code",
   "execution_count": 6,
   "id": "d11df7b4",
   "metadata": {
    "execution": {
     "iopub.execute_input": "2023-10-07T14:09:25.360015Z",
     "iopub.status.busy": "2023-10-07T14:09:25.359681Z",
     "iopub.status.idle": "2023-10-07T14:09:29.288401Z",
     "shell.execute_reply": "2023-10-07T14:09:29.287514Z"
    },
    "papermill": {
     "duration": 3.941658,
     "end_time": "2023-10-07T14:09:29.291175",
     "exception": false,
     "start_time": "2023-10-07T14:09:25.349517",
     "status": "completed"
    },
    "tags": []
   },
   "outputs": [
    {
     "data": {
      "text/plain": [
       "<Axes: >"
      ]
     },
     "execution_count": 6,
     "metadata": {},
     "output_type": "execute_result"
    },
    {
     "data": {
      "image/png": "[encoded data removed]",
      "text/plain": [
       "<Figure size 2000x1000 with 2 Axes>"
      ]
     },
     "metadata": {},
     "output_type": "display_data"
    }
   ],
   "source": [
    "import seaborn as sns\n",
    "import matplotlib.pyplot as plt\n",
    "corr=df.corr()\n",
    "matrix=np.triu(corr)\n",
    "plt.figure(figsize=(20,10))\n",
    "sns.heatmap(corr,annot=True,fmt='.2f',mask=matrix)"
   ]
  },
  {
   "cell_type": "code",
   "execution_count": 7,
   "id": "06c8ad5f",
   "metadata": {
    "execution": {
     "iopub.execute_input": "2023-10-07T14:09:29.316495Z",
     "iopub.status.busy": "2023-10-07T14:09:29.315233Z",
     "iopub.status.idle": "2023-10-07T14:09:30.260842Z",
     "shell.execute_reply": "2023-10-07T14:09:30.259500Z"
    },
    "papermill": {
     "duration": 0.960639,
     "end_time": "2023-10-07T14:09:30.263088",
     "exception": false,
     "start_time": "2023-10-07T14:09:29.302449",
     "status": "completed"
    },
    "tags": []
   },
   "outputs": [],
   "source": [
    "## Deleting duplicated\n",
    "df.drop_duplicates(inplace=True)"
   ]
  },
  {
   "cell_type": "code",
   "execution_count": 8,
   "id": "f2b27096",
   "metadata": {
    "execution": {
     "iopub.execute_input": "2023-10-07T14:09:30.288271Z",
     "iopub.status.busy": "2023-10-07T14:09:30.287899Z",
     "iopub.status.idle": "2023-10-07T14:09:30.321831Z",
     "shell.execute_reply": "2023-10-07T14:09:30.320739Z"
    },
    "papermill": {
     "duration": 0.049113,
     "end_time": "2023-10-07T14:09:30.323922",
     "exception": false,
     "start_time": "2023-10-07T14:09:30.274809",
     "status": "completed"
    },
    "tags": []
   },
   "outputs": [
    {
     "name": "stdout",
     "output_type": "stream",
     "text": [
      "<class 'pandas.core.frame.DataFrame'>\n",
      "Index: 283726 entries, 0 to 284806\n",
      "Data columns (total 31 columns):\n",
      " #   Column  Non-Null Count   Dtype  \n",
      "---  ------  --------------   -----  \n",
      " 0   Time    283726 non-null  float64\n",
      " 1   V1      283726 non-null  float64\n",
      " 2   V2      283726 non-null  float64\n",
      " 3   V3      283726 non-null  float64\n",
      " 4   V4      283726 non-null  float64\n",
      " 5   V5      283726 non-null  float64\n",
      " 6   V6      283726 non-null  float64\n",
      " 7   V7      283726 non-null  float64\n",
      " 8   V8      283726 non-null  float64\n",
      " 9   V9      283726 non-null  float64\n",
      " 10  V10     283726 non-null  float64\n",
      " 11  V11     283726 non-null  float64\n",
      " 12  V12     283726 non-null  float64\n",
      " 13  V13     283726 non-null  float64\n",
      " 14  V14     283726 non-null  float64\n",
      " 15  V15     283726 non-null  float64\n",
      " 16  V16     283726 non-null  float64\n",
      " 17  V17     283726 non-null  float64\n",
      " 18  V18     283726 non-null  float64\n",
      " 19  V19     283726 non-null  float64\n",
      " 20  V20     283726 non-null  float64\n",
      " 21  V21     283726 non-null  float64\n",
      " 22  V22     283726 non-null  float64\n",
      " 23  V23     283726 non-null  float64\n",
      " 24  V24     283726 non-null  float64\n",
      " 25  V25     283726 non-null  float64\n",
      " 26  V26     283726 non-null  float64\n",
      " 27  V27     283726 non-null  float64\n",
      " 28  V28     283726 non-null  float64\n",
      " 29  Amount  283726 non-null  float64\n",
      " 30  Class   283726 non-null  int64  \n",
      "dtypes: float64(30), int64(1)\n",
      "memory usage: 69.3 MB\n"
     ]
    }
   ],
   "source": [
    "df.info()"
   ]
  },
  {
   "cell_type": "code",
   "execution_count": 9,
   "id": "ccab9780",
   "metadata": {
    "execution": {
     "iopub.execute_input": "2023-10-07T14:09:30.347100Z",
     "iopub.status.busy": "2023-10-07T14:09:30.346765Z",
     "iopub.status.idle": "2023-10-07T14:09:31.258104Z",
     "shell.execute_reply": "2023-10-07T14:09:31.256799Z"
    },
    "papermill": {
     "duration": 0.925624,
     "end_time": "2023-10-07T14:09:31.260441",
     "exception": false,
     "start_time": "2023-10-07T14:09:30.334817",
     "status": "completed"
    },
    "tags": []
   },
   "outputs": [
    {
     "data": {
      "text/plain": [
       "0"
      ]
     },
     "execution_count": 9,
     "metadata": {},
     "output_type": "execute_result"
    }
   ],
   "source": [
    "dups=df.duplicated()\n",
    "dups.sum()"
   ]
  },
  {
   "cell_type": "code",
   "execution_count": 10,
   "id": "7d007e7f",
   "metadata": {
    "execution": {
     "iopub.execute_input": "2023-10-07T14:09:31.285089Z",
     "iopub.status.busy": "2023-10-07T14:09:31.283976Z",
     "iopub.status.idle": "2023-10-07T14:09:31.654744Z",
     "shell.execute_reply": "2023-10-07T14:09:31.653505Z"
    },
    "papermill": {
     "duration": 0.385451,
     "end_time": "2023-10-07T14:09:31.657149",
     "exception": false,
     "start_time": "2023-10-07T14:09:31.271698",
     "status": "completed"
    },
    "tags": []
   },
   "outputs": [],
   "source": [
    "from sklearn.model_selection import train_test_split\n",
    "from sklearn.linear_model import LogisticRegression\n",
    "from sklearn.metrics import confusion_matrix, classification_report"
   ]
  },
  {
   "cell_type": "code",
   "execution_count": 11,
   "id": "7ef584f9",
   "metadata": {
    "execution": {
     "iopub.execute_input": "2023-10-07T14:09:31.681600Z",
     "iopub.status.busy": "2023-10-07T14:09:31.680803Z",
     "iopub.status.idle": "2023-10-07T14:09:31.712872Z",
     "shell.execute_reply": "2023-10-07T14:09:31.711800Z"
    },
    "papermill": {
     "duration": 0.046728,
     "end_time": "2023-10-07T14:09:31.715103",
     "exception": false,
     "start_time": "2023-10-07T14:09:31.668375",
     "status": "completed"
    },
    "tags": []
   },
   "outputs": [],
   "source": [
    "x=df.drop(columns='Class', axis=1)\n",
    "y=df.pop('Class')"
   ]
  },
  {
   "cell_type": "code",
   "execution_count": 12,
   "id": "c55c5a2a",
   "metadata": {
    "execution": {
     "iopub.execute_input": "2023-10-07T14:09:31.739114Z",
     "iopub.status.busy": "2023-10-07T14:09:31.738735Z",
     "iopub.status.idle": "2023-10-07T14:09:31.851351Z",
     "shell.execute_reply": "2023-10-07T14:09:31.850086Z"
    },
    "papermill": {
     "duration": 0.127489,
     "end_time": "2023-10-07T14:09:31.853819",
     "exception": false,
     "start_time": "2023-10-07T14:09:31.726330",
     "status": "completed"
    },
    "tags": []
   },
   "outputs": [],
   "source": [
    "x_train,x_test,y_train,y_test=train_test_split(x,y,test_size=0.3,random_state=1)"
   ]
  },
  {
   "cell_type": "code",
   "execution_count": 13,
   "id": "065cf487",
   "metadata": {
    "execution": {
     "iopub.execute_input": "2023-10-07T14:09:31.877615Z",
     "iopub.status.busy": "2023-10-07T14:09:31.877170Z",
     "iopub.status.idle": "2023-10-07T14:09:31.881876Z",
     "shell.execute_reply": "2023-10-07T14:09:31.880860Z"
    },
    "papermill": {
     "duration": 0.019002,
     "end_time": "2023-10-07T14:09:31.883945",
     "exception": false,
     "start_time": "2023-10-07T14:09:31.864943",
     "status": "completed"
    },
    "tags": []
   },
   "outputs": [],
   "source": [
    "model=LogisticRegression()"
   ]
  },
  {
   "cell_type": "code",
   "execution_count": 14,
   "id": "f2e9006f",
   "metadata": {
    "execution": {
     "iopub.execute_input": "2023-10-07T14:09:31.972365Z",
     "iopub.status.busy": "2023-10-07T14:09:31.971738Z",
     "iopub.status.idle": "2023-10-07T14:09:36.130937Z",
     "shell.execute_reply": "2023-10-07T14:09:36.129277Z"
    },
    "papermill": {
     "duration": 4.179629,
     "end_time": "2023-10-07T14:09:36.139024",
     "exception": false,
     "start_time": "2023-10-07T14:09:31.959395",
     "status": "completed"
    },
    "tags": []
   },
   "outputs": [
    {
     "name": "stderr",
     "output_type": "stream",
     "text": [
      "/opt/conda/lib/python3.10/site-packages/sklearn/linear_model/_logistic.py:458: ConvergenceWarning: lbfgs failed to converge (status=1):\n",
      "STOP: TOTAL NO. of ITERATIONS REACHED LIMIT.\n",
      "\n",
      "Increase the number of iterations (max_iter) or scale the data as shown in:\n",
      "    https://scikit-learn.org/stable/modules/preprocessing.html\n",
      "Please also refer to the documentation for alternative solver options:\n",
      "    https://scikit-learn.org/stable/modules/linear_model.html#logistic-regression\n",
      "  n_iter_i = _check_optimize_result(\n"
     ]
    },
    {
     "data": {
      "text/html": [
       "<style>#sk-container-id-1 {color: black;background-color: white;}#sk-container-id-1 pre{padding: 0;}#sk-container-id-1 div.sk-toggleable {background-color: white;}#sk-container-id-1 label.sk-toggleable__label {cursor: pointer;display: block;width: 100%;margin-bottom: 0;padding: 0.3em;box-sizing: border-box;text-align: center;}#sk-container-id-1 label.sk-toggleable__label-arrow:before {content: \"▸\";float: left;margin-right: 0.25em;color: #696969;}#sk-container-id-1 label.sk-toggleable__label-arrow:hover:before {color: black;}#sk-container-id-1 div.sk-estimator:hover label.sk-toggleable__label-arrow:before {color: black;}#sk-container-id-1 div.sk-toggleable__content {max-height: 0;max-width: 0;overflow: hidden;text-align: left;background-color: #f0f8ff;}#sk-container-id-1 div.sk-toggleable__content pre {margin: 0.2em;color: black;border-radius: 0.25em;background-color: #f0f8ff;}#sk-container-id-1 input.sk-toggleable__control:checked~div.sk-toggleable__content {max-height: 200px;max-width: 100%;overflow: auto;}#sk-container-id-1 input.sk-toggleable__control:checked~label.sk-toggleable__label-arrow:before {content: \"▾\";}#sk-container-id-1 div.sk-estimator input.sk-toggleable__control:checked~label.sk-toggleable__label {background-color: #d4ebff;}#sk-container-id-1 div.sk-label input.sk-toggleable__control:checked~label.sk-toggleable__label {background-color: #d4ebff;}#sk-container-id-1 input.sk-hidden--visually {border: 0;clip: rect(1px 1px 1px 1px);clip: rect(1px, 1px, 1px, 1px);height: 1px;margin: -1px;overflow: hidden;padding: 0;position: absolute;width: 1px;}#sk-container-id-1 div.sk-estimator {font-family: monospace;background-color: #f0f8ff;border: 1px dotted black;border-radius: 0.25em;box-sizing: border-box;margin-bottom: 0.5em;}#sk-container-id-1 div.sk-estimator:hover {background-color: #d4ebff;}#sk-container-id-1 div.sk-parallel-item::after {content: \"\";width: 100%;border-bottom: 1px solid gray;flex-grow: 1;}#sk-container-id-1 div.sk-label:hover label.sk-toggleable__label {background-color: #d4ebff;}#sk-container-id-1 div.sk-serial::before {content: \"\";position: absolute;border-left: 1px solid gray;box-sizing: border-box;top: 0;bottom: 0;left: 50%;z-index: 0;}#sk-container-id-1 div.sk-serial {display: flex;flex-direction: column;align-items: center;background-color: white;padding-right: 0.2em;padding-left: 0.2em;position: relative;}#sk-container-id-1 div.sk-item {position: relative;z-index: 1;}#sk-container-id-1 div.sk-parallel {display: flex;align-items: stretch;justify-content: center;background-color: white;position: relative;}#sk-container-id-1 div.sk-item::before, #sk-container-id-1 div.sk-parallel-item::before {content: \"\";position: absolute;border-left: 1px solid gray;box-sizing: border-box;top: 0;bottom: 0;left: 50%;z-index: -1;}#sk-container-id-1 div.sk-parallel-item {display: flex;flex-direction: column;z-index: 1;position: relative;background-color: white;}#sk-container-id-1 div.sk-parallel-item:first-child::after {align-self: flex-end;width: 50%;}#sk-container-id-1 div.sk-parallel-item:last-child::after {align-self: flex-start;width: 50%;}#sk-container-id-1 div.sk-parallel-item:only-child::after {width: 0;}#sk-container-id-1 div.sk-dashed-wrapped {border: 1px dashed gray;margin: 0 0.4em 0.5em 0.4em;box-sizing: border-box;padding-bottom: 0.4em;background-color: white;}#sk-container-id-1 div.sk-label label {font-family: monospace;font-weight: bold;display: inline-block;line-height: 1.2em;}#sk-container-id-1 div.sk-label-container {text-align: center;}#sk-container-id-1 div.sk-container {/* jupyter's `normalize.less` sets `[hidden] { display: none; }` but bootstrap.min.css set `[hidden] { display: none !important; }` so we also need the `!important` here to be able to override the default hidden behavior on the sphinx rendered scikit-learn.org. See: https://github.com/scikit-learn/scikit-learn/issues/21755 */display: inline-block !important;position: relative;}#sk-container-id-1 div.sk-text-repr-fallback {display: none;}</style><div id=\"sk-container-id-1\" class=\"sk-top-container\"><div class=\"sk-text-repr-fallback\"><pre>LogisticRegression()</pre><b>In a Jupyter environment, please rerun this cell to show the HTML representation or trust the notebook. <br />On GitHub, the HTML representation is unable to render, please try loading this page with nbviewer.org.</b></div><div class=\"sk-container\" hidden><div class=\"sk-item\"><div class=\"sk-estimator sk-toggleable\"><input class=\"sk-toggleable__control sk-hidden--visually\" id=\"sk-estimator-id-1\" type=\"checkbox\" checked><label for=\"sk-estimator-id-1\" class=\"sk-toggleable__label sk-toggleable__label-arrow\">LogisticRegression</label><div class=\"sk-toggleable__content\"><pre>LogisticRegression()</pre></div></div></div></div></div>"
      ],
      "text/plain": [
       "LogisticRegression()"
      ]
     },
     "execution_count": 14,
     "metadata": {},
     "output_type": "execute_result"
    }
   ],
   "source": [
    "model.fit(x_train,y_train)"
   ]
  },
  {
   "cell_type": "code",
   "execution_count": 15,
   "id": "fb8f7a3e",
   "metadata": {
    "execution": {
     "iopub.execute_input": "2023-10-07T14:09:36.236417Z",
     "iopub.status.busy": "2023-10-07T14:09:36.235478Z",
     "iopub.status.idle": "2023-10-07T14:09:36.426480Z",
     "shell.execute_reply": "2023-10-07T14:09:36.425070Z"
    },
    "papermill": {
     "duration": 0.219383,
     "end_time": "2023-10-07T14:09:36.429688",
     "exception": false,
     "start_time": "2023-10-07T14:09:36.210305",
     "status": "completed"
    },
    "tags": []
   },
   "outputs": [
    {
     "name": "stdout",
     "output_type": "stream",
     "text": [
      "Classification Report:Test Data\n",
      "              precision    recall  f1-score   support\n",
      "\n",
      "           0       1.00      1.00      1.00     84993\n",
      "           1       0.69      0.65      0.67       125\n",
      "\n",
      "    accuracy                           1.00     85118\n",
      "   macro avg       0.84      0.82      0.83     85118\n",
      "weighted avg       1.00      1.00      1.00     85118\n",
      "\n"
     ]
    }
   ],
   "source": [
    "y_pred=model.predict(x_test)\n",
    "class_rep = classification_report(y_test, y_pred)\n",
    "print(\"Classification Report:Test Data\")\n",
    "print(class_rep)"
   ]
  },
  {
   "cell_type": "code",
   "execution_count": 16,
   "id": "f88d0968",
   "metadata": {
    "execution": {
     "iopub.execute_input": "2023-10-07T14:09:36.456237Z",
     "iopub.status.busy": "2023-10-07T14:09:36.455591Z",
     "iopub.status.idle": "2023-10-07T14:09:36.500913Z",
     "shell.execute_reply": "2023-10-07T14:09:36.499888Z"
    },
    "papermill": {
     "duration": 0.060486,
     "end_time": "2023-10-07T14:09:36.503018",
     "exception": false,
     "start_time": "2023-10-07T14:09:36.442532",
     "status": "completed"
    },
    "tags": []
   },
   "outputs": [
    {
     "data": {
      "text/plain": [
       "Counter({0: 283253, 1: 473})"
      ]
     },
     "execution_count": 16,
     "metadata": {},
     "output_type": "execute_result"
    }
   ],
   "source": [
    "from collections import Counter\n",
    "counter=Counter(y)\n",
    "counter"
   ]
  },
  {
   "cell_type": "code",
   "execution_count": 17,
   "id": "07c188a1",
   "metadata": {
    "execution": {
     "iopub.execute_input": "2023-10-07T14:09:36.528430Z",
     "iopub.status.busy": "2023-10-07T14:09:36.528027Z",
     "iopub.status.idle": "2023-10-07T14:09:37.694723Z",
     "shell.execute_reply": "2023-10-07T14:09:37.693798Z"
    },
    "papermill": {
     "duration": 1.182438,
     "end_time": "2023-10-07T14:09:37.697260",
     "exception": false,
     "start_time": "2023-10-07T14:09:36.514822",
     "status": "completed"
    },
    "tags": []
   },
   "outputs": [],
   "source": [
    "#### Using SMOTE in order to balance highly ibalance data\n",
    "from imblearn.over_sampling import SMOTE\n",
    "\n",
    "oversample=SMOTE()\n",
    "x1,y1=oversample.fit_resample(x,y)"
   ]
  },
  {
   "cell_type": "code",
   "execution_count": 18,
   "id": "d85eeed4",
   "metadata": {
    "execution": {
     "iopub.execute_input": "2023-10-07T14:09:37.722575Z",
     "iopub.status.busy": "2023-10-07T14:09:37.722053Z",
     "iopub.status.idle": "2023-10-07T14:09:37.802261Z",
     "shell.execute_reply": "2023-10-07T14:09:37.801163Z"
    },
    "papermill": {
     "duration": 0.095295,
     "end_time": "2023-10-07T14:09:37.804452",
     "exception": false,
     "start_time": "2023-10-07T14:09:37.709157",
     "status": "completed"
    },
    "tags": []
   },
   "outputs": [
    {
     "data": {
      "text/plain": [
       "Counter({0: 283253, 1: 283253})"
      ]
     },
     "execution_count": 18,
     "metadata": {},
     "output_type": "execute_result"
    }
   ],
   "source": [
    "from collections import Counter\n",
    "counter=Counter(y1)\n",
    "counter"
   ]
  },
  {
   "cell_type": "code",
   "execution_count": 19,
   "id": "80ee02a0",
   "metadata": {
    "execution": {
     "iopub.execute_input": "2023-10-07T14:09:37.829341Z",
     "iopub.status.busy": "2023-10-07T14:09:37.828963Z",
     "iopub.status.idle": "2023-10-07T14:09:38.251325Z",
     "shell.execute_reply": "2023-10-07T14:09:38.250355Z"
    },
    "papermill": {
     "duration": 0.437588,
     "end_time": "2023-10-07T14:09:38.253711",
     "exception": false,
     "start_time": "2023-10-07T14:09:37.816123",
     "status": "completed"
    },
    "tags": []
   },
   "outputs": [],
   "source": [
    "x_train,x_test,y_train,y_test=train_test_split(x1,y1,test_size=0.3,random_state=1)"
   ]
  },
  {
   "cell_type": "code",
   "execution_count": 20,
   "id": "f9bcce2b",
   "metadata": {
    "execution": {
     "iopub.execute_input": "2023-10-07T14:09:38.279512Z",
     "iopub.status.busy": "2023-10-07T14:09:38.279130Z",
     "iopub.status.idle": "2023-10-07T14:09:44.523732Z",
     "shell.execute_reply": "2023-10-07T14:09:44.522607Z"
    },
    "papermill": {
     "duration": 6.262605,
     "end_time": "2023-10-07T14:09:44.528670",
     "exception": false,
     "start_time": "2023-10-07T14:09:38.266065",
     "status": "completed"
    },
    "tags": []
   },
   "outputs": [
    {
     "name": "stderr",
     "output_type": "stream",
     "text": [
      "/opt/conda/lib/python3.10/site-packages/sklearn/linear_model/_logistic.py:458: ConvergenceWarning: lbfgs failed to converge (status=1):\n",
      "STOP: TOTAL NO. of ITERATIONS REACHED LIMIT.\n",
      "\n",
      "Increase the number of iterations (max_iter) or scale the data as shown in:\n",
      "    https://scikit-learn.org/stable/modules/preprocessing.html\n",
      "Please also refer to the documentation for alternative solver options:\n",
      "    https://scikit-learn.org/stable/modules/linear_model.html#logistic-regression\n",
      "  n_iter_i = _check_optimize_result(\n"
     ]
    },
    {
     "data": {
      "text/html": [
       "<style>#sk-container-id-2 {color: black;background-color: white;}#sk-container-id-2 pre{padding: 0;}#sk-container-id-2 div.sk-toggleable {background-color: white;}#sk-container-id-2 label.sk-toggleable__label {cursor: pointer;display: block;width: 100%;margin-bottom: 0;padding: 0.3em;box-sizing: border-box;text-align: center;}#sk-container-id-2 label.sk-toggleable__label-arrow:before {content: \"▸\";float: left;margin-right: 0.25em;color: #696969;}#sk-container-id-2 label.sk-toggleable__label-arrow:hover:before {color: black;}#sk-container-id-2 div.sk-estimator:hover label.sk-toggleable__label-arrow:before {color: black;}#sk-container-id-2 div.sk-toggleable__content {max-height: 0;max-width: 0;overflow: hidden;text-align: left;background-color: #f0f8ff;}#sk-container-id-2 div.sk-toggleable__content pre {margin: 0.2em;color: black;border-radius: 0.25em;background-color: #f0f8ff;}#sk-container-id-2 input.sk-toggleable__control:checked~div.sk-toggleable__content {max-height: 200px;max-width: 100%;overflow: auto;}#sk-container-id-2 input.sk-toggleable__control:checked~label.sk-toggleable__label-arrow:before {content: \"▾\";}#sk-container-id-2 div.sk-estimator input.sk-toggleable__control:checked~label.sk-toggleable__label {background-color: #d4ebff;}#sk-container-id-2 div.sk-label input.sk-toggleable__control:checked~label.sk-toggleable__label {background-color: #d4ebff;}#sk-container-id-2 input.sk-hidden--visually {border: 0;clip: rect(1px 1px 1px 1px);clip: rect(1px, 1px, 1px, 1px);height: 1px;margin: -1px;overflow: hidden;padding: 0;position: absolute;width: 1px;}#sk-container-id-2 div.sk-estimator {font-family: monospace;background-color: #f0f8ff;border: 1px dotted black;border-radius: 0.25em;box-sizing: border-box;margin-bottom: 0.5em;}#sk-container-id-2 div.sk-estimator:hover {background-color: #d4ebff;}#sk-container-id-2 div.sk-parallel-item::after {content: \"\";width: 100%;border-bottom: 1px solid gray;flex-grow: 1;}#sk-container-id-2 div.sk-label:hover label.sk-toggleable__label {background-color: #d4ebff;}#sk-container-id-2 div.sk-serial::before {content: \"\";position: absolute;border-left: 1px solid gray;box-sizing: border-box;top: 0;bottom: 0;left: 50%;z-index: 0;}#sk-container-id-2 div.sk-serial {display: flex;flex-direction: column;align-items: center;background-color: white;padding-right: 0.2em;padding-left: 0.2em;position: relative;}#sk-container-id-2 div.sk-item {position: relative;z-index: 1;}#sk-container-id-2 div.sk-parallel {display: flex;align-items: stretch;justify-content: center;background-color: white;position: relative;}#sk-container-id-2 div.sk-item::before, #sk-container-id-2 div.sk-parallel-item::before {content: \"\";position: absolute;border-left: 1px solid gray;box-sizing: border-box;top: 0;bottom: 0;left: 50%;z-index: -1;}#sk-container-id-2 div.sk-parallel-item {display: flex;flex-direction: column;z-index: 1;position: relative;background-color: white;}#sk-container-id-2 div.sk-parallel-item:first-child::after {align-self: flex-end;width: 50%;}#sk-container-id-2 div.sk-parallel-item:last-child::after {align-self: flex-start;width: 50%;}#sk-container-id-2 div.sk-parallel-item:only-child::after {width: 0;}#sk-container-id-2 div.sk-dashed-wrapped {border: 1px dashed gray;margin: 0 0.4em 0.5em 0.4em;box-sizing: border-box;padding-bottom: 0.4em;background-color: white;}#sk-container-id-2 div.sk-label label {font-family: monospace;font-weight: bold;display: inline-block;line-height: 1.2em;}#sk-container-id-2 div.sk-label-container {text-align: center;}#sk-container-id-2 div.sk-container {/* jupyter's `normalize.less` sets `[hidden] { display: none; }` but bootstrap.min.css set `[hidden] { display: none !important; }` so we also need the `!important` here to be able to override the default hidden behavior on the sphinx rendered scikit-learn.org. See: https://github.com/scikit-learn/scikit-learn/issues/21755 */display: inline-block !important;position: relative;}#sk-container-id-2 div.sk-text-repr-fallback {display: none;}</style><div id=\"sk-container-id-2\" class=\"sk-top-container\"><div class=\"sk-text-repr-fallback\"><pre>LogisticRegression()</pre><b>In a Jupyter environment, please rerun this cell to show the HTML representation or trust the notebook. <br />On GitHub, the HTML representation is unable to render, please try loading this page with nbviewer.org.</b></div><div class=\"sk-container\" hidden><div class=\"sk-item\"><div class=\"sk-estimator sk-toggleable\"><input class=\"sk-toggleable__control sk-hidden--visually\" id=\"sk-estimator-id-2\" type=\"checkbox\" checked><label for=\"sk-estimator-id-2\" class=\"sk-toggleable__label sk-toggleable__label-arrow\">LogisticRegression</label><div class=\"sk-toggleable__content\"><pre>LogisticRegression()</pre></div></div></div></div></div>"
      ],
      "text/plain": [
       "LogisticRegression()"
      ]
     },
     "execution_count": 20,
     "metadata": {},
     "output_type": "execute_result"
    }
   ],
   "source": [
    "model.fit(x_train,y_train)"
   ]
  },
  {
   "cell_type": "code",
   "execution_count": 21,
   "id": "ef8e71fd",
   "metadata": {
    "execution": {
     "iopub.execute_input": "2023-10-07T14:09:44.599137Z",
     "iopub.status.busy": "2023-10-07T14:09:44.598526Z",
     "iopub.status.idle": "2023-10-07T14:09:45.026389Z",
     "shell.execute_reply": "2023-10-07T14:09:45.025126Z"
    },
    "papermill": {
     "duration": 0.466634,
     "end_time": "2023-10-07T14:09:45.028727",
     "exception": false,
     "start_time": "2023-10-07T14:09:44.562093",
     "status": "completed"
    },
    "tags": []
   },
   "outputs": [
    {
     "name": "stdout",
     "output_type": "stream",
     "text": [
      "Classification Report:Test Data\n",
      "              precision    recall  f1-score   support\n",
      "\n",
      "           0       0.96      0.98      0.97     84918\n",
      "           1       0.98      0.96      0.97     85034\n",
      "\n",
      "    accuracy                           0.97    169952\n",
      "   macro avg       0.97      0.97      0.97    169952\n",
      "weighted avg       0.97      0.97      0.97    169952\n",
      "\n"
     ]
    }
   ],
   "source": [
    "y_pred=model.predict(x_test)\n",
    "class_rep = classification_report(y_test, y_pred)\n",
    "print(\"Classification Report:Test Data\")\n",
    "print(class_rep)"
   ]
  },
  {
   "cell_type": "code",
   "execution_count": 22,
   "id": "c1bb06c5",
   "metadata": {
    "execution": {
     "iopub.execute_input": "2023-10-07T14:09:45.055497Z",
     "iopub.status.busy": "2023-10-07T14:09:45.054865Z",
     "iopub.status.idle": "2023-10-07T14:09:45.954307Z",
     "shell.execute_reply": "2023-10-07T14:09:45.952572Z"
    },
    "papermill": {
     "duration": 0.915653,
     "end_time": "2023-10-07T14:09:45.957031",
     "exception": false,
     "start_time": "2023-10-07T14:09:45.041378",
     "status": "completed"
    },
    "tags": []
   },
   "outputs": [
    {
     "name": "stdout",
     "output_type": "stream",
     "text": [
      "Classification Report:Train Data\n",
      "              precision    recall  f1-score   support\n",
      "\n",
      "           0       0.96      0.98      0.97    198335\n",
      "           1       0.98      0.96      0.97    198219\n",
      "\n",
      "    accuracy                           0.97    396554\n",
      "   macro avg       0.97      0.97      0.97    396554\n",
      "weighted avg       0.97      0.97      0.97    396554\n",
      "\n"
     ]
    }
   ],
   "source": [
    "y_pred_train=model.predict(x_train)\n",
    "class_rep = classification_report(y_train, y_pred_train)\n",
    "print(\"Classification Report:Train Data\")\n",
    "print(class_rep)"
   ]
  },
  {
   "cell_type": "code",
   "execution_count": 23,
   "id": "81f0819c",
   "metadata": {
    "execution": {
     "iopub.execute_input": "2023-10-07T14:09:45.984359Z",
     "iopub.status.busy": "2023-10-07T14:09:45.983556Z",
     "iopub.status.idle": "2023-10-07T14:09:46.025068Z",
     "shell.execute_reply": "2023-10-07T14:09:46.023479Z"
    },
    "papermill": {
     "duration": 0.058129,
     "end_time": "2023-10-07T14:09:46.027599",
     "exception": false,
     "start_time": "2023-10-07T14:09:45.969470",
     "status": "completed"
    },
    "tags": []
   },
   "outputs": [
    {
     "name": "stdout",
     "output_type": "stream",
     "text": [
      "Confusion Matrix\n",
      " [[83418  1500]\n",
      " [ 3172 81862]]\n"
     ]
    }
   ],
   "source": [
    "cm=confusion_matrix(y_test,y_pred)\n",
    "print('Confusion Matrix\\n',cm)"
   ]
  },
  {
   "cell_type": "code",
   "execution_count": 24,
   "id": "d9640ef3",
   "metadata": {
    "execution": {
     "iopub.execute_input": "2023-10-07T14:09:46.055090Z",
     "iopub.status.busy": "2023-10-07T14:09:46.054498Z",
     "iopub.status.idle": "2023-10-07T14:09:46.348149Z",
     "shell.execute_reply": "2023-10-07T14:09:46.347126Z"
    },
    "papermill": {
     "duration": 0.309701,
     "end_time": "2023-10-07T14:09:46.350312",
     "exception": false,
     "start_time": "2023-10-07T14:09:46.040611",
     "status": "completed"
    },
    "tags": []
   },
   "outputs": [
    {
     "data": {
      "image/png": "[encoded data removed]",
      "text/plain": [
       "<Figure size 800x600 with 1 Axes>"
      ]
     },
     "metadata": {},
     "output_type": "display_data"
    }
   ],
   "source": [
    "from sklearn.metrics import roc_curve, auc\n",
    "\n",
    "fpr, tpr, _ = roc_curve(y_test, y_pred)\n",
    "roc_auc = auc(fpr, tpr)\n",
    "\n",
    "plt.figure(figsize=(8, 6))\n",
    "plt.plot(fpr, tpr, color='darkorange', lw=2, label='ROC curve (AUC = {:.2f})'.format(roc_auc))\n",
    "plt.plot([0, 1], [0, 1], color='navy', lw=2, linestyle='--')\n",
    "plt.xlim([0.0, 1.0])\n",
    "plt.ylim([0.0, 1.05])\n",
    "plt.xlabel('False Positive Rate')\n",
    "plt.ylabel('True Positive Rate')\n",
    "plt.title('Receiver Operating Characteristic (ROC) Curve')\n",
    "plt.legend(loc='lower right')\n",
    "plt.show()"
   ]
  },
  {
   "cell_type": "code",
   "execution_count": 25,
   "id": "c6f97eec",
   "metadata": {
    "execution": {
     "iopub.execute_input": "2023-10-07T14:09:46.378340Z",
     "iopub.status.busy": "2023-10-07T14:09:46.377896Z",
     "iopub.status.idle": "2023-10-07T14:10:15.608750Z",
     "shell.execute_reply": "2023-10-07T14:10:15.607283Z"
    },
    "papermill": {
     "duration": 29.249815,
     "end_time": "2023-10-07T14:10:15.613417",
     "exception": false,
     "start_time": "2023-10-07T14:09:46.363602",
     "status": "completed"
    },
    "tags": []
   },
   "outputs": [
    {
     "name": "stderr",
     "output_type": "stream",
     "text": [
      "/opt/conda/lib/python3.10/site-packages/sklearn/linear_model/_logistic.py:458: ConvergenceWarning: lbfgs failed to converge (status=1):\n",
      "STOP: TOTAL NO. of ITERATIONS REACHED LIMIT.\n",
      "\n",
      "Increase the number of iterations (max_iter) or scale the data as shown in:\n",
      "    https://scikit-learn.org/stable/modules/preprocessing.html\n",
      "Please also refer to the documentation for alternative solver options:\n",
      "    https://scikit-learn.org/stable/modules/linear_model.html#logistic-regression\n",
      "  n_iter_i = _check_optimize_result(\n"
     ]
    },
    {
     "name": "stdout",
     "output_type": "stream",
     "text": [
      "Fold 1: Accuracy = 0.97\n",
      "Fold 2: Accuracy = 0.97\n",
      "Fold 3: Accuracy = 0.97\n",
      "Fold 4: Accuracy = 0.97\n",
      "Fold 5: Accuracy = 0.97\n",
      "Mean Accuracy: 0.97\n",
      "Standard Deviation: 0.00\n"
     ]
    }
   ],
   "source": [
    "from sklearn.model_selection import cross_val_score\n",
    "from sklearn.model_selection import KFold\n",
    "\n",
    "num_folds = 5\n",
    "\n",
    "kf = KFold(n_splits=num_folds, shuffle=True, random_state=42)\n",
    "\n",
    "# Perform cross-validation and compute accuracy scores\n",
    "scores = cross_val_score(model, x1, y1, cv=kf, scoring='accuracy')\n",
    "\n",
    "# Print the accuracy scores for each fold\n",
    "for i, score in enumerate(scores, 1):\n",
    "    print(f'Fold {i}: Accuracy = {score:.2f}')\n",
    "\n",
    "# Calculate and print the mean and standard deviation of the accuracy scores\n",
    "mean_accuracy = np.mean(scores)\n",
    "std_accuracy = np.std(scores)\n",
    "print(f'Mean Accuracy: {mean_accuracy:.2f}')\n",
    "print(f'Standard Deviation: {std_accuracy:.2f}')"
   ]
  },
  {
   "cell_type": "code",
   "execution_count": 26,
   "id": "c572b85d",
   "metadata": {
    "execution": {
     "iopub.execute_input": "2023-10-07T14:10:15.681323Z",
     "iopub.status.busy": "2023-10-07T14:10:15.680366Z",
     "iopub.status.idle": "2023-10-07T14:10:15.684760Z",
     "shell.execute_reply": "2023-10-07T14:10:15.683844Z"
    },
    "papermill": {
     "duration": 0.038073,
     "end_time": "2023-10-07T14:10:15.687405",
     "exception": false,
     "start_time": "2023-10-07T14:10:15.649332",
     "status": "completed"
    },
    "tags": []
   },
   "outputs": [],
   "source": [
    "from sklearn.tree import DecisionTreeClassifier"
   ]
  },
  {
   "cell_type": "code",
   "execution_count": 27,
   "id": "606c12c0",
   "metadata": {
    "execution": {
     "iopub.execute_input": "2023-10-07T14:10:15.716044Z",
     "iopub.status.busy": "2023-10-07T14:10:15.715310Z",
     "iopub.status.idle": "2023-10-07T14:10:15.720001Z",
     "shell.execute_reply": "2023-10-07T14:10:15.719298Z"
    },
    "papermill": {
     "duration": 0.021539,
     "end_time": "2023-10-07T14:10:15.722014",
     "exception": false,
     "start_time": "2023-10-07T14:10:15.700475",
     "status": "completed"
    },
    "tags": []
   },
   "outputs": [],
   "source": [
    "dtree=DecisionTreeClassifier()"
   ]
  },
  {
   "cell_type": "code",
   "execution_count": 28,
   "id": "bd25a5f7",
   "metadata": {
    "execution": {
     "iopub.execute_input": "2023-10-07T14:10:15.750191Z",
     "iopub.status.busy": "2023-10-07T14:10:15.749814Z",
     "iopub.status.idle": "2023-10-07T14:11:12.188473Z",
     "shell.execute_reply": "2023-10-07T14:11:12.187320Z"
    },
    "papermill": {
     "duration": 56.46772,
     "end_time": "2023-10-07T14:11:12.203060",
     "exception": false,
     "start_time": "2023-10-07T14:10:15.735340",
     "status": "completed"
    },
    "tags": []
   },
   "outputs": [
    {
     "data": {
      "text/html": [
       "<style>#sk-container-id-3 {color: black;background-color: white;}#sk-container-id-3 pre{padding: 0;}#sk-container-id-3 div.sk-toggleable {background-color: white;}#sk-container-id-3 label.sk-toggleable__label {cursor: pointer;display: block;width: 100%;margin-bottom: 0;padding: 0.3em;box-sizing: border-box;text-align: center;}#sk-container-id-3 label.sk-toggleable__label-arrow:before {content: \"▸\";float: left;margin-right: 0.25em;color: #696969;}#sk-container-id-3 label.sk-toggleable__label-arrow:hover:before {color: black;}#sk-container-id-3 div.sk-estimator:hover label.sk-toggleable__label-arrow:before {color: black;}#sk-container-id-3 div.sk-toggleable__content {max-height: 0;max-width: 0;overflow: hidden;text-align: left;background-color: #f0f8ff;}#sk-container-id-3 div.sk-toggleable__content pre {margin: 0.2em;color: black;border-radius: 0.25em;background-color: #f0f8ff;}#sk-container-id-3 input.sk-toggleable__control:checked~div.sk-toggleable__content {max-height: 200px;max-width: 100%;overflow: auto;}#sk-container-id-3 input.sk-toggleable__control:checked~label.sk-toggleable__label-arrow:before {content: \"▾\";}#sk-container-id-3 div.sk-estimator input.sk-toggleable__control:checked~label.sk-toggleable__label {background-color: #d4ebff;}#sk-container-id-3 div.sk-label input.sk-toggleable__control:checked~label.sk-toggleable__label {background-color: #d4ebff;}#sk-container-id-3 input.sk-hidden--visually {border: 0;clip: rect(1px 1px 1px 1px);clip: rect(1px, 1px, 1px, 1px);height: 1px;margin: -1px;overflow: hidden;padding: 0;position: absolute;width: 1px;}#sk-container-id-3 div.sk-estimator {font-family: monospace;background-color: #f0f8ff;border: 1px dotted black;border-radius: 0.25em;box-sizing: border-box;margin-bottom: 0.5em;}#sk-container-id-3 div.sk-estimator:hover {background-color: #d4ebff;}#sk-container-id-3 div.sk-parallel-item::after {content: \"\";width: 100%;border-bottom: 1px solid gray;flex-grow: 1;}#sk-container-id-3 div.sk-label:hover label.sk-toggleable__label {background-color: #d4ebff;}#sk-container-id-3 div.sk-serial::before {content: \"\";position: absolute;border-left: 1px solid gray;box-sizing: border-box;top: 0;bottom: 0;left: 50%;z-index: 0;}#sk-container-id-3 div.sk-serial {display: flex;flex-direction: column;align-items: center;background-color: white;padding-right: 0.2em;padding-left: 0.2em;position: relative;}#sk-container-id-3 div.sk-item {position: relative;z-index: 1;}#sk-container-id-3 div.sk-parallel {display: flex;align-items: stretch;justify-content: center;background-color: white;position: relative;}#sk-container-id-3 div.sk-item::before, #sk-container-id-3 div.sk-parallel-item::before {content: \"\";position: absolute;border-left: 1px solid gray;box-sizing: border-box;top: 0;bottom: 0;left: 50%;z-index: -1;}#sk-container-id-3 div.sk-parallel-item {display: flex;flex-direction: column;z-index: 1;position: relative;background-color: white;}#sk-container-id-3 div.sk-parallel-item:first-child::after {align-self: flex-end;width: 50%;}#sk-container-id-3 div.sk-parallel-item:last-child::after {align-self: flex-start;width: 50%;}#sk-container-id-3 div.sk-parallel-item:only-child::after {width: 0;}#sk-container-id-3 div.sk-dashed-wrapped {border: 1px dashed gray;margin: 0 0.4em 0.5em 0.4em;box-sizing: border-box;padding-bottom: 0.4em;background-color: white;}#sk-container-id-3 div.sk-label label {font-family: monospace;font-weight: bold;display: inline-block;line-height: 1.2em;}#sk-container-id-3 div.sk-label-container {text-align: center;}#sk-container-id-3 div.sk-container {/* jupyter's `normalize.less` sets `[hidden] { display: none; }` but bootstrap.min.css set `[hidden] { display: none !important; }` so we also need the `!important` here to be able to override the default hidden behavior on the sphinx rendered scikit-learn.org. See: https://github.com/scikit-learn/scikit-learn/issues/21755 */display: inline-block !important;position: relative;}#sk-container-id-3 div.sk-text-repr-fallback {display: none;}</style><div id=\"sk-container-id-3\" class=\"sk-top-container\"><div class=\"sk-text-repr-fallback\"><pre>DecisionTreeClassifier()</pre><b>In a Jupyter environment, please rerun this cell to show the HTML representation or trust the notebook. <br />On GitHub, the HTML representation is unable to render, please try loading this page with nbviewer.org.</b></div><div class=\"sk-container\" hidden><div class=\"sk-item\"><div class=\"sk-estimator sk-toggleable\"><input class=\"sk-toggleable__control sk-hidden--visually\" id=\"sk-estimator-id-3\" type=\"checkbox\" checked><label for=\"sk-estimator-id-3\" class=\"sk-toggleable__label sk-toggleable__label-arrow\">DecisionTreeClassifier</label><div class=\"sk-toggleable__content\"><pre>DecisionTreeClassifier()</pre></div></div></div></div></div>"
      ],
      "text/plain": [
       "DecisionTreeClassifier()"
      ]
     },
     "execution_count": 28,
     "metadata": {},
     "output_type": "execute_result"
    }
   ],
   "source": [
    "dtree.fit(x_train,y_train)"
   ]
  },
  {
   "cell_type": "code",
   "execution_count": 29,
   "id": "982ecac0",
   "metadata": {
    "execution": {
     "iopub.execute_input": "2023-10-07T14:11:12.231685Z",
     "iopub.status.busy": "2023-10-07T14:11:12.231057Z",
     "iopub.status.idle": "2023-10-07T14:11:12.606881Z",
     "shell.execute_reply": "2023-10-07T14:11:12.605731Z"
    },
    "papermill": {
     "duration": 0.393119,
     "end_time": "2023-10-07T14:11:12.609101",
     "exception": false,
     "start_time": "2023-10-07T14:11:12.215982",
     "status": "completed"
    },
    "tags": []
   },
   "outputs": [
    {
     "name": "stdout",
     "output_type": "stream",
     "text": [
      "Classification Report:Test Data\n",
      "              precision    recall  f1-score   support\n",
      "\n",
      "           0       1.00      1.00      1.00     84918\n",
      "           1       1.00      1.00      1.00     85034\n",
      "\n",
      "    accuracy                           1.00    169952\n",
      "   macro avg       1.00      1.00      1.00    169952\n",
      "weighted avg       1.00      1.00      1.00    169952\n",
      "\n"
     ]
    }
   ],
   "source": [
    "y_pred=dtree.predict(x_test)\n",
    "class_rep = classification_report(y_test, y_pred)\n",
    "print(\"Classification Report:Test Data\")\n",
    "print(class_rep)"
   ]
  },
  {
   "cell_type": "code",
   "execution_count": 30,
   "id": "dffcb99d",
   "metadata": {
    "execution": {
     "iopub.execute_input": "2023-10-07T14:11:12.638327Z",
     "iopub.status.busy": "2023-10-07T14:11:12.637919Z",
     "iopub.status.idle": "2023-10-07T14:11:13.534161Z",
     "shell.execute_reply": "2023-10-07T14:11:13.533445Z"
    },
    "papermill": {
     "duration": 0.913287,
     "end_time": "2023-10-07T14:11:13.536254",
     "exception": false,
     "start_time": "2023-10-07T14:11:12.622967",
     "status": "completed"
    },
    "tags": []
   },
   "outputs": [
    {
     "name": "stdout",
     "output_type": "stream",
     "text": [
      "Classification Report:Train Data\n",
      "              precision    recall  f1-score   support\n",
      "\n",
      "           0       1.00      1.00      1.00    198335\n",
      "           1       1.00      1.00      1.00    198219\n",
      "\n",
      "    accuracy                           1.00    396554\n",
      "   macro avg       1.00      1.00      1.00    396554\n",
      "weighted avg       1.00      1.00      1.00    396554\n",
      "\n"
     ]
    }
   ],
   "source": [
    "y_pred_train=dtree.predict(x_train)\n",
    "class_rep = classification_report(y_train, y_pred_train)\n",
    "print(\"Classification Report:Train Data\")\n",
    "print(class_rep)"
   ]
  },
  {
   "cell_type": "code",
   "execution_count": 31,
   "id": "5240433b",
   "metadata": {
    "execution": {
     "iopub.execute_input": "2023-10-07T14:11:13.564863Z",
     "iopub.status.busy": "2023-10-07T14:11:13.564465Z",
     "iopub.status.idle": "2023-10-07T14:11:13.842568Z",
     "shell.execute_reply": "2023-10-07T14:11:13.841397Z"
    },
    "papermill": {
     "duration": 0.294973,
     "end_time": "2023-10-07T14:11:13.844679",
     "exception": false,
     "start_time": "2023-10-07T14:11:13.549706",
     "status": "completed"
    },
    "tags": []
   },
   "outputs": [
    {
     "data": {
      "image/png": "[encoded data removed]",
      "text/plain": [
       "<Figure size 800x600 with 1 Axes>"
      ]
     },
     "metadata": {},
     "output_type": "display_data"
    }
   ],
   "source": [
    "from sklearn.metrics import roc_curve, auc\n",
    "\n",
    "fpr, tpr, _ = roc_curve(y_test, y_pred)\n",
    "roc_auc = auc(fpr, tpr)\n",
    "\n",
    "plt.figure(figsize=(8, 6))\n",
    "plt.plot(fpr, tpr, color='darkorange', lw=2, label='ROC curve (AUC = {:.2f})'.format(roc_auc))\n",
    "plt.plot([0, 1], [0, 1], color='navy', lw=2, linestyle='--')\n",
    "plt.xlim([0.0, 1.0])\n",
    "plt.ylim([0.0, 1.05])\n",
    "plt.xlabel('False Positive Rate')\n",
    "plt.ylabel('True Positive Rate')\n",
    "plt.title('Receiver Operating Characteristic (ROC) Curve')\n",
    "plt.legend(loc='lower right')\n",
    "plt.show()"
   ]
  },
  {
   "cell_type": "code",
   "execution_count": 32,
   "id": "0aec2e83",
   "metadata": {
    "execution": {
     "iopub.execute_input": "2023-10-07T14:11:13.874975Z",
     "iopub.status.busy": "2023-10-07T14:11:13.874611Z",
     "iopub.status.idle": "2023-10-07T14:16:05.602199Z",
     "shell.execute_reply": "2023-10-07T14:16:05.600960Z"
    },
    "papermill": {
     "duration": 291.760228,
     "end_time": "2023-10-07T14:16:05.619039",
     "exception": false,
     "start_time": "2023-10-07T14:11:13.858811",
     "status": "completed"
    },
    "tags": []
   },
   "outputs": [
    {
     "name": "stdout",
     "output_type": "stream",
     "text": [
      "Fold 1: Accuracy = 1.00\n",
      "Fold 2: Accuracy = 1.00\n",
      "Fold 3: Accuracy = 1.00\n",
      "Fold 4: Accuracy = 1.00\n",
      "Fold 5: Accuracy = 1.00\n",
      "Mean Accuracy: 1.00\n",
      "Standard Deviation: 0.00\n"
     ]
    }
   ],
   "source": [
    "\n",
    "\n",
    "num_folds = 5\n",
    "\n",
    "kf = KFold(n_splits=num_folds, shuffle=True, random_state=42)\n",
    "\n",
    "# Perform cross-validation and compute accuracy scores\n",
    "scores = cross_val_score(dtree, x1, y1, cv=kf, scoring='accuracy')\n",
    "\n",
    "# Print the accuracy scores for each fold\n",
    "for i, score in enumerate(scores, 1):\n",
    "    print(f'Fold {i}: Accuracy = {score:.2f}')\n",
    "\n",
    "# Calculate and print the mean and standard deviation of the accuracy scores\n",
    "mean_accuracy = np.mean(scores)\n",
    "std_accuracy = np.std(scores)\n",
    "print(f'Mean Accuracy: {mean_accuracy:.2f}')\n",
    "print(f'Standard Deviation: {std_accuracy:.2f}')"
   ]
  },
  {
   "cell_type": "code",
   "execution_count": 33,
   "id": "80072426",
   "metadata": {
    "execution": {
     "iopub.execute_input": "2023-10-07T14:16:05.649029Z",
     "iopub.status.busy": "2023-10-07T14:16:05.648669Z",
     "iopub.status.idle": "2023-10-07T14:16:05.653336Z",
     "shell.execute_reply": "2023-10-07T14:16:05.652493Z"
    },
    "papermill": {
     "duration": 0.021846,
     "end_time": "2023-10-07T14:16:05.655179",
     "exception": false,
     "start_time": "2023-10-07T14:16:05.633333",
     "status": "completed"
    },
    "tags": []
   },
   "outputs": [],
   "source": [
    "#overfitting pruning decision tree\n",
    "dtree=DecisionTreeClassifier(max_depth=8)\n"
   ]
  },
  {
   "cell_type": "code",
   "execution_count": 34,
   "id": "afeef673",
   "metadata": {
    "execution": {
     "iopub.execute_input": "2023-10-07T14:16:05.684982Z",
     "iopub.status.busy": "2023-10-07T14:16:05.684650Z",
     "iopub.status.idle": "2023-10-07T14:16:26.124203Z",
     "shell.execute_reply": "2023-10-07T14:16:26.123305Z"
    },
    "papermill": {
     "duration": 20.457093,
     "end_time": "2023-10-07T14:16:26.126408",
     "exception": false,
     "start_time": "2023-10-07T14:16:05.669315",
     "status": "completed"
    },
    "tags": []
   },
   "outputs": [
    {
     "data": {
      "text/html": [
       "<style>#sk-container-id-4 {color: black;background-color: white;}#sk-container-id-4 pre{padding: 0;}#sk-container-id-4 div.sk-toggleable {background-color: white;}#sk-container-id-4 label.sk-toggleable__label {cursor: pointer;display: block;width: 100%;margin-bottom: 0;padding: 0.3em;box-sizing: border-box;text-align: center;}#sk-container-id-4 label.sk-toggleable__label-arrow:before {content: \"▸\";float: left;margin-right: 0.25em;color: #696969;}#sk-container-id-4 label.sk-toggleable__label-arrow:hover:before {color: black;}#sk-container-id-4 div.sk-estimator:hover label.sk-toggleable__label-arrow:before {color: black;}#sk-container-id-4 div.sk-toggleable__content {max-height: 0;max-width: 0;overflow: hidden;text-align: left;background-color: #f0f8ff;}#sk-container-id-4 div.sk-toggleable__content pre {margin: 0.2em;color: black;border-radius: 0.25em;background-color: #f0f8ff;}#sk-container-id-4 input.sk-toggleable__control:checked~div.sk-toggleable__content {max-height: 200px;max-width: 100%;overflow: auto;}#sk-container-id-4 input.sk-toggleable__control:checked~label.sk-toggleable__label-arrow:before {content: \"▾\";}#sk-container-id-4 div.sk-estimator input.sk-toggleable__control:checked~label.sk-toggleable__label {background-color: #d4ebff;}#sk-container-id-4 div.sk-label input.sk-toggleable__control:checked~label.sk-toggleable__label {background-color: #d4ebff;}#sk-container-id-4 input.sk-hidden--visually {border: 0;clip: rect(1px 1px 1px 1px);clip: rect(1px, 1px, 1px, 1px);height: 1px;margin: -1px;overflow: hidden;padding: 0;position: absolute;width: 1px;}#sk-container-id-4 div.sk-estimator {font-family: monospace;background-color: #f0f8ff;border: 1px dotted black;border-radius: 0.25em;box-sizing: border-box;margin-bottom: 0.5em;}#sk-container-id-4 div.sk-estimator:hover {background-color: #d4ebff;}#sk-container-id-4 div.sk-parallel-item::after {content: \"\";width: 100%;border-bottom: 1px solid gray;flex-grow: 1;}#sk-container-id-4 div.sk-label:hover label.sk-toggleable__label {background-color: #d4ebff;}#sk-container-id-4 div.sk-serial::before {content: \"\";position: absolute;border-left: 1px solid gray;box-sizing: border-box;top: 0;bottom: 0;left: 50%;z-index: 0;}#sk-container-id-4 div.sk-serial {display: flex;flex-direction: column;align-items: center;background-color: white;padding-right: 0.2em;padding-left: 0.2em;position: relative;}#sk-container-id-4 div.sk-item {position: relative;z-index: 1;}#sk-container-id-4 div.sk-parallel {display: flex;align-items: stretch;justify-content: center;background-color: white;position: relative;}#sk-container-id-4 div.sk-item::before, #sk-container-id-4 div.sk-parallel-item::before {content: \"\";position: absolute;border-left: 1px solid gray;box-sizing: border-box;top: 0;bottom: 0;left: 50%;z-index: -1;}#sk-container-id-4 div.sk-parallel-item {display: flex;flex-direction: column;z-index: 1;position: relative;background-color: white;}#sk-container-id-4 div.sk-parallel-item:first-child::after {align-self: flex-end;width: 50%;}#sk-container-id-4 div.sk-parallel-item:last-child::after {align-self: flex-start;width: 50%;}#sk-container-id-4 div.sk-parallel-item:only-child::after {width: 0;}#sk-container-id-4 div.sk-dashed-wrapped {border: 1px dashed gray;margin: 0 0.4em 0.5em 0.4em;box-sizing: border-box;padding-bottom: 0.4em;background-color: white;}#sk-container-id-4 div.sk-label label {font-family: monospace;font-weight: bold;display: inline-block;line-height: 1.2em;}#sk-container-id-4 div.sk-label-container {text-align: center;}#sk-container-id-4 div.sk-container {/* jupyter's `normalize.less` sets `[hidden] { display: none; }` but bootstrap.min.css set `[hidden] { display: none !important; }` so we also need the `!important` here to be able to override the default hidden behavior on the sphinx rendered scikit-learn.org. See: https://github.com/scikit-learn/scikit-learn/issues/21755 */display: inline-block !important;position: relative;}#sk-container-id-4 div.sk-text-repr-fallback {display: none;}</style><div id=\"sk-container-id-4\" class=\"sk-top-container\"><div class=\"sk-text-repr-fallback\"><pre>DecisionTreeClassifier(max_depth=8)</pre><b>In a Jupyter environment, please rerun this cell to show the HTML representation or trust the notebook. <br />On GitHub, the HTML representation is unable to render, please try loading this page with nbviewer.org.</b></div><div class=\"sk-container\" hidden><div class=\"sk-item\"><div class=\"sk-estimator sk-toggleable\"><input class=\"sk-toggleable__control sk-hidden--visually\" id=\"sk-estimator-id-4\" type=\"checkbox\" checked><label for=\"sk-estimator-id-4\" class=\"sk-toggleable__label sk-toggleable__label-arrow\">DecisionTreeClassifier</label><div class=\"sk-toggleable__content\"><pre>DecisionTreeClassifier(max_depth=8)</pre></div></div></div></div></div>"
      ],
      "text/plain": [
       "DecisionTreeClassifier(max_depth=8)"
      ]
     },
     "execution_count": 34,
     "metadata": {},
     "output_type": "execute_result"
    }
   ],
   "source": [
    "dtree.fit(x_train,y_train)"
   ]
  },
  {
   "cell_type": "code",
   "execution_count": 35,
   "id": "d479412c",
   "metadata": {
    "execution": {
     "iopub.execute_input": "2023-10-07T14:16:26.162361Z",
     "iopub.status.busy": "2023-10-07T14:16:26.161705Z",
     "iopub.status.idle": "2023-10-07T14:16:26.529908Z",
     "shell.execute_reply": "2023-10-07T14:16:26.529087Z"
    },
    "papermill": {
     "duration": 0.391001,
     "end_time": "2023-10-07T14:16:26.532208",
     "exception": false,
     "start_time": "2023-10-07T14:16:26.141207",
     "status": "completed"
    },
    "tags": []
   },
   "outputs": [
    {
     "name": "stdout",
     "output_type": "stream",
     "text": [
      "Classification Report:Test Data\n",
      "              precision    recall  f1-score   support\n",
      "\n",
      "           0       0.98      0.98      0.98     84918\n",
      "           1       0.98      0.98      0.98     85034\n",
      "\n",
      "    accuracy                           0.98    169952\n",
      "   macro avg       0.98      0.98      0.98    169952\n",
      "weighted avg       0.98      0.98      0.98    169952\n",
      "\n"
     ]
    }
   ],
   "source": [
    "y_pred=dtree.predict(x_test)\n",
    "class_rep = classification_report(y_test, y_pred)\n",
    "print(\"Classification Report:Test Data\")\n",
    "print(class_rep)"
   ]
  },
  {
   "cell_type": "code",
   "execution_count": 36,
   "id": "f8cec763",
   "metadata": {
    "execution": {
     "iopub.execute_input": "2023-10-07T14:16:26.563125Z",
     "iopub.status.busy": "2023-10-07T14:16:26.562109Z",
     "iopub.status.idle": "2023-10-07T14:16:27.423778Z",
     "shell.execute_reply": "2023-10-07T14:16:27.422619Z"
    },
    "papermill": {
     "duration": 0.879279,
     "end_time": "2023-10-07T14:16:27.426028",
     "exception": false,
     "start_time": "2023-10-07T14:16:26.546749",
     "status": "completed"
    },
    "tags": []
   },
   "outputs": [
    {
     "name": "stdout",
     "output_type": "stream",
     "text": [
      "Classification Report:Train Data\n",
      "              precision    recall  f1-score   support\n",
      "\n",
      "           0       0.98      0.98      0.98    198335\n",
      "           1       0.98      0.98      0.98    198219\n",
      "\n",
      "    accuracy                           0.98    396554\n",
      "   macro avg       0.98      0.98      0.98    396554\n",
      "weighted avg       0.98      0.98      0.98    396554\n",
      "\n"
     ]
    }
   ],
   "source": [
    "y_pred_train=dtree.predict(x_train)\n",
    "class_rep = classification_report(y_train, y_pred_train)\n",
    "print(\"Classification Report:Train Data\")\n",
    "print(class_rep)"
   ]
  },
  {
   "cell_type": "code",
   "execution_count": 37,
   "id": "f45f13ff",
   "metadata": {
    "execution": {
     "iopub.execute_input": "2023-10-07T14:16:27.457048Z",
     "iopub.status.busy": "2023-10-07T14:16:27.456665Z",
     "iopub.status.idle": "2023-10-07T14:18:17.677319Z",
     "shell.execute_reply": "2023-10-07T14:18:17.676144Z"
    },
    "papermill": {
     "duration": 110.25352,
     "end_time": "2023-10-07T14:18:17.694075",
     "exception": false,
     "start_time": "2023-10-07T14:16:27.440555",
     "status": "completed"
    },
    "tags": []
   },
   "outputs": [
    {
     "name": "stdout",
     "output_type": "stream",
     "text": [
      "Fold 1: Accuracy = 0.98\n",
      "Fold 2: Accuracy = 0.98\n",
      "Fold 3: Accuracy = 0.98\n",
      "Fold 4: Accuracy = 0.98\n",
      "Fold 5: Accuracy = 0.98\n",
      "Mean Accuracy: 0.98\n"
     ]
    }
   ],
   "source": [
    "\n",
    "num_folds = 5\n",
    "\n",
    "kf = KFold(n_splits=num_folds, shuffle=True, random_state=42)\n",
    "\n",
    "# Perform cross-validation and compute accuracy scores\n",
    "scores = cross_val_score(dtree, x1, y1, cv=kf, scoring='accuracy')\n",
    "\n",
    "# Print the accuracy scores for each fold\n",
    "for i, score in enumerate(scores, 1):\n",
    "    print(f'Fold {i}: Accuracy = {score:.2f}')\n",
    "\n",
    "# Calculate and print the mean and standard deviation of the accuracy scores\n",
    "mean_accuracy = np.mean(scores)\n",
    "std_accuracy = np.std(scores)\n",
    "print(f'Mean Accuracy: {mean_accuracy:.2f}')"
   ]
  },
  {
   "cell_type": "code",
   "execution_count": 38,
   "id": "b2770239",
   "metadata": {
    "execution": {
     "iopub.execute_input": "2023-10-07T14:18:17.725040Z",
     "iopub.status.busy": "2023-10-07T14:18:17.724654Z",
     "iopub.status.idle": "2023-10-07T14:18:18.007691Z",
     "shell.execute_reply": "2023-10-07T14:18:18.006456Z"
    },
    "papermill": {
     "duration": 0.301855,
     "end_time": "2023-10-07T14:18:18.010643",
     "exception": false,
     "start_time": "2023-10-07T14:18:17.708788",
     "status": "completed"
    },
    "tags": []
   },
   "outputs": [
    {
     "data": {
      "image/png": "[encoded data removed]",
      "text/plain": [
       "<Figure size 800x600 with 1 Axes>"
      ]
     },
     "metadata": {},
     "output_type": "display_data"
    }
   ],
   "source": [
    "from sklearn.metrics import roc_curve, auc\n",
    "\n",
    "fpr, tpr, _ = roc_curve(y_test, y_pred)\n",
    "roc_auc = auc(fpr, tpr)\n",
    "\n",
    "plt.figure(figsize=(8, 6))\n",
    "plt.plot(fpr, tpr, color='darkorange', lw=2, label='ROC curve (AUC = {:.2f})'.format(roc_auc))\n",
    "plt.plot([0, 1], [0, 1], color='navy', lw=2, linestyle='--')\n",
    "plt.xlim([0.0, 1.0])\n",
    "plt.ylim([0.0, 1.05])\n",
    "plt.xlabel('False Positive Rate')\n",
    "plt.ylabel('True Positive Rate')\n",
    "plt.title('Receiver Operating Characteristic (ROC) Curve')\n",
    "plt.legend(loc='lower right')\n",
    "plt.show()"
   ]
  },
  {
   "cell_type": "code",
   "execution_count": 39,
   "id": "de63494a",
   "metadata": {
    "execution": {
     "iopub.execute_input": "2023-10-07T14:18:18.042573Z",
     "iopub.status.busy": "2023-10-07T14:18:18.042185Z",
     "iopub.status.idle": "2023-10-07T14:18:18.049528Z",
     "shell.execute_reply": "2023-10-07T14:18:18.048283Z"
    },
    "papermill": {
     "duration": 0.025879,
     "end_time": "2023-10-07T14:18:18.051717",
     "exception": false,
     "start_time": "2023-10-07T14:18:18.025838",
     "status": "completed"
    },
    "tags": []
   },
   "outputs": [],
   "source": [
    "feature_importances = dtree.feature_importances_\n",
    "\n",
    "# Create a DataFrame for easier visualization (optional but helpful)\n",
    "importance_df = pd.DataFrame({'Feature': x1.columns, 'Importance': feature_importances})\n",
    "\n",
    "# Sort the features by importance score\n",
    "importance_df = importance_df.sort_values(by='Importance', ascending=False)"
   ]
  },
  {
   "cell_type": "code",
   "execution_count": 40,
   "id": "23c47cb4",
   "metadata": {
    "execution": {
     "iopub.execute_input": "2023-10-07T14:18:18.084303Z",
     "iopub.status.busy": "2023-10-07T14:18:18.083883Z",
     "iopub.status.idle": "2023-10-07T14:18:18.095388Z",
     "shell.execute_reply": "2023-10-07T14:18:18.094300Z"
    },
    "papermill": {
     "duration": 0.030288,
     "end_time": "2023-10-07T14:18:18.097570",
     "exception": false,
     "start_time": "2023-10-07T14:18:18.067282",
     "status": "completed"
    },
    "tags": []
   },
   "outputs": [
    {
     "data": {
      "text/html": [
       "<div>\n",
       "<style scoped>\n",
       "    .dataframe tbody tr th:only-of-type {\n",
       "        vertical-align: middle;\n",
       "    }\n",
       "\n",
       "    .dataframe tbody tr th {\n",
       "        vertical-align: top;\n",
       "    }\n",
       "\n",
       "    .dataframe thead th {\n",
       "        text-align: right;\n",
       "    }\n",
       "</style>\n",
       "<table border=\"1\" class=\"dataframe\">\n",
       "  <thead>\n",
       "    <tr style=\"text-align: right;\">\n",
       "      <th></th>\n",
       "      <th>Feature</th>\n",
       "      <th>Importance</th>\n",
       "    </tr>\n",
       "  </thead>\n",
       "  <tbody>\n",
       "    <tr>\n",
       "      <th>14</th>\n",
       "      <td>V14</td>\n",
       "      <td>0.843709</td>\n",
       "    </tr>\n",
       "    <tr>\n",
       "      <th>4</th>\n",
       "      <td>V4</td>\n",
       "      <td>0.042835</td>\n",
       "    </tr>\n",
       "    <tr>\n",
       "      <th>17</th>\n",
       "      <td>V17</td>\n",
       "      <td>0.029825</td>\n",
       "    </tr>\n",
       "    <tr>\n",
       "      <th>12</th>\n",
       "      <td>V12</td>\n",
       "      <td>0.023216</td>\n",
       "    </tr>\n",
       "    <tr>\n",
       "      <th>3</th>\n",
       "      <td>V3</td>\n",
       "      <td>0.009244</td>\n",
       "    </tr>\n",
       "    <tr>\n",
       "      <th>0</th>\n",
       "      <td>Time</td>\n",
       "      <td>0.008056</td>\n",
       "    </tr>\n",
       "    <tr>\n",
       "      <th>1</th>\n",
       "      <td>V1</td>\n",
       "      <td>0.007033</td>\n",
       "    </tr>\n",
       "    <tr>\n",
       "      <th>23</th>\n",
       "      <td>V23</td>\n",
       "      <td>0.004332</td>\n",
       "    </tr>\n",
       "    <tr>\n",
       "      <th>13</th>\n",
       "      <td>V13</td>\n",
       "      <td>0.004110</td>\n",
       "    </tr>\n",
       "    <tr>\n",
       "      <th>21</th>\n",
       "      <td>V21</td>\n",
       "      <td>0.003989</td>\n",
       "    </tr>\n",
       "    <tr>\n",
       "      <th>29</th>\n",
       "      <td>Amount</td>\n",
       "      <td>0.003206</td>\n",
       "    </tr>\n",
       "    <tr>\n",
       "      <th>15</th>\n",
       "      <td>V15</td>\n",
       "      <td>0.003197</td>\n",
       "    </tr>\n",
       "    <tr>\n",
       "      <th>10</th>\n",
       "      <td>V10</td>\n",
       "      <td>0.002606</td>\n",
       "    </tr>\n",
       "    <tr>\n",
       "      <th>11</th>\n",
       "      <td>V11</td>\n",
       "      <td>0.002433</td>\n",
       "    </tr>\n",
       "    <tr>\n",
       "      <th>18</th>\n",
       "      <td>V18</td>\n",
       "      <td>0.002432</td>\n",
       "    </tr>\n",
       "    <tr>\n",
       "      <th>9</th>\n",
       "      <td>V9</td>\n",
       "      <td>0.001925</td>\n",
       "    </tr>\n",
       "    <tr>\n",
       "      <th>16</th>\n",
       "      <td>V16</td>\n",
       "      <td>0.001773</td>\n",
       "    </tr>\n",
       "    <tr>\n",
       "      <th>22</th>\n",
       "      <td>V22</td>\n",
       "      <td>0.001157</td>\n",
       "    </tr>\n",
       "    <tr>\n",
       "      <th>19</th>\n",
       "      <td>V19</td>\n",
       "      <td>0.000968</td>\n",
       "    </tr>\n",
       "    <tr>\n",
       "      <th>24</th>\n",
       "      <td>V24</td>\n",
       "      <td>0.000803</td>\n",
       "    </tr>\n",
       "    <tr>\n",
       "      <th>20</th>\n",
       "      <td>V20</td>\n",
       "      <td>0.000741</td>\n",
       "    </tr>\n",
       "    <tr>\n",
       "      <th>26</th>\n",
       "      <td>V26</td>\n",
       "      <td>0.000631</td>\n",
       "    </tr>\n",
       "    <tr>\n",
       "      <th>7</th>\n",
       "      <td>V7</td>\n",
       "      <td>0.000628</td>\n",
       "    </tr>\n",
       "    <tr>\n",
       "      <th>25</th>\n",
       "      <td>V25</td>\n",
       "      <td>0.000620</td>\n",
       "    </tr>\n",
       "    <tr>\n",
       "      <th>8</th>\n",
       "      <td>V8</td>\n",
       "      <td>0.000456</td>\n",
       "    </tr>\n",
       "    <tr>\n",
       "      <th>6</th>\n",
       "      <td>V6</td>\n",
       "      <td>0.000074</td>\n",
       "    </tr>\n",
       "    <tr>\n",
       "      <th>5</th>\n",
       "      <td>V5</td>\n",
       "      <td>0.000000</td>\n",
       "    </tr>\n",
       "    <tr>\n",
       "      <th>2</th>\n",
       "      <td>V2</td>\n",
       "      <td>0.000000</td>\n",
       "    </tr>\n",
       "    <tr>\n",
       "      <th>27</th>\n",
       "      <td>V27</td>\n",
       "      <td>0.000000</td>\n",
       "    </tr>\n",
       "    <tr>\n",
       "      <th>28</th>\n",
       "      <td>V28</td>\n",
       "      <td>0.000000</td>\n",
       "    </tr>\n",
       "  </tbody>\n",
       "</table>\n",
       "</div>"
      ],
      "text/plain": [
       "   Feature  Importance\n",
       "14     V14    0.843709\n",
       "4       V4    0.042835\n",
       "17     V17    0.029825\n",
       "12     V12    0.023216\n",
       "3       V3    0.009244\n",
       "0     Time    0.008056\n",
       "1       V1    0.007033\n",
       "23     V23    0.004332\n",
       "13     V13    0.004110\n",
       "21     V21    0.003989\n",
       "29  Amount    0.003206\n",
       "15     V15    0.003197\n",
       "10     V10    0.002606\n",
       "11     V11    0.002433\n",
       "18     V18    0.002432\n",
       "9       V9    0.001925\n",
       "16     V16    0.001773\n",
       "22     V22    0.001157\n",
       "19     V19    0.000968\n",
       "24     V24    0.000803\n",
       "20     V20    0.000741\n",
       "26     V26    0.000631\n",
       "7       V7    0.000628\n",
       "25     V25    0.000620\n",
       "8       V8    0.000456\n",
       "6       V6    0.000074\n",
       "5       V5    0.000000\n",
       "2       V2    0.000000\n",
       "27     V27    0.000000\n",
       "28     V28    0.000000"
      ]
     },
     "execution_count": 40,
     "metadata": {},
     "output_type": "execute_result"
    }
   ],
   "source": [
    "importance_df"
   ]
  },
  {
   "cell_type": "code",
   "execution_count": 41,
   "id": "fecbcc2a",
   "metadata": {
    "execution": {
     "iopub.execute_input": "2023-10-07T14:18:18.131049Z",
     "iopub.status.busy": "2023-10-07T14:18:18.130696Z",
     "iopub.status.idle": "2023-10-07T14:18:18.725409Z",
     "shell.execute_reply": "2023-10-07T14:18:18.724554Z"
    },
    "papermill": {
     "duration": 0.614147,
     "end_time": "2023-10-07T14:18:18.727746",
     "exception": false,
     "start_time": "2023-10-07T14:18:18.113599",
     "status": "completed"
    },
    "tags": []
   },
   "outputs": [
    {
     "data": {
      "image/png": "[encoded data removed]",
      "text/plain": [
       "<Figure size 1500x600 with 1 Axes>"
      ]
     },
     "metadata": {},
     "output_type": "display_data"
    }
   ],
   "source": [
    "\n",
    "\n",
    "importance_df['Importance (%)'] = (importance_df['Importance'] / importance_df['Importance'].sum()) * 100\n",
    "\n",
    "\n",
    "\n",
    "\n",
    "plt.figure(figsize=(15, 6))\n",
    "sns.set(style=\"whitegrid\")\n",
    "sns.heatmap(importance_df[['Importance (%)']].transpose(), cmap='viridis', annot=True, cbar=False)\n",
    "plt.title('Feature Importance (%)')\n",
    "plt.xlabel('Features')\n",
    "plt.ylabel('Importance (%)')\n",
    "plt.xticks(rotation=90)  # Rotate x-axis labels for better readability\n",
    "plt.show()\n"
   ]
  },
  {
   "cell_type": "code",
   "execution_count": 42,
   "id": "c29f041a",
   "metadata": {
    "execution": {
     "iopub.execute_input": "2023-10-07T14:18:18.763086Z",
     "iopub.status.busy": "2023-10-07T14:18:18.762738Z",
     "iopub.status.idle": "2023-10-07T14:18:18.769854Z",
     "shell.execute_reply": "2023-10-07T14:18:18.768637Z"
    },
    "papermill": {
     "duration": 0.02719,
     "end_time": "2023-10-07T14:18:18.771733",
     "exception": false,
     "start_time": "2023-10-07T14:18:18.744543",
     "status": "completed"
    },
    "tags": []
   },
   "outputs": [
    {
     "data": {
      "text/plain": [
       "array([14, 17,  3,  4, 12, 16, 10,  9,  8, 13, 22, 15,  5,  6,  2,  7, 11,\n",
       "       25, 19, 18,  1, 21, 23, 24, 27, 28, 26, 20, 29,  0])"
      ]
     },
     "execution_count": 42,
     "metadata": {},
     "output_type": "execute_result"
    }
   ],
   "source": [
    "coefficients = model.coef_\n",
    "feature_importancel = abs(coefficients[0])\n",
    "sorted_indices = feature_importancel.argsort()[::-1]\n",
    "\n",
    "sorted_indices"
   ]
  },
  {
   "cell_type": "code",
   "execution_count": 43,
   "id": "8b62cef6",
   "metadata": {
    "execution": {
     "iopub.execute_input": "2023-10-07T14:18:18.806202Z",
     "iopub.status.busy": "2023-10-07T14:18:18.805856Z",
     "iopub.status.idle": "2023-10-07T14:18:18.811934Z",
     "shell.execute_reply": "2023-10-07T14:18:18.811177Z"
    },
    "papermill": {
     "duration": 0.025699,
     "end_time": "2023-10-07T14:18:18.813668",
     "exception": false,
     "start_time": "2023-10-07T14:18:18.787969",
     "status": "completed"
    },
    "tags": []
   },
   "outputs": [
    {
     "data": {
      "text/plain": [
       "array([[-3.62533418e-05,  1.15341442e-01, -2.19272192e-01,\n",
       "        -8.38210603e-01,  8.34586603e-01,  2.70742408e-01,\n",
       "        -2.49816361e-01, -2.17171925e-01, -3.96015607e-01,\n",
       "        -4.64773925e-01, -5.81595491e-01,  2.09363807e-01,\n",
       "        -7.88030427e-01, -3.35540429e-01, -1.33822488e+00,\n",
       "        -2.89787384e-01, -5.97099815e-01, -9.15583916e-01,\n",
       "        -1.33355629e-01,  1.62022446e-01, -4.30864374e-03,\n",
       "         1.07162834e-01,  3.05932603e-01,  6.12709818e-02,\n",
       "         5.46548516e-02, -1.88451257e-01, -2.62781411e-02,\n",
       "         5.41911041e-02,  3.71019601e-02, -6.79318434e-04]])"
      ]
     },
     "execution_count": 43,
     "metadata": {},
     "output_type": "execute_result"
    }
   ],
   "source": [
    "coefficients"
   ]
  },
  {
   "cell_type": "code",
   "execution_count": null,
   "id": "d29d4b31",
   "metadata": {
    "papermill": {
     "duration": 0.016355,
     "end_time": "2023-10-07T14:18:18.846341",
     "exception": false,
     "start_time": "2023-10-07T14:18:18.829986",
     "status": "completed"
    },
    "tags": []
   },
   "outputs": [],
   "source": []
  }
 ],
 "metadata": {
  "kernelspec": {
   "display_name": "Python 3",
   "language": "python",
   "name": "python3"
  },
  "language_info": {
   "codemirror_mode": {
    "name": "ipython",
    "version": 3
   },
   "file_extension": ".py",
   "mimetype": "text/x-python",
   "name": "python",
   "nbconvert_exporter": "python",
   "pygments_lexer": "ipython3",
   "version": "3.10.12"
  },
  "papermill": {
   "default_parameters": {},
   "duration": 543.531912,
   "end_time": "2023-10-07T14:18:19.584377",
   "environment_variables": {},
   "exception": null,
   "input_path": "__notebook__.ipynb",
   "output_path": "__notebook__.ipynb",
   "parameters": {},
   "start_time": "2023-10-07T14:09:16.052465",
   "version": "2.4.0"
  }
 },
 "nbformat": 4,
 "nbformat_minor": 5
}
