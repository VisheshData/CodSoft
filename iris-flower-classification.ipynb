{
 "cells": [
  {
   "cell_type": "code",
   "execution_count": 1,
   "id": "3c8d1248",
   "metadata": {
    "_cell_guid": "b1076dfc-b9ad-4769-8c92-a6c4dae69d19",
    "_uuid": "8f2839f25d086af736a60e9eeb907d3b93b6e0e5",
    "execution": {
     "iopub.execute_input": "2023-10-09T11:50:40.896741Z",
     "iopub.status.busy": "2023-10-09T11:50:40.896361Z",
     "iopub.status.idle": "2023-10-09T11:50:41.284034Z",
     "shell.execute_reply": "2023-10-09T11:50:41.282556Z"
    },
    "papermill": {
     "duration": 0.402752,
     "end_time": "2023-10-09T11:50:41.288091",
     "exception": false,
     "start_time": "2023-10-09T11:50:40.885339",
     "status": "completed"
    },
    "tags": []
   },
   "outputs": [
    {
     "name": "stdout",
     "output_type": "stream",
     "text": [
      "/kaggle/input/iris-flower-dataset/IRIS.csv\n"
     ]
    }
   ],
   "source": [
    "# This Python 3 environment comes with many helpful analytics libraries installed\n",
    "# It is defined by the kaggle/python Docker image: https://github.com/kaggle/docker-python\n",
    "# For example, here's several helpful packages to load\n",
    "\n",
    "import numpy as np # linear algebra\n",
    "import pandas as pd # data processing, CSV file I/O (e.g. pd.read_csv)\n",
    "\n",
    "# Input data files are available in the read-only \"../input/\" directory\n",
    "# For example, running this (by clicking run or pressing Shift+Enter) will list all files under the input directory\n",
    "\n",
    "import os\n",
    "for dirname, _, filenames in os.walk('/kaggle/input'):\n",
    "    for filename in filenames:\n",
    "        print(os.path.join(dirname, filename))\n",
    "\n",
    "# You can write up to 20GB to the current directory (/kaggle/working/) that gets preserved as output when you create a version using \"Save & Run All\" \n",
    "# You can also write temporary files to /kaggle/temp/, but they won't be saved outside of the current session"
   ]
  },
  {
   "cell_type": "code",
   "execution_count": 2,
   "id": "619649c7",
   "metadata": {
    "execution": {
     "iopub.execute_input": "2023-10-09T11:50:41.308883Z",
     "iopub.status.busy": "2023-10-09T11:50:41.308444Z",
     "iopub.status.idle": "2023-10-09T11:50:41.324960Z",
     "shell.execute_reply": "2023-10-09T11:50:41.324131Z"
    },
    "papermill": {
     "duration": 0.030032,
     "end_time": "2023-10-09T11:50:41.327364",
     "exception": false,
     "start_time": "2023-10-09T11:50:41.297332",
     "status": "completed"
    },
    "tags": []
   },
   "outputs": [],
   "source": [
    "df=pd.read_csv('/kaggle/input/iris-flower-dataset/IRIS.csv')"
   ]
  },
  {
   "cell_type": "code",
   "execution_count": 3,
   "id": "5db5f821",
   "metadata": {
    "execution": {
     "iopub.execute_input": "2023-10-09T11:50:41.346350Z",
     "iopub.status.busy": "2023-10-09T11:50:41.345592Z",
     "iopub.status.idle": "2023-10-09T11:50:41.368580Z",
     "shell.execute_reply": "2023-10-09T11:50:41.367657Z"
    },
    "papermill": {
     "duration": 0.034694,
     "end_time": "2023-10-09T11:50:41.370677",
     "exception": false,
     "start_time": "2023-10-09T11:50:41.335983",
     "status": "completed"
    },
    "tags": []
   },
   "outputs": [
    {
     "data": {
      "text/html": [
       "<div>\n",
       "<style scoped>\n",
       "    .dataframe tbody tr th:only-of-type {\n",
       "        vertical-align: middle;\n",
       "    }\n",
       "\n",
       "    .dataframe tbody tr th {\n",
       "        vertical-align: top;\n",
       "    }\n",
       "\n",
       "    .dataframe thead th {\n",
       "        text-align: right;\n",
       "    }\n",
       "</style>\n",
       "<table border=\"1\" class=\"dataframe\">\n",
       "  <thead>\n",
       "    <tr style=\"text-align: right;\">\n",
       "      <th></th>\n",
       "      <th>sepal_length</th>\n",
       "      <th>sepal_width</th>\n",
       "      <th>petal_length</th>\n",
       "      <th>petal_width</th>\n",
       "      <th>species</th>\n",
       "    </tr>\n",
       "  </thead>\n",
       "  <tbody>\n",
       "    <tr>\n",
       "      <th>0</th>\n",
       "      <td>5.1</td>\n",
       "      <td>3.5</td>\n",
       "      <td>1.4</td>\n",
       "      <td>0.2</td>\n",
       "      <td>Iris-setosa</td>\n",
       "    </tr>\n",
       "    <tr>\n",
       "      <th>1</th>\n",
       "      <td>4.9</td>\n",
       "      <td>3.0</td>\n",
       "      <td>1.4</td>\n",
       "      <td>0.2</td>\n",
       "      <td>Iris-setosa</td>\n",
       "    </tr>\n",
       "    <tr>\n",
       "      <th>2</th>\n",
       "      <td>4.7</td>\n",
       "      <td>3.2</td>\n",
       "      <td>1.3</td>\n",
       "      <td>0.2</td>\n",
       "      <td>Iris-setosa</td>\n",
       "    </tr>\n",
       "    <tr>\n",
       "      <th>3</th>\n",
       "      <td>4.6</td>\n",
       "      <td>3.1</td>\n",
       "      <td>1.5</td>\n",
       "      <td>0.2</td>\n",
       "      <td>Iris-setosa</td>\n",
       "    </tr>\n",
       "    <tr>\n",
       "      <th>4</th>\n",
       "      <td>5.0</td>\n",
       "      <td>3.6</td>\n",
       "      <td>1.4</td>\n",
       "      <td>0.2</td>\n",
       "      <td>Iris-setosa</td>\n",
       "    </tr>\n",
       "  </tbody>\n",
       "</table>\n",
       "</div>"
      ],
      "text/plain": [
       "   sepal_length  sepal_width  petal_length  petal_width      species\n",
       "0           5.1          3.5           1.4          0.2  Iris-setosa\n",
       "1           4.9          3.0           1.4          0.2  Iris-setosa\n",
       "2           4.7          3.2           1.3          0.2  Iris-setosa\n",
       "3           4.6          3.1           1.5          0.2  Iris-setosa\n",
       "4           5.0          3.6           1.4          0.2  Iris-setosa"
      ]
     },
     "execution_count": 3,
     "metadata": {},
     "output_type": "execute_result"
    }
   ],
   "source": [
    "df.head()"
   ]
  },
  {
   "cell_type": "code",
   "execution_count": 4,
   "id": "5509ecdc",
   "metadata": {
    "execution": {
     "iopub.execute_input": "2023-10-09T11:50:41.390125Z",
     "iopub.status.busy": "2023-10-09T11:50:41.389231Z",
     "iopub.status.idle": "2023-10-09T11:50:41.414918Z",
     "shell.execute_reply": "2023-10-09T11:50:41.413717Z"
    },
    "papermill": {
     "duration": 0.037807,
     "end_time": "2023-10-09T11:50:41.417201",
     "exception": false,
     "start_time": "2023-10-09T11:50:41.379394",
     "status": "completed"
    },
    "tags": []
   },
   "outputs": [
    {
     "name": "stdout",
     "output_type": "stream",
     "text": [
      "<class 'pandas.core.frame.DataFrame'>\n",
      "RangeIndex: 150 entries, 0 to 149\n",
      "Data columns (total 5 columns):\n",
      " #   Column        Non-Null Count  Dtype  \n",
      "---  ------        --------------  -----  \n",
      " 0   sepal_length  150 non-null    float64\n",
      " 1   sepal_width   150 non-null    float64\n",
      " 2   petal_length  150 non-null    float64\n",
      " 3   petal_width   150 non-null    float64\n",
      " 4   species       150 non-null    object \n",
      "dtypes: float64(4), object(1)\n",
      "memory usage: 6.0+ KB\n"
     ]
    }
   ],
   "source": [
    "df.info()"
   ]
  },
  {
   "cell_type": "code",
   "execution_count": 5,
   "id": "50341318",
   "metadata": {
    "execution": {
     "iopub.execute_input": "2023-10-09T11:50:41.436916Z",
     "iopub.status.busy": "2023-10-09T11:50:41.436289Z",
     "iopub.status.idle": "2023-10-09T11:50:41.442586Z",
     "shell.execute_reply": "2023-10-09T11:50:41.441916Z"
    },
    "papermill": {
     "duration": 0.018556,
     "end_time": "2023-10-09T11:50:41.444674",
     "exception": false,
     "start_time": "2023-10-09T11:50:41.426118",
     "status": "completed"
    },
    "tags": []
   },
   "outputs": [
    {
     "data": {
      "text/plain": [
       "array(['Iris-setosa', 'Iris-versicolor', 'Iris-virginica'], dtype=object)"
      ]
     },
     "execution_count": 5,
     "metadata": {},
     "output_type": "execute_result"
    }
   ],
   "source": [
    "df['species'].unique()"
   ]
  },
  {
   "cell_type": "code",
   "execution_count": 6,
   "id": "172ba880",
   "metadata": {
    "execution": {
     "iopub.execute_input": "2023-10-09T11:50:41.464645Z",
     "iopub.status.busy": "2023-10-09T11:50:41.464306Z",
     "iopub.status.idle": "2023-10-09T11:50:41.469646Z",
     "shell.execute_reply": "2023-10-09T11:50:41.468532Z"
    },
    "papermill": {
     "duration": 0.017954,
     "end_time": "2023-10-09T11:50:41.471680",
     "exception": false,
     "start_time": "2023-10-09T11:50:41.453726",
     "status": "completed"
    },
    "tags": []
   },
   "outputs": [],
   "source": [
    "df['species']=np.where(df['species']=='Iris-setosa',0,df['species'])"
   ]
  },
  {
   "cell_type": "code",
   "execution_count": 7,
   "id": "45e6dacf",
   "metadata": {
    "execution": {
     "iopub.execute_input": "2023-10-09T11:50:41.491364Z",
     "iopub.status.busy": "2023-10-09T11:50:41.490953Z",
     "iopub.status.idle": "2023-10-09T11:50:41.497076Z",
     "shell.execute_reply": "2023-10-09T11:50:41.496125Z"
    },
    "papermill": {
     "duration": 0.01836,
     "end_time": "2023-10-09T11:50:41.499157",
     "exception": false,
     "start_time": "2023-10-09T11:50:41.480797",
     "status": "completed"
    },
    "tags": []
   },
   "outputs": [],
   "source": [
    "df['species']=np.where(df['species']=='Iris-versicolor',1,df['species'])\n",
    "df['species']=np.where(df['species']=='Iris-virginica',2,df['species'])"
   ]
  },
  {
   "cell_type": "code",
   "execution_count": 8,
   "id": "694c55b4",
   "metadata": {
    "execution": {
     "iopub.execute_input": "2023-10-09T11:50:41.518921Z",
     "iopub.status.busy": "2023-10-09T11:50:41.518551Z",
     "iopub.status.idle": "2023-10-09T11:50:41.523834Z",
     "shell.execute_reply": "2023-10-09T11:50:41.522666Z"
    },
    "papermill": {
     "duration": 0.017685,
     "end_time": "2023-10-09T11:50:41.525958",
     "exception": false,
     "start_time": "2023-10-09T11:50:41.508273",
     "status": "completed"
    },
    "tags": []
   },
   "outputs": [],
   "source": [
    "df['species'] = df['species'].astype('int')"
   ]
  },
  {
   "cell_type": "code",
   "execution_count": 9,
   "id": "d83a1942",
   "metadata": {
    "execution": {
     "iopub.execute_input": "2023-10-09T11:50:41.546196Z",
     "iopub.status.busy": "2023-10-09T11:50:41.545149Z",
     "iopub.status.idle": "2023-10-09T11:50:41.557226Z",
     "shell.execute_reply": "2023-10-09T11:50:41.556236Z"
    },
    "papermill": {
     "duration": 0.024535,
     "end_time": "2023-10-09T11:50:41.559479",
     "exception": false,
     "start_time": "2023-10-09T11:50:41.534944",
     "status": "completed"
    },
    "tags": []
   },
   "outputs": [
    {
     "data": {
      "text/html": [
       "<div>\n",
       "<style scoped>\n",
       "    .dataframe tbody tr th:only-of-type {\n",
       "        vertical-align: middle;\n",
       "    }\n",
       "\n",
       "    .dataframe tbody tr th {\n",
       "        vertical-align: top;\n",
       "    }\n",
       "\n",
       "    .dataframe thead th {\n",
       "        text-align: right;\n",
       "    }\n",
       "</style>\n",
       "<table border=\"1\" class=\"dataframe\">\n",
       "  <thead>\n",
       "    <tr style=\"text-align: right;\">\n",
       "      <th></th>\n",
       "      <th>sepal_length</th>\n",
       "      <th>sepal_width</th>\n",
       "      <th>petal_length</th>\n",
       "      <th>petal_width</th>\n",
       "      <th>species</th>\n",
       "    </tr>\n",
       "  </thead>\n",
       "  <tbody>\n",
       "    <tr>\n",
       "      <th>0</th>\n",
       "      <td>5.1</td>\n",
       "      <td>3.5</td>\n",
       "      <td>1.4</td>\n",
       "      <td>0.2</td>\n",
       "      <td>0</td>\n",
       "    </tr>\n",
       "    <tr>\n",
       "      <th>1</th>\n",
       "      <td>4.9</td>\n",
       "      <td>3.0</td>\n",
       "      <td>1.4</td>\n",
       "      <td>0.2</td>\n",
       "      <td>0</td>\n",
       "    </tr>\n",
       "    <tr>\n",
       "      <th>2</th>\n",
       "      <td>4.7</td>\n",
       "      <td>3.2</td>\n",
       "      <td>1.3</td>\n",
       "      <td>0.2</td>\n",
       "      <td>0</td>\n",
       "    </tr>\n",
       "    <tr>\n",
       "      <th>3</th>\n",
       "      <td>4.6</td>\n",
       "      <td>3.1</td>\n",
       "      <td>1.5</td>\n",
       "      <td>0.2</td>\n",
       "      <td>0</td>\n",
       "    </tr>\n",
       "    <tr>\n",
       "      <th>4</th>\n",
       "      <td>5.0</td>\n",
       "      <td>3.6</td>\n",
       "      <td>1.4</td>\n",
       "      <td>0.2</td>\n",
       "      <td>0</td>\n",
       "    </tr>\n",
       "  </tbody>\n",
       "</table>\n",
       "</div>"
      ],
      "text/plain": [
       "   sepal_length  sepal_width  petal_length  petal_width  species\n",
       "0           5.1          3.5           1.4          0.2        0\n",
       "1           4.9          3.0           1.4          0.2        0\n",
       "2           4.7          3.2           1.3          0.2        0\n",
       "3           4.6          3.1           1.5          0.2        0\n",
       "4           5.0          3.6           1.4          0.2        0"
      ]
     },
     "execution_count": 9,
     "metadata": {},
     "output_type": "execute_result"
    }
   ],
   "source": [
    "df.head()"
   ]
  },
  {
   "cell_type": "code",
   "execution_count": 10,
   "id": "1229251d",
   "metadata": {
    "execution": {
     "iopub.execute_input": "2023-10-09T11:50:41.579408Z",
     "iopub.status.busy": "2023-10-09T11:50:41.578774Z",
     "iopub.status.idle": "2023-10-09T11:50:41.585779Z",
     "shell.execute_reply": "2023-10-09T11:50:41.584903Z"
    },
    "papermill": {
     "duration": 0.019267,
     "end_time": "2023-10-09T11:50:41.587742",
     "exception": false,
     "start_time": "2023-10-09T11:50:41.568475",
     "status": "completed"
    },
    "tags": []
   },
   "outputs": [
    {
     "data": {
      "text/plain": [
       "array([0, 1, 2])"
      ]
     },
     "execution_count": 10,
     "metadata": {},
     "output_type": "execute_result"
    }
   ],
   "source": [
    "df['species'].unique()"
   ]
  },
  {
   "cell_type": "code",
   "execution_count": 11,
   "id": "50e69ea8",
   "metadata": {
    "execution": {
     "iopub.execute_input": "2023-10-09T11:50:41.607650Z",
     "iopub.status.busy": "2023-10-09T11:50:41.607300Z",
     "iopub.status.idle": "2023-10-09T11:50:41.634250Z",
     "shell.execute_reply": "2023-10-09T11:50:41.633238Z"
    },
    "papermill": {
     "duration": 0.039185,
     "end_time": "2023-10-09T11:50:41.636297",
     "exception": false,
     "start_time": "2023-10-09T11:50:41.597112",
     "status": "completed"
    },
    "tags": []
   },
   "outputs": [
    {
     "data": {
      "text/html": [
       "<div>\n",
       "<style scoped>\n",
       "    .dataframe tbody tr th:only-of-type {\n",
       "        vertical-align: middle;\n",
       "    }\n",
       "\n",
       "    .dataframe tbody tr th {\n",
       "        vertical-align: top;\n",
       "    }\n",
       "\n",
       "    .dataframe thead th {\n",
       "        text-align: right;\n",
       "    }\n",
       "</style>\n",
       "<table border=\"1\" class=\"dataframe\">\n",
       "  <thead>\n",
       "    <tr style=\"text-align: right;\">\n",
       "      <th></th>\n",
       "      <th>count</th>\n",
       "      <th>mean</th>\n",
       "      <th>std</th>\n",
       "      <th>min</th>\n",
       "      <th>25%</th>\n",
       "      <th>50%</th>\n",
       "      <th>75%</th>\n",
       "      <th>max</th>\n",
       "    </tr>\n",
       "  </thead>\n",
       "  <tbody>\n",
       "    <tr>\n",
       "      <th>sepal_length</th>\n",
       "      <td>150.0</td>\n",
       "      <td>5.843333</td>\n",
       "      <td>0.828066</td>\n",
       "      <td>4.3</td>\n",
       "      <td>5.1</td>\n",
       "      <td>5.80</td>\n",
       "      <td>6.4</td>\n",
       "      <td>7.9</td>\n",
       "    </tr>\n",
       "    <tr>\n",
       "      <th>sepal_width</th>\n",
       "      <td>150.0</td>\n",
       "      <td>3.054000</td>\n",
       "      <td>0.433594</td>\n",
       "      <td>2.0</td>\n",
       "      <td>2.8</td>\n",
       "      <td>3.00</td>\n",
       "      <td>3.3</td>\n",
       "      <td>4.4</td>\n",
       "    </tr>\n",
       "    <tr>\n",
       "      <th>petal_length</th>\n",
       "      <td>150.0</td>\n",
       "      <td>3.758667</td>\n",
       "      <td>1.764420</td>\n",
       "      <td>1.0</td>\n",
       "      <td>1.6</td>\n",
       "      <td>4.35</td>\n",
       "      <td>5.1</td>\n",
       "      <td>6.9</td>\n",
       "    </tr>\n",
       "    <tr>\n",
       "      <th>petal_width</th>\n",
       "      <td>150.0</td>\n",
       "      <td>1.198667</td>\n",
       "      <td>0.763161</td>\n",
       "      <td>0.1</td>\n",
       "      <td>0.3</td>\n",
       "      <td>1.30</td>\n",
       "      <td>1.8</td>\n",
       "      <td>2.5</td>\n",
       "    </tr>\n",
       "    <tr>\n",
       "      <th>species</th>\n",
       "      <td>150.0</td>\n",
       "      <td>1.000000</td>\n",
       "      <td>0.819232</td>\n",
       "      <td>0.0</td>\n",
       "      <td>0.0</td>\n",
       "      <td>1.00</td>\n",
       "      <td>2.0</td>\n",
       "      <td>2.0</td>\n",
       "    </tr>\n",
       "  </tbody>\n",
       "</table>\n",
       "</div>"
      ],
      "text/plain": [
       "              count      mean       std  min  25%   50%  75%  max\n",
       "sepal_length  150.0  5.843333  0.828066  4.3  5.1  5.80  6.4  7.9\n",
       "sepal_width   150.0  3.054000  0.433594  2.0  2.8  3.00  3.3  4.4\n",
       "petal_length  150.0  3.758667  1.764420  1.0  1.6  4.35  5.1  6.9\n",
       "petal_width   150.0  1.198667  0.763161  0.1  0.3  1.30  1.8  2.5\n",
       "species       150.0  1.000000  0.819232  0.0  0.0  1.00  2.0  2.0"
      ]
     },
     "execution_count": 11,
     "metadata": {},
     "output_type": "execute_result"
    }
   ],
   "source": [
    "df.describe().T"
   ]
  },
  {
   "cell_type": "code",
   "execution_count": 12,
   "id": "e60bd1df",
   "metadata": {
    "execution": {
     "iopub.execute_input": "2023-10-09T11:50:41.656926Z",
     "iopub.status.busy": "2023-10-09T11:50:41.656167Z",
     "iopub.status.idle": "2023-10-09T11:50:41.665075Z",
     "shell.execute_reply": "2023-10-09T11:50:41.664170Z"
    },
    "papermill": {
     "duration": 0.021359,
     "end_time": "2023-10-09T11:50:41.666992",
     "exception": false,
     "start_time": "2023-10-09T11:50:41.645633",
     "status": "completed"
    },
    "tags": []
   },
   "outputs": [
    {
     "data": {
      "text/plain": [
       "3"
      ]
     },
     "execution_count": 12,
     "metadata": {},
     "output_type": "execute_result"
    }
   ],
   "source": [
    "dups=df.duplicated()\n",
    "dups.sum()"
   ]
  },
  {
   "cell_type": "code",
   "execution_count": 13,
   "id": "67cde4df",
   "metadata": {
    "execution": {
     "iopub.execute_input": "2023-10-09T11:50:41.750617Z",
     "iopub.status.busy": "2023-10-09T11:50:41.749595Z",
     "iopub.status.idle": "2023-10-09T11:50:41.757007Z",
     "shell.execute_reply": "2023-10-09T11:50:41.755966Z"
    },
    "papermill": {
     "duration": 0.020073,
     "end_time": "2023-10-09T11:50:41.759263",
     "exception": false,
     "start_time": "2023-10-09T11:50:41.739190",
     "status": "completed"
    },
    "tags": []
   },
   "outputs": [],
   "source": [
    "df.drop_duplicates(inplace=True)"
   ]
  },
  {
   "cell_type": "code",
   "execution_count": 14,
   "id": "f53b9ba3",
   "metadata": {
    "execution": {
     "iopub.execute_input": "2023-10-09T11:50:41.780172Z",
     "iopub.status.busy": "2023-10-09T11:50:41.779455Z",
     "iopub.status.idle": "2023-10-09T11:50:41.787843Z",
     "shell.execute_reply": "2023-10-09T11:50:41.786760Z"
    },
    "papermill": {
     "duration": 0.02095,
     "end_time": "2023-10-09T11:50:41.789736",
     "exception": false,
     "start_time": "2023-10-09T11:50:41.768786",
     "status": "completed"
    },
    "tags": []
   },
   "outputs": [
    {
     "data": {
      "text/plain": [
       "0"
      ]
     },
     "execution_count": 14,
     "metadata": {},
     "output_type": "execute_result"
    }
   ],
   "source": [
    "dups=df.duplicated()\n",
    "dups.sum()"
   ]
  },
  {
   "cell_type": "code",
   "execution_count": 15,
   "id": "af60f5d3",
   "metadata": {
    "execution": {
     "iopub.execute_input": "2023-10-09T11:50:41.810543Z",
     "iopub.status.busy": "2023-10-09T11:50:41.809750Z",
     "iopub.status.idle": "2023-10-09T11:50:43.163364Z",
     "shell.execute_reply": "2023-10-09T11:50:43.162506Z"
    },
    "papermill": {
     "duration": 1.366344,
     "end_time": "2023-10-09T11:50:43.165626",
     "exception": false,
     "start_time": "2023-10-09T11:50:41.799282",
     "status": "completed"
    },
    "tags": []
   },
   "outputs": [],
   "source": [
    "import seaborn as sns\n",
    "import matplotlib.pyplot as plt"
   ]
  },
  {
   "cell_type": "code",
   "execution_count": 16,
   "id": "0435ad38",
   "metadata": {
    "execution": {
     "iopub.execute_input": "2023-10-09T11:50:43.187243Z",
     "iopub.status.busy": "2023-10-09T11:50:43.186518Z",
     "iopub.status.idle": "2023-10-09T11:50:50.147475Z",
     "shell.execute_reply": "2023-10-09T11:50:50.146760Z"
    },
    "papermill": {
     "duration": 6.976045,
     "end_time": "2023-10-09T11:50:50.151370",
     "exception": false,
     "start_time": "2023-10-09T11:50:43.175325",
     "status": "completed"
    },
    "tags": []
   },
   "outputs": [
    {
     "name": "stderr",
     "output_type": "stream",
     "text": [
      "/opt/conda/lib/python3.10/site-packages/seaborn/axisgrid.py:118: UserWarning: The figure layout has changed to tight\n",
      "  self._figure.tight_layout(*args, **kwargs)\n"
     ]
    },
    {
     "data": {
      "text/plain": [
       "<seaborn.axisgrid.PairGrid at 0x795e5f54f790>"
      ]
     },
     "execution_count": 16,
     "metadata": {},
     "output_type": "execute_result"
    },
    {
     "data": {
      "image/png": "[encoded data removed]",
      "text/plain": [
       "<Figure size 1250x1250 with 30 Axes>"
      ]
     },
     "metadata": {},
     "output_type": "display_data"
    }
   ],
   "source": [
    "sns.pairplot(data=df)"
   ]
  },
  {
   "cell_type": "code",
   "execution_count": 17,
   "id": "c946cb73",
   "metadata": {
    "execution": {
     "iopub.execute_input": "2023-10-09T11:50:50.179344Z",
     "iopub.status.busy": "2023-10-09T11:50:50.178583Z",
     "iopub.status.idle": "2023-10-09T11:50:50.565604Z",
     "shell.execute_reply": "2023-10-09T11:50:50.564496Z"
    },
    "papermill": {
     "duration": 0.403647,
     "end_time": "2023-10-09T11:50:50.568095",
     "exception": false,
     "start_time": "2023-10-09T11:50:50.164448",
     "status": "completed"
    },
    "tags": []
   },
   "outputs": [
    {
     "data": {
      "text/plain": [
       "<Axes: >"
      ]
     },
     "execution_count": 17,
     "metadata": {},
     "output_type": "execute_result"
    },
    {
     "data": {
      "image/png": "[encoded data removed]",
      "text/plain": [
       "<Figure size 640x480 with 2 Axes>"
      ]
     },
     "metadata": {},
     "output_type": "display_data"
    }
   ],
   "source": [
    "cm=df.corr()\n",
    "sns.heatmap(cm,fmt='.2f',annot=True)"
   ]
  },
  {
   "cell_type": "markdown",
   "id": "8e005ebb",
   "metadata": {
    "papermill": {
     "duration": 0.012534,
     "end_time": "2023-10-09T11:50:50.593493",
     "exception": false,
     "start_time": "2023-10-09T11:50:50.580959",
     "status": "completed"
    },
    "tags": []
   },
   "source": [
    "#### Model Training"
   ]
  },
  {
   "cell_type": "code",
   "execution_count": 18,
   "id": "07641aa2",
   "metadata": {
    "execution": {
     "iopub.execute_input": "2023-10-09T11:50:50.620556Z",
     "iopub.status.busy": "2023-10-09T11:50:50.620222Z",
     "iopub.status.idle": "2023-10-09T11:50:50.950049Z",
     "shell.execute_reply": "2023-10-09T11:50:50.948877Z"
    },
    "papermill": {
     "duration": 0.34625,
     "end_time": "2023-10-09T11:50:50.952447",
     "exception": false,
     "start_time": "2023-10-09T11:50:50.606197",
     "status": "completed"
    },
    "tags": []
   },
   "outputs": [],
   "source": [
    "### Logistic Regression\n",
    "\n",
    "from sklearn.model_selection import train_test_split\n",
    "from sklearn.linear_model import LogisticRegression\n",
    "from sklearn.metrics import confusion_matrix, classification_report"
   ]
  },
  {
   "cell_type": "code",
   "execution_count": 19,
   "id": "d70631f7",
   "metadata": {
    "execution": {
     "iopub.execute_input": "2023-10-09T11:50:50.980553Z",
     "iopub.status.busy": "2023-10-09T11:50:50.979553Z",
     "iopub.status.idle": "2023-10-09T11:50:50.986312Z",
     "shell.execute_reply": "2023-10-09T11:50:50.985208Z"
    },
    "papermill": {
     "duration": 0.023092,
     "end_time": "2023-10-09T11:50:50.988513",
     "exception": false,
     "start_time": "2023-10-09T11:50:50.965421",
     "status": "completed"
    },
    "tags": []
   },
   "outputs": [],
   "source": [
    "x=df.drop(columns='species', axis=1)\n",
    "y=df.pop('species')"
   ]
  },
  {
   "cell_type": "code",
   "execution_count": 20,
   "id": "6e70038c",
   "metadata": {
    "execution": {
     "iopub.execute_input": "2023-10-09T11:50:51.016373Z",
     "iopub.status.busy": "2023-10-09T11:50:51.016017Z",
     "iopub.status.idle": "2023-10-09T11:50:51.021900Z",
     "shell.execute_reply": "2023-10-09T11:50:51.020955Z"
    },
    "papermill": {
     "duration": 0.022424,
     "end_time": "2023-10-09T11:50:51.024083",
     "exception": false,
     "start_time": "2023-10-09T11:50:51.001659",
     "status": "completed"
    },
    "tags": []
   },
   "outputs": [],
   "source": [
    "x_train,x_test,y_train,y_test=train_test_split(x,y,test_size=0.3,random_state=1)"
   ]
  },
  {
   "cell_type": "code",
   "execution_count": 21,
   "id": "6267ecdf",
   "metadata": {
    "execution": {
     "iopub.execute_input": "2023-10-09T11:50:51.052312Z",
     "iopub.status.busy": "2023-10-09T11:50:51.051976Z",
     "iopub.status.idle": "2023-10-09T11:50:51.056602Z",
     "shell.execute_reply": "2023-10-09T11:50:51.055534Z"
    },
    "papermill": {
     "duration": 0.021506,
     "end_time": "2023-10-09T11:50:51.058589",
     "exception": false,
     "start_time": "2023-10-09T11:50:51.037083",
     "status": "completed"
    },
    "tags": []
   },
   "outputs": [],
   "source": [
    "model=LogisticRegression()"
   ]
  },
  {
   "cell_type": "code",
   "execution_count": 22,
   "id": "4cb0dd9c",
   "metadata": {
    "execution": {
     "iopub.execute_input": "2023-10-09T11:50:51.086422Z",
     "iopub.status.busy": "2023-10-09T11:50:51.086040Z",
     "iopub.status.idle": "2023-10-09T11:50:51.125685Z",
     "shell.execute_reply": "2023-10-09T11:50:51.124608Z"
    },
    "papermill": {
     "duration": 0.05625,
     "end_time": "2023-10-09T11:50:51.128066",
     "exception": false,
     "start_time": "2023-10-09T11:50:51.071816",
     "status": "completed"
    },
    "tags": []
   },
   "outputs": [
    {
     "data": {
      "text/html": [
       "<style>#sk-container-id-1 {color: black;background-color: white;}#sk-container-id-1 pre{padding: 0;}#sk-container-id-1 div.sk-toggleable {background-color: white;}#sk-container-id-1 label.sk-toggleable__label {cursor: pointer;display: block;width: 100%;margin-bottom: 0;padding: 0.3em;box-sizing: border-box;text-align: center;}#sk-container-id-1 label.sk-toggleable__label-arrow:before {content: \"▸\";float: left;margin-right: 0.25em;color: #696969;}#sk-container-id-1 label.sk-toggleable__label-arrow:hover:before {color: black;}#sk-container-id-1 div.sk-estimator:hover label.sk-toggleable__label-arrow:before {color: black;}#sk-container-id-1 div.sk-toggleable__content {max-height: 0;max-width: 0;overflow: hidden;text-align: left;background-color: #f0f8ff;}#sk-container-id-1 div.sk-toggleable__content pre {margin: 0.2em;color: black;border-radius: 0.25em;background-color: #f0f8ff;}#sk-container-id-1 input.sk-toggleable__control:checked~div.sk-toggleable__content {max-height: 200px;max-width: 100%;overflow: auto;}#sk-container-id-1 input.sk-toggleable__control:checked~label.sk-toggleable__label-arrow:before {content: \"▾\";}#sk-container-id-1 div.sk-estimator input.sk-toggleable__control:checked~label.sk-toggleable__label {background-color: #d4ebff;}#sk-container-id-1 div.sk-label input.sk-toggleable__control:checked~label.sk-toggleable__label {background-color: #d4ebff;}#sk-container-id-1 input.sk-hidden--visually {border: 0;clip: rect(1px 1px 1px 1px);clip: rect(1px, 1px, 1px, 1px);height: 1px;margin: -1px;overflow: hidden;padding: 0;position: absolute;width: 1px;}#sk-container-id-1 div.sk-estimator {font-family: monospace;background-color: #f0f8ff;border: 1px dotted black;border-radius: 0.25em;box-sizing: border-box;margin-bottom: 0.5em;}#sk-container-id-1 div.sk-estimator:hover {background-color: #d4ebff;}#sk-container-id-1 div.sk-parallel-item::after {content: \"\";width: 100%;border-bottom: 1px solid gray;flex-grow: 1;}#sk-container-id-1 div.sk-label:hover label.sk-toggleable__label {background-color: #d4ebff;}#sk-container-id-1 div.sk-serial::before {content: \"\";position: absolute;border-left: 1px solid gray;box-sizing: border-box;top: 0;bottom: 0;left: 50%;z-index: 0;}#sk-container-id-1 div.sk-serial {display: flex;flex-direction: column;align-items: center;background-color: white;padding-right: 0.2em;padding-left: 0.2em;position: relative;}#sk-container-id-1 div.sk-item {position: relative;z-index: 1;}#sk-container-id-1 div.sk-parallel {display: flex;align-items: stretch;justify-content: center;background-color: white;position: relative;}#sk-container-id-1 div.sk-item::before, #sk-container-id-1 div.sk-parallel-item::before {content: \"\";position: absolute;border-left: 1px solid gray;box-sizing: border-box;top: 0;bottom: 0;left: 50%;z-index: -1;}#sk-container-id-1 div.sk-parallel-item {display: flex;flex-direction: column;z-index: 1;position: relative;background-color: white;}#sk-container-id-1 div.sk-parallel-item:first-child::after {align-self: flex-end;width: 50%;}#sk-container-id-1 div.sk-parallel-item:last-child::after {align-self: flex-start;width: 50%;}#sk-container-id-1 div.sk-parallel-item:only-child::after {width: 0;}#sk-container-id-1 div.sk-dashed-wrapped {border: 1px dashed gray;margin: 0 0.4em 0.5em 0.4em;box-sizing: border-box;padding-bottom: 0.4em;background-color: white;}#sk-container-id-1 div.sk-label label {font-family: monospace;font-weight: bold;display: inline-block;line-height: 1.2em;}#sk-container-id-1 div.sk-label-container {text-align: center;}#sk-container-id-1 div.sk-container {/* jupyter's `normalize.less` sets `[hidden] { display: none; }` but bootstrap.min.css set `[hidden] { display: none !important; }` so we also need the `!important` here to be able to override the default hidden behavior on the sphinx rendered scikit-learn.org. See: https://github.com/scikit-learn/scikit-learn/issues/21755 */display: inline-block !important;position: relative;}#sk-container-id-1 div.sk-text-repr-fallback {display: none;}</style><div id=\"sk-container-id-1\" class=\"sk-top-container\"><div class=\"sk-text-repr-fallback\"><pre>LogisticRegression()</pre><b>In a Jupyter environment, please rerun this cell to show the HTML representation or trust the notebook. <br />On GitHub, the HTML representation is unable to render, please try loading this page with nbviewer.org.</b></div><div class=\"sk-container\" hidden><div class=\"sk-item\"><div class=\"sk-estimator sk-toggleable\"><input class=\"sk-toggleable__control sk-hidden--visually\" id=\"sk-estimator-id-1\" type=\"checkbox\" checked><label for=\"sk-estimator-id-1\" class=\"sk-toggleable__label sk-toggleable__label-arrow\">LogisticRegression</label><div class=\"sk-toggleable__content\"><pre>LogisticRegression()</pre></div></div></div></div></div>"
      ],
      "text/plain": [
       "LogisticRegression()"
      ]
     },
     "execution_count": 22,
     "metadata": {},
     "output_type": "execute_result"
    }
   ],
   "source": [
    "model.fit(x_train,y_train)"
   ]
  },
  {
   "cell_type": "code",
   "execution_count": 23,
   "id": "a2d600d5",
   "metadata": {
    "execution": {
     "iopub.execute_input": "2023-10-09T11:50:51.157180Z",
     "iopub.status.busy": "2023-10-09T11:50:51.156833Z",
     "iopub.status.idle": "2023-10-09T11:50:51.171883Z",
     "shell.execute_reply": "2023-10-09T11:50:51.170530Z"
    },
    "papermill": {
     "duration": 0.032221,
     "end_time": "2023-10-09T11:50:51.174034",
     "exception": false,
     "start_time": "2023-10-09T11:50:51.141813",
     "status": "completed"
    },
    "tags": []
   },
   "outputs": [
    {
     "name": "stdout",
     "output_type": "stream",
     "text": [
      "Classification Report:Test Data\n",
      "              precision    recall  f1-score   support\n",
      "\n",
      "           0       1.00      1.00      1.00        15\n",
      "           1       0.94      0.94      0.94        16\n",
      "           2       0.93      0.93      0.93        14\n",
      "\n",
      "    accuracy                           0.96        45\n",
      "   macro avg       0.96      0.96      0.96        45\n",
      "weighted avg       0.96      0.96      0.96        45\n",
      "\n"
     ]
    }
   ],
   "source": [
    "y_pred=model.predict(x_test)\n",
    "class_rep = classification_report(y_test, y_pred)\n",
    "print(\"Classification Report:Test Data\")\n",
    "print(class_rep)"
   ]
  },
  {
   "cell_type": "code",
   "execution_count": 24,
   "id": "2dc82ebd",
   "metadata": {
    "execution": {
     "iopub.execute_input": "2023-10-09T11:50:51.203676Z",
     "iopub.status.busy": "2023-10-09T11:50:51.202793Z",
     "iopub.status.idle": "2023-10-09T11:50:51.216880Z",
     "shell.execute_reply": "2023-10-09T11:50:51.215660Z"
    },
    "papermill": {
     "duration": 0.031472,
     "end_time": "2023-10-09T11:50:51.219182",
     "exception": false,
     "start_time": "2023-10-09T11:50:51.187710",
     "status": "completed"
    },
    "tags": []
   },
   "outputs": [
    {
     "name": "stdout",
     "output_type": "stream",
     "text": [
      "Classification Report:Train Data\n",
      "              precision    recall  f1-score   support\n",
      "\n",
      "           0       1.00      1.00      1.00        33\n",
      "           1       0.97      0.94      0.96        34\n",
      "           2       0.94      0.97      0.96        35\n",
      "\n",
      "    accuracy                           0.97       102\n",
      "   macro avg       0.97      0.97      0.97       102\n",
      "weighted avg       0.97      0.97      0.97       102\n",
      "\n"
     ]
    }
   ],
   "source": [
    "y_pred_train=model.predict(x_train)\n",
    "class_rep = classification_report(y_train, y_pred_train)\n",
    "print(\"Classification Report:Train Data\")\n",
    "print(class_rep)"
   ]
  },
  {
   "cell_type": "code",
   "execution_count": 25,
   "id": "a2ea7587",
   "metadata": {
    "execution": {
     "iopub.execute_input": "2023-10-09T11:50:51.248535Z",
     "iopub.status.busy": "2023-10-09T11:50:51.248154Z",
     "iopub.status.idle": "2023-10-09T11:50:51.255040Z",
     "shell.execute_reply": "2023-10-09T11:50:51.254026Z"
    },
    "papermill": {
     "duration": 0.024032,
     "end_time": "2023-10-09T11:50:51.257038",
     "exception": false,
     "start_time": "2023-10-09T11:50:51.233006",
     "status": "completed"
    },
    "tags": []
   },
   "outputs": [
    {
     "data": {
      "text/plain": [
       "Counter({1: 50, 2: 49, 0: 48})"
      ]
     },
     "execution_count": 25,
     "metadata": {},
     "output_type": "execute_result"
    }
   ],
   "source": [
    "from collections import Counter\n",
    "counter=Counter(y)\n",
    "counter"
   ]
  },
  {
   "cell_type": "code",
   "execution_count": 26,
   "id": "53860e44",
   "metadata": {
    "execution": {
     "iopub.execute_input": "2023-10-09T11:50:51.286851Z",
     "iopub.status.busy": "2023-10-09T11:50:51.286439Z",
     "iopub.status.idle": "2023-10-09T11:50:51.408548Z",
     "shell.execute_reply": "2023-10-09T11:50:51.406855Z"
    },
    "papermill": {
     "duration": 0.140087,
     "end_time": "2023-10-09T11:50:51.410977",
     "exception": false,
     "start_time": "2023-10-09T11:50:51.270890",
     "status": "completed"
    },
    "tags": []
   },
   "outputs": [
    {
     "name": "stdout",
     "output_type": "stream",
     "text": [
      "Fold 1: Accuracy = 0.93\n",
      "Fold 2: Accuracy = 0.97\n",
      "Fold 3: Accuracy = 0.97\n",
      "Fold 4: Accuracy = 0.97\n",
      "Fold 5: Accuracy = 0.97\n",
      "Mean Accuracy: 0.96\n",
      "Standard Deviation: 0.01\n"
     ]
    },
    {
     "name": "stderr",
     "output_type": "stream",
     "text": [
      "/opt/conda/lib/python3.10/site-packages/sklearn/linear_model/_logistic.py:458: ConvergenceWarning: lbfgs failed to converge (status=1):\n",
      "STOP: TOTAL NO. of ITERATIONS REACHED LIMIT.\n",
      "\n",
      "Increase the number of iterations (max_iter) or scale the data as shown in:\n",
      "    https://scikit-learn.org/stable/modules/preprocessing.html\n",
      "Please also refer to the documentation for alternative solver options:\n",
      "    https://scikit-learn.org/stable/modules/linear_model.html#logistic-regression\n",
      "  n_iter_i = _check_optimize_result(\n",
      "/opt/conda/lib/python3.10/site-packages/sklearn/linear_model/_logistic.py:458: ConvergenceWarning: lbfgs failed to converge (status=1):\n",
      "STOP: TOTAL NO. of ITERATIONS REACHED LIMIT.\n",
      "\n",
      "Increase the number of iterations (max_iter) or scale the data as shown in:\n",
      "    https://scikit-learn.org/stable/modules/preprocessing.html\n",
      "Please also refer to the documentation for alternative solver options:\n",
      "    https://scikit-learn.org/stable/modules/linear_model.html#logistic-regression\n",
      "  n_iter_i = _check_optimize_result(\n"
     ]
    }
   ],
   "source": [
    "from sklearn.model_selection import cross_val_score\n",
    "from sklearn.model_selection import KFold\n",
    "\n",
    "num_folds = 5\n",
    "\n",
    "kf = KFold(n_splits=num_folds, shuffle=True, random_state=42)\n",
    "\n",
    "# Perform cross-validation and compute accuracy scores\n",
    "scores = cross_val_score(model, x, y, cv=kf, scoring='accuracy')\n",
    "\n",
    "# Print the accuracy scores for each fold\n",
    "for i, score in enumerate(scores, 1):\n",
    "    print(f'Fold {i}: Accuracy = {score:.2f}')\n",
    "\n",
    "# Calculate and print the mean and standard deviation of the accuracy scores\n",
    "mean_accuracy = np.mean(scores)\n",
    "std_accuracy = np.std(scores)\n",
    "print(f'Mean Accuracy: {mean_accuracy:.2f}')\n",
    "print(f'Standard Deviation: {std_accuracy:.2f}')\n"
   ]
  },
  {
   "cell_type": "code",
   "execution_count": 27,
   "id": "c616055c",
   "metadata": {
    "execution": {
     "iopub.execute_input": "2023-10-09T11:50:51.441173Z",
     "iopub.status.busy": "2023-10-09T11:50:51.440825Z",
     "iopub.status.idle": "2023-10-09T11:50:51.596879Z",
     "shell.execute_reply": "2023-10-09T11:50:51.595899Z"
    },
    "papermill": {
     "duration": 0.173833,
     "end_time": "2023-10-09T11:50:51.599341",
     "exception": false,
     "start_time": "2023-10-09T11:50:51.425508",
     "status": "completed"
    },
    "tags": []
   },
   "outputs": [],
   "source": [
    "###Decision Tree\n",
    "from sklearn.tree import DecisionTreeClassifier"
   ]
  },
  {
   "cell_type": "code",
   "execution_count": 28,
   "id": "60c7dabc",
   "metadata": {
    "execution": {
     "iopub.execute_input": "2023-10-09T11:50:51.630235Z",
     "iopub.status.busy": "2023-10-09T11:50:51.629738Z",
     "iopub.status.idle": "2023-10-09T11:50:51.640269Z",
     "shell.execute_reply": "2023-10-09T11:50:51.639539Z"
    },
    "papermill": {
     "duration": 0.028005,
     "end_time": "2023-10-09T11:50:51.642077",
     "exception": false,
     "start_time": "2023-10-09T11:50:51.614072",
     "status": "completed"
    },
    "tags": []
   },
   "outputs": [
    {
     "data": {
      "text/html": [
       "<style>#sk-container-id-2 {color: black;background-color: white;}#sk-container-id-2 pre{padding: 0;}#sk-container-id-2 div.sk-toggleable {background-color: white;}#sk-container-id-2 label.sk-toggleable__label {cursor: pointer;display: block;width: 100%;margin-bottom: 0;padding: 0.3em;box-sizing: border-box;text-align: center;}#sk-container-id-2 label.sk-toggleable__label-arrow:before {content: \"▸\";float: left;margin-right: 0.25em;color: #696969;}#sk-container-id-2 label.sk-toggleable__label-arrow:hover:before {color: black;}#sk-container-id-2 div.sk-estimator:hover label.sk-toggleable__label-arrow:before {color: black;}#sk-container-id-2 div.sk-toggleable__content {max-height: 0;max-width: 0;overflow: hidden;text-align: left;background-color: #f0f8ff;}#sk-container-id-2 div.sk-toggleable__content pre {margin: 0.2em;color: black;border-radius: 0.25em;background-color: #f0f8ff;}#sk-container-id-2 input.sk-toggleable__control:checked~div.sk-toggleable__content {max-height: 200px;max-width: 100%;overflow: auto;}#sk-container-id-2 input.sk-toggleable__control:checked~label.sk-toggleable__label-arrow:before {content: \"▾\";}#sk-container-id-2 div.sk-estimator input.sk-toggleable__control:checked~label.sk-toggleable__label {background-color: #d4ebff;}#sk-container-id-2 div.sk-label input.sk-toggleable__control:checked~label.sk-toggleable__label {background-color: #d4ebff;}#sk-container-id-2 input.sk-hidden--visually {border: 0;clip: rect(1px 1px 1px 1px);clip: rect(1px, 1px, 1px, 1px);height: 1px;margin: -1px;overflow: hidden;padding: 0;position: absolute;width: 1px;}#sk-container-id-2 div.sk-estimator {font-family: monospace;background-color: #f0f8ff;border: 1px dotted black;border-radius: 0.25em;box-sizing: border-box;margin-bottom: 0.5em;}#sk-container-id-2 div.sk-estimator:hover {background-color: #d4ebff;}#sk-container-id-2 div.sk-parallel-item::after {content: \"\";width: 100%;border-bottom: 1px solid gray;flex-grow: 1;}#sk-container-id-2 div.sk-label:hover label.sk-toggleable__label {background-color: #d4ebff;}#sk-container-id-2 div.sk-serial::before {content: \"\";position: absolute;border-left: 1px solid gray;box-sizing: border-box;top: 0;bottom: 0;left: 50%;z-index: 0;}#sk-container-id-2 div.sk-serial {display: flex;flex-direction: column;align-items: center;background-color: white;padding-right: 0.2em;padding-left: 0.2em;position: relative;}#sk-container-id-2 div.sk-item {position: relative;z-index: 1;}#sk-container-id-2 div.sk-parallel {display: flex;align-items: stretch;justify-content: center;background-color: white;position: relative;}#sk-container-id-2 div.sk-item::before, #sk-container-id-2 div.sk-parallel-item::before {content: \"\";position: absolute;border-left: 1px solid gray;box-sizing: border-box;top: 0;bottom: 0;left: 50%;z-index: -1;}#sk-container-id-2 div.sk-parallel-item {display: flex;flex-direction: column;z-index: 1;position: relative;background-color: white;}#sk-container-id-2 div.sk-parallel-item:first-child::after {align-self: flex-end;width: 50%;}#sk-container-id-2 div.sk-parallel-item:last-child::after {align-self: flex-start;width: 50%;}#sk-container-id-2 div.sk-parallel-item:only-child::after {width: 0;}#sk-container-id-2 div.sk-dashed-wrapped {border: 1px dashed gray;margin: 0 0.4em 0.5em 0.4em;box-sizing: border-box;padding-bottom: 0.4em;background-color: white;}#sk-container-id-2 div.sk-label label {font-family: monospace;font-weight: bold;display: inline-block;line-height: 1.2em;}#sk-container-id-2 div.sk-label-container {text-align: center;}#sk-container-id-2 div.sk-container {/* jupyter's `normalize.less` sets `[hidden] { display: none; }` but bootstrap.min.css set `[hidden] { display: none !important; }` so we also need the `!important` here to be able to override the default hidden behavior on the sphinx rendered scikit-learn.org. See: https://github.com/scikit-learn/scikit-learn/issues/21755 */display: inline-block !important;position: relative;}#sk-container-id-2 div.sk-text-repr-fallback {display: none;}</style><div id=\"sk-container-id-2\" class=\"sk-top-container\"><div class=\"sk-text-repr-fallback\"><pre>DecisionTreeClassifier()</pre><b>In a Jupyter environment, please rerun this cell to show the HTML representation or trust the notebook. <br />On GitHub, the HTML representation is unable to render, please try loading this page with nbviewer.org.</b></div><div class=\"sk-container\" hidden><div class=\"sk-item\"><div class=\"sk-estimator sk-toggleable\"><input class=\"sk-toggleable__control sk-hidden--visually\" id=\"sk-estimator-id-2\" type=\"checkbox\" checked><label for=\"sk-estimator-id-2\" class=\"sk-toggleable__label sk-toggleable__label-arrow\">DecisionTreeClassifier</label><div class=\"sk-toggleable__content\"><pre>DecisionTreeClassifier()</pre></div></div></div></div></div>"
      ],
      "text/plain": [
       "DecisionTreeClassifier()"
      ]
     },
     "execution_count": 28,
     "metadata": {},
     "output_type": "execute_result"
    }
   ],
   "source": [
    "dtree=DecisionTreeClassifier()\n",
    "dtree.fit(x_train,y_train)"
   ]
  },
  {
   "cell_type": "code",
   "execution_count": 29,
   "id": "59e93579",
   "metadata": {
    "execution": {
     "iopub.execute_input": "2023-10-09T11:50:51.672325Z",
     "iopub.status.busy": "2023-10-09T11:50:51.671524Z",
     "iopub.status.idle": "2023-10-09T11:50:51.686186Z",
     "shell.execute_reply": "2023-10-09T11:50:51.685053Z"
    },
    "papermill": {
     "duration": 0.031947,
     "end_time": "2023-10-09T11:50:51.688164",
     "exception": false,
     "start_time": "2023-10-09T11:50:51.656217",
     "status": "completed"
    },
    "tags": []
   },
   "outputs": [
    {
     "name": "stdout",
     "output_type": "stream",
     "text": [
      "Classification Report:Test Data\n",
      "              precision    recall  f1-score   support\n",
      "\n",
      "           0       1.00      1.00      1.00        15\n",
      "           1       0.88      0.94      0.91        16\n",
      "           2       0.92      0.86      0.89        14\n",
      "\n",
      "    accuracy                           0.93        45\n",
      "   macro avg       0.94      0.93      0.93        45\n",
      "weighted avg       0.93      0.93      0.93        45\n",
      "\n"
     ]
    }
   ],
   "source": [
    "y_pred=dtree.predict(x_test)\n",
    "class_rep = classification_report(y_test, y_pred)\n",
    "print(\"Classification Report:Test Data\")\n",
    "print(class_rep)"
   ]
  },
  {
   "cell_type": "code",
   "execution_count": 30,
   "id": "2f3b4ac9",
   "metadata": {
    "execution": {
     "iopub.execute_input": "2023-10-09T11:50:51.718791Z",
     "iopub.status.busy": "2023-10-09T11:50:51.718404Z",
     "iopub.status.idle": "2023-10-09T11:50:51.735304Z",
     "shell.execute_reply": "2023-10-09T11:50:51.734016Z"
    },
    "papermill": {
     "duration": 0.034891,
     "end_time": "2023-10-09T11:50:51.737390",
     "exception": false,
     "start_time": "2023-10-09T11:50:51.702499",
     "status": "completed"
    },
    "tags": []
   },
   "outputs": [
    {
     "name": "stdout",
     "output_type": "stream",
     "text": [
      "Classification Report:Train Data\n",
      "              precision    recall  f1-score   support\n",
      "\n",
      "           0       1.00      1.00      1.00        33\n",
      "           1       1.00      1.00      1.00        34\n",
      "           2       1.00      1.00      1.00        35\n",
      "\n",
      "    accuracy                           1.00       102\n",
      "   macro avg       1.00      1.00      1.00       102\n",
      "weighted avg       1.00      1.00      1.00       102\n",
      "\n"
     ]
    }
   ],
   "source": [
    "y_pred_train=dtree.predict(x_train)\n",
    "class_rep = classification_report(y_train, y_pred_train)\n",
    "print(\"Classification Report:Train Data\")\n",
    "print(class_rep)"
   ]
  },
  {
   "cell_type": "code",
   "execution_count": 31,
   "id": "c0c4dbf0",
   "metadata": {
    "execution": {
     "iopub.execute_input": "2023-10-09T11:50:51.768397Z",
     "iopub.status.busy": "2023-10-09T11:50:51.767993Z",
     "iopub.status.idle": "2023-10-09T11:50:51.778158Z",
     "shell.execute_reply": "2023-10-09T11:50:51.777417Z"
    },
    "papermill": {
     "duration": 0.027576,
     "end_time": "2023-10-09T11:50:51.779940",
     "exception": false,
     "start_time": "2023-10-09T11:50:51.752364",
     "status": "completed"
    },
    "tags": []
   },
   "outputs": [
    {
     "data": {
      "text/html": [
       "<style>#sk-container-id-3 {color: black;background-color: white;}#sk-container-id-3 pre{padding: 0;}#sk-container-id-3 div.sk-toggleable {background-color: white;}#sk-container-id-3 label.sk-toggleable__label {cursor: pointer;display: block;width: 100%;margin-bottom: 0;padding: 0.3em;box-sizing: border-box;text-align: center;}#sk-container-id-3 label.sk-toggleable__label-arrow:before {content: \"▸\";float: left;margin-right: 0.25em;color: #696969;}#sk-container-id-3 label.sk-toggleable__label-arrow:hover:before {color: black;}#sk-container-id-3 div.sk-estimator:hover label.sk-toggleable__label-arrow:before {color: black;}#sk-container-id-3 div.sk-toggleable__content {max-height: 0;max-width: 0;overflow: hidden;text-align: left;background-color: #f0f8ff;}#sk-container-id-3 div.sk-toggleable__content pre {margin: 0.2em;color: black;border-radius: 0.25em;background-color: #f0f8ff;}#sk-container-id-3 input.sk-toggleable__control:checked~div.sk-toggleable__content {max-height: 200px;max-width: 100%;overflow: auto;}#sk-container-id-3 input.sk-toggleable__control:checked~label.sk-toggleable__label-arrow:before {content: \"▾\";}#sk-container-id-3 div.sk-estimator input.sk-toggleable__control:checked~label.sk-toggleable__label {background-color: #d4ebff;}#sk-container-id-3 div.sk-label input.sk-toggleable__control:checked~label.sk-toggleable__label {background-color: #d4ebff;}#sk-container-id-3 input.sk-hidden--visually {border: 0;clip: rect(1px 1px 1px 1px);clip: rect(1px, 1px, 1px, 1px);height: 1px;margin: -1px;overflow: hidden;padding: 0;position: absolute;width: 1px;}#sk-container-id-3 div.sk-estimator {font-family: monospace;background-color: #f0f8ff;border: 1px dotted black;border-radius: 0.25em;box-sizing: border-box;margin-bottom: 0.5em;}#sk-container-id-3 div.sk-estimator:hover {background-color: #d4ebff;}#sk-container-id-3 div.sk-parallel-item::after {content: \"\";width: 100%;border-bottom: 1px solid gray;flex-grow: 1;}#sk-container-id-3 div.sk-label:hover label.sk-toggleable__label {background-color: #d4ebff;}#sk-container-id-3 div.sk-serial::before {content: \"\";position: absolute;border-left: 1px solid gray;box-sizing: border-box;top: 0;bottom: 0;left: 50%;z-index: 0;}#sk-container-id-3 div.sk-serial {display: flex;flex-direction: column;align-items: center;background-color: white;padding-right: 0.2em;padding-left: 0.2em;position: relative;}#sk-container-id-3 div.sk-item {position: relative;z-index: 1;}#sk-container-id-3 div.sk-parallel {display: flex;align-items: stretch;justify-content: center;background-color: white;position: relative;}#sk-container-id-3 div.sk-item::before, #sk-container-id-3 div.sk-parallel-item::before {content: \"\";position: absolute;border-left: 1px solid gray;box-sizing: border-box;top: 0;bottom: 0;left: 50%;z-index: -1;}#sk-container-id-3 div.sk-parallel-item {display: flex;flex-direction: column;z-index: 1;position: relative;background-color: white;}#sk-container-id-3 div.sk-parallel-item:first-child::after {align-self: flex-end;width: 50%;}#sk-container-id-3 div.sk-parallel-item:last-child::after {align-self: flex-start;width: 50%;}#sk-container-id-3 div.sk-parallel-item:only-child::after {width: 0;}#sk-container-id-3 div.sk-dashed-wrapped {border: 1px dashed gray;margin: 0 0.4em 0.5em 0.4em;box-sizing: border-box;padding-bottom: 0.4em;background-color: white;}#sk-container-id-3 div.sk-label label {font-family: monospace;font-weight: bold;display: inline-block;line-height: 1.2em;}#sk-container-id-3 div.sk-label-container {text-align: center;}#sk-container-id-3 div.sk-container {/* jupyter's `normalize.less` sets `[hidden] { display: none; }` but bootstrap.min.css set `[hidden] { display: none !important; }` so we also need the `!important` here to be able to override the default hidden behavior on the sphinx rendered scikit-learn.org. See: https://github.com/scikit-learn/scikit-learn/issues/21755 */display: inline-block !important;position: relative;}#sk-container-id-3 div.sk-text-repr-fallback {display: none;}</style><div id=\"sk-container-id-3\" class=\"sk-top-container\"><div class=\"sk-text-repr-fallback\"><pre>DecisionTreeClassifier(max_depth=3)</pre><b>In a Jupyter environment, please rerun this cell to show the HTML representation or trust the notebook. <br />On GitHub, the HTML representation is unable to render, please try loading this page with nbviewer.org.</b></div><div class=\"sk-container\" hidden><div class=\"sk-item\"><div class=\"sk-estimator sk-toggleable\"><input class=\"sk-toggleable__control sk-hidden--visually\" id=\"sk-estimator-id-3\" type=\"checkbox\" checked><label for=\"sk-estimator-id-3\" class=\"sk-toggleable__label sk-toggleable__label-arrow\">DecisionTreeClassifier</label><div class=\"sk-toggleable__content\"><pre>DecisionTreeClassifier(max_depth=3)</pre></div></div></div></div></div>"
      ],
      "text/plain": [
       "DecisionTreeClassifier(max_depth=3)"
      ]
     },
     "execution_count": 31,
     "metadata": {},
     "output_type": "execute_result"
    }
   ],
   "source": [
    "### Pruning descision tree because owerfitting\n",
    "dtree=DecisionTreeClassifier(max_depth=3)\n",
    "dtree.fit(x_train,y_train)\n"
   ]
  },
  {
   "cell_type": "code",
   "execution_count": 32,
   "id": "fa04c150",
   "metadata": {
    "execution": {
     "iopub.execute_input": "2023-10-09T11:50:51.811096Z",
     "iopub.status.busy": "2023-10-09T11:50:51.810748Z",
     "iopub.status.idle": "2023-10-09T11:50:51.822626Z",
     "shell.execute_reply": "2023-10-09T11:50:51.821976Z"
    },
    "papermill": {
     "duration": 0.030059,
     "end_time": "2023-10-09T11:50:51.824438",
     "exception": false,
     "start_time": "2023-10-09T11:50:51.794379",
     "status": "completed"
    },
    "tags": []
   },
   "outputs": [
    {
     "name": "stdout",
     "output_type": "stream",
     "text": [
      "Classification Report:Test Data\n",
      "              precision    recall  f1-score   support\n",
      "\n",
      "           0       1.00      1.00      1.00        15\n",
      "           1       0.94      0.94      0.94        16\n",
      "           2       0.93      0.93      0.93        14\n",
      "\n",
      "    accuracy                           0.96        45\n",
      "   macro avg       0.96      0.96      0.96        45\n",
      "weighted avg       0.96      0.96      0.96        45\n",
      "\n"
     ]
    }
   ],
   "source": [
    "y_pred=dtree.predict(x_test)\n",
    "class_rep = classification_report(y_test, y_pred)\n",
    "print(\"Classification Report:Test Data\")\n",
    "print(class_rep)"
   ]
  },
  {
   "cell_type": "code",
   "execution_count": 33,
   "id": "eeef37d3",
   "metadata": {
    "execution": {
     "iopub.execute_input": "2023-10-09T11:50:51.854997Z",
     "iopub.status.busy": "2023-10-09T11:50:51.854641Z",
     "iopub.status.idle": "2023-10-09T11:50:51.868234Z",
     "shell.execute_reply": "2023-10-09T11:50:51.867192Z"
    },
    "papermill": {
     "duration": 0.031331,
     "end_time": "2023-10-09T11:50:51.870245",
     "exception": false,
     "start_time": "2023-10-09T11:50:51.838914",
     "status": "completed"
    },
    "tags": []
   },
   "outputs": [
    {
     "name": "stdout",
     "output_type": "stream",
     "text": [
      "Classification Report:Train Data\n",
      "              precision    recall  f1-score   support\n",
      "\n",
      "           0       1.00      1.00      1.00        33\n",
      "           1       1.00      0.94      0.97        34\n",
      "           2       0.95      1.00      0.97        35\n",
      "\n",
      "    accuracy                           0.98       102\n",
      "   macro avg       0.98      0.98      0.98       102\n",
      "weighted avg       0.98      0.98      0.98       102\n",
      "\n"
     ]
    }
   ],
   "source": [
    "y_pred_train=dtree.predict(x_train)\n",
    "class_rep = classification_report(y_train, y_pred_train)\n",
    "print(\"Classification Report:Train Data\")\n",
    "print(class_rep)"
   ]
  },
  {
   "cell_type": "code",
   "execution_count": 34,
   "id": "27ad30d5",
   "metadata": {
    "execution": {
     "iopub.execute_input": "2023-10-09T11:50:51.901902Z",
     "iopub.status.busy": "2023-10-09T11:50:51.901541Z",
     "iopub.status.idle": "2023-10-09T11:50:51.930029Z",
     "shell.execute_reply": "2023-10-09T11:50:51.928722Z"
    },
    "papermill": {
     "duration": 0.047138,
     "end_time": "2023-10-09T11:50:51.932232",
     "exception": false,
     "start_time": "2023-10-09T11:50:51.885094",
     "status": "completed"
    },
    "tags": []
   },
   "outputs": [
    {
     "name": "stdout",
     "output_type": "stream",
     "text": [
      "Fold 1: Accuracy = 0.90\n",
      "Fold 2: Accuracy = 0.97\n",
      "Fold 3: Accuracy = 0.97\n",
      "Fold 4: Accuracy = 1.00\n",
      "Fold 5: Accuracy = 0.93\n",
      "Mean Accuracy: 0.95\n",
      "Standard Deviation: 0.03\n"
     ]
    }
   ],
   "source": [
    "num_folds = 5\n",
    "\n",
    "kf = KFold(n_splits=num_folds, shuffle=True, random_state=42)\n",
    "\n",
    "# Perform cross-validation and compute accuracy scores\n",
    "scores = cross_val_score(dtree, x, y, cv=kf, scoring='accuracy')\n",
    "\n",
    "# Print the accuracy scores for each fold\n",
    "for i, score in enumerate(scores, 1):\n",
    "    print(f'Fold {i}: Accuracy = {score:.2f}')\n",
    "\n",
    "# Calculate and print the mean and standard deviation of the accuracy scores\n",
    "mean_accuracy = np.mean(scores)\n",
    "std_accuracy = np.std(scores)\n",
    "print(f'Mean Accuracy: {mean_accuracy:.2f}')\n",
    "print(f'Standard Deviation: {std_accuracy:.2f}')"
   ]
  },
  {
   "cell_type": "code",
   "execution_count": 35,
   "id": "cfb163c7",
   "metadata": {
    "execution": {
     "iopub.execute_input": "2023-10-09T11:50:51.964273Z",
     "iopub.status.busy": "2023-10-09T11:50:51.963084Z",
     "iopub.status.idle": "2023-10-09T11:50:52.286081Z",
     "shell.execute_reply": "2023-10-09T11:50:52.285028Z"
    },
    "papermill": {
     "duration": 0.341507,
     "end_time": "2023-10-09T11:50:52.288523",
     "exception": false,
     "start_time": "2023-10-09T11:50:51.947016",
     "status": "completed"
    },
    "tags": []
   },
   "outputs": [
    {
     "name": "stderr",
     "output_type": "stream",
     "text": [
      "/opt/conda/lib/python3.10/site-packages/sklearn/linear_model/_logistic.py:458: ConvergenceWarning: lbfgs failed to converge (status=1):\n",
      "STOP: TOTAL NO. of ITERATIONS REACHED LIMIT.\n",
      "\n",
      "Increase the number of iterations (max_iter) or scale the data as shown in:\n",
      "    https://scikit-learn.org/stable/modules/preprocessing.html\n",
      "Please also refer to the documentation for alternative solver options:\n",
      "    https://scikit-learn.org/stable/modules/linear_model.html#logistic-regression\n",
      "  n_iter_i = _check_optimize_result(\n",
      "/opt/conda/lib/python3.10/site-packages/sklearn/linear_model/_logistic.py:458: ConvergenceWarning: lbfgs failed to converge (status=1):\n",
      "STOP: TOTAL NO. of ITERATIONS REACHED LIMIT.\n",
      "\n",
      "Increase the number of iterations (max_iter) or scale the data as shown in:\n",
      "    https://scikit-learn.org/stable/modules/preprocessing.html\n",
      "Please also refer to the documentation for alternative solver options:\n",
      "    https://scikit-learn.org/stable/modules/linear_model.html#logistic-regression\n",
      "  n_iter_i = _check_optimize_result(\n",
      "/opt/conda/lib/python3.10/site-packages/sklearn/linear_model/_logistic.py:458: ConvergenceWarning: lbfgs failed to converge (status=1):\n",
      "STOP: TOTAL NO. of ITERATIONS REACHED LIMIT.\n",
      "\n",
      "Increase the number of iterations (max_iter) or scale the data as shown in:\n",
      "    https://scikit-learn.org/stable/modules/preprocessing.html\n",
      "Please also refer to the documentation for alternative solver options:\n",
      "    https://scikit-learn.org/stable/modules/linear_model.html#logistic-regression\n",
      "  n_iter_i = _check_optimize_result(\n"
     ]
    }
   ],
   "source": [
    "from sklearn.feature_selection import RFECV\n",
    "model = LogisticRegression()\n",
    "rfecv = RFECV(estimator=model, cv=5)\n",
    "\n",
    "rfecv.fit(x, y)\n",
    "selected_features = x.columns[rfecv.support_]\n",
    "optimal_num_features = rfecv.n_features_"
   ]
  },
  {
   "cell_type": "code",
   "execution_count": 36,
   "id": "e67b276e",
   "metadata": {
    "execution": {
     "iopub.execute_input": "2023-10-09T11:50:52.320449Z",
     "iopub.status.busy": "2023-10-09T11:50:52.320038Z",
     "iopub.status.idle": "2023-10-09T11:50:52.326127Z",
     "shell.execute_reply": "2023-10-09T11:50:52.325042Z"
    },
    "papermill": {
     "duration": 0.025704,
     "end_time": "2023-10-09T11:50:52.328783",
     "exception": false,
     "start_time": "2023-10-09T11:50:52.303079",
     "status": "completed"
    },
    "tags": []
   },
   "outputs": [
    {
     "name": "stdout",
     "output_type": "stream",
     "text": [
      "Optimal Number of Features: 2\n",
      "Selected Features:\n",
      "Index(['petal_length', 'petal_width'], dtype='object')\n"
     ]
    }
   ],
   "source": [
    "print(\"Optimal Number of Features:\", optimal_num_features)\n",
    "print(\"Selected Features:\")\n",
    "print(selected_features)"
   ]
  },
  {
   "cell_type": "code",
   "execution_count": 37,
   "id": "86fd3790",
   "metadata": {
    "execution": {
     "iopub.execute_input": "2023-10-09T11:50:52.360373Z",
     "iopub.status.busy": "2023-10-09T11:50:52.359575Z",
     "iopub.status.idle": "2023-10-09T11:50:52.366048Z",
     "shell.execute_reply": "2023-10-09T11:50:52.365091Z"
    },
    "papermill": {
     "duration": 0.024746,
     "end_time": "2023-10-09T11:50:52.368221",
     "exception": false,
     "start_time": "2023-10-09T11:50:52.343475",
     "status": "completed"
    },
    "tags": []
   },
   "outputs": [],
   "source": [
    "x.drop(columns='sepal_length',inplace=True)\n",
    "x.drop(columns='sepal_width',inplace=True)"
   ]
  },
  {
   "cell_type": "code",
   "execution_count": 38,
   "id": "22e1858b",
   "metadata": {
    "execution": {
     "iopub.execute_input": "2023-10-09T11:50:52.400628Z",
     "iopub.status.busy": "2023-10-09T11:50:52.399615Z",
     "iopub.status.idle": "2023-10-09T11:50:52.418154Z",
     "shell.execute_reply": "2023-10-09T11:50:52.417047Z"
    },
    "papermill": {
     "duration": 0.036862,
     "end_time": "2023-10-09T11:50:52.420271",
     "exception": false,
     "start_time": "2023-10-09T11:50:52.383409",
     "status": "completed"
    },
    "tags": []
   },
   "outputs": [
    {
     "data": {
      "text/html": [
       "<style>#sk-container-id-4 {color: black;background-color: white;}#sk-container-id-4 pre{padding: 0;}#sk-container-id-4 div.sk-toggleable {background-color: white;}#sk-container-id-4 label.sk-toggleable__label {cursor: pointer;display: block;width: 100%;margin-bottom: 0;padding: 0.3em;box-sizing: border-box;text-align: center;}#sk-container-id-4 label.sk-toggleable__label-arrow:before {content: \"▸\";float: left;margin-right: 0.25em;color: #696969;}#sk-container-id-4 label.sk-toggleable__label-arrow:hover:before {color: black;}#sk-container-id-4 div.sk-estimator:hover label.sk-toggleable__label-arrow:before {color: black;}#sk-container-id-4 div.sk-toggleable__content {max-height: 0;max-width: 0;overflow: hidden;text-align: left;background-color: #f0f8ff;}#sk-container-id-4 div.sk-toggleable__content pre {margin: 0.2em;color: black;border-radius: 0.25em;background-color: #f0f8ff;}#sk-container-id-4 input.sk-toggleable__control:checked~div.sk-toggleable__content {max-height: 200px;max-width: 100%;overflow: auto;}#sk-container-id-4 input.sk-toggleable__control:checked~label.sk-toggleable__label-arrow:before {content: \"▾\";}#sk-container-id-4 div.sk-estimator input.sk-toggleable__control:checked~label.sk-toggleable__label {background-color: #d4ebff;}#sk-container-id-4 div.sk-label input.sk-toggleable__control:checked~label.sk-toggleable__label {background-color: #d4ebff;}#sk-container-id-4 input.sk-hidden--visually {border: 0;clip: rect(1px 1px 1px 1px);clip: rect(1px, 1px, 1px, 1px);height: 1px;margin: -1px;overflow: hidden;padding: 0;position: absolute;width: 1px;}#sk-container-id-4 div.sk-estimator {font-family: monospace;background-color: #f0f8ff;border: 1px dotted black;border-radius: 0.25em;box-sizing: border-box;margin-bottom: 0.5em;}#sk-container-id-4 div.sk-estimator:hover {background-color: #d4ebff;}#sk-container-id-4 div.sk-parallel-item::after {content: \"\";width: 100%;border-bottom: 1px solid gray;flex-grow: 1;}#sk-container-id-4 div.sk-label:hover label.sk-toggleable__label {background-color: #d4ebff;}#sk-container-id-4 div.sk-serial::before {content: \"\";position: absolute;border-left: 1px solid gray;box-sizing: border-box;top: 0;bottom: 0;left: 50%;z-index: 0;}#sk-container-id-4 div.sk-serial {display: flex;flex-direction: column;align-items: center;background-color: white;padding-right: 0.2em;padding-left: 0.2em;position: relative;}#sk-container-id-4 div.sk-item {position: relative;z-index: 1;}#sk-container-id-4 div.sk-parallel {display: flex;align-items: stretch;justify-content: center;background-color: white;position: relative;}#sk-container-id-4 div.sk-item::before, #sk-container-id-4 div.sk-parallel-item::before {content: \"\";position: absolute;border-left: 1px solid gray;box-sizing: border-box;top: 0;bottom: 0;left: 50%;z-index: -1;}#sk-container-id-4 div.sk-parallel-item {display: flex;flex-direction: column;z-index: 1;position: relative;background-color: white;}#sk-container-id-4 div.sk-parallel-item:first-child::after {align-self: flex-end;width: 50%;}#sk-container-id-4 div.sk-parallel-item:last-child::after {align-self: flex-start;width: 50%;}#sk-container-id-4 div.sk-parallel-item:only-child::after {width: 0;}#sk-container-id-4 div.sk-dashed-wrapped {border: 1px dashed gray;margin: 0 0.4em 0.5em 0.4em;box-sizing: border-box;padding-bottom: 0.4em;background-color: white;}#sk-container-id-4 div.sk-label label {font-family: monospace;font-weight: bold;display: inline-block;line-height: 1.2em;}#sk-container-id-4 div.sk-label-container {text-align: center;}#sk-container-id-4 div.sk-container {/* jupyter's `normalize.less` sets `[hidden] { display: none; }` but bootstrap.min.css set `[hidden] { display: none !important; }` so we also need the `!important` here to be able to override the default hidden behavior on the sphinx rendered scikit-learn.org. See: https://github.com/scikit-learn/scikit-learn/issues/21755 */display: inline-block !important;position: relative;}#sk-container-id-4 div.sk-text-repr-fallback {display: none;}</style><div id=\"sk-container-id-4\" class=\"sk-top-container\"><div class=\"sk-text-repr-fallback\"><pre>LogisticRegression()</pre><b>In a Jupyter environment, please rerun this cell to show the HTML representation or trust the notebook. <br />On GitHub, the HTML representation is unable to render, please try loading this page with nbviewer.org.</b></div><div class=\"sk-container\" hidden><div class=\"sk-item\"><div class=\"sk-estimator sk-toggleable\"><input class=\"sk-toggleable__control sk-hidden--visually\" id=\"sk-estimator-id-4\" type=\"checkbox\" checked><label for=\"sk-estimator-id-4\" class=\"sk-toggleable__label sk-toggleable__label-arrow\">LogisticRegression</label><div class=\"sk-toggleable__content\"><pre>LogisticRegression()</pre></div></div></div></div></div>"
      ],
      "text/plain": [
       "LogisticRegression()"
      ]
     },
     "execution_count": 38,
     "metadata": {},
     "output_type": "execute_result"
    }
   ],
   "source": [
    "x_train,x_test,y_train,y_test=train_test_split(x,y,test_size=0.3,random_state=1)\n",
    "model.fit(x_train,y_train)"
   ]
  },
  {
   "cell_type": "code",
   "execution_count": 39,
   "id": "a09f67aa",
   "metadata": {
    "execution": {
     "iopub.execute_input": "2023-10-09T11:50:52.451943Z",
     "iopub.status.busy": "2023-10-09T11:50:52.451335Z",
     "iopub.status.idle": "2023-10-09T11:50:52.464596Z",
     "shell.execute_reply": "2023-10-09T11:50:52.463276Z"
    },
    "papermill": {
     "duration": 0.031764,
     "end_time": "2023-10-09T11:50:52.466761",
     "exception": false,
     "start_time": "2023-10-09T11:50:52.434997",
     "status": "completed"
    },
    "tags": []
   },
   "outputs": [
    {
     "name": "stdout",
     "output_type": "stream",
     "text": [
      "Classification Report:Test Data\n",
      "              precision    recall  f1-score   support\n",
      "\n",
      "           0       1.00      1.00      1.00        15\n",
      "           1       0.94      0.94      0.94        16\n",
      "           2       0.93      0.93      0.93        14\n",
      "\n",
      "    accuracy                           0.96        45\n",
      "   macro avg       0.96      0.96      0.96        45\n",
      "weighted avg       0.96      0.96      0.96        45\n",
      "\n"
     ]
    }
   ],
   "source": [
    "y_pred=model.predict(x_test)\n",
    "class_rep = classification_report(y_test, y_pred)\n",
    "print(\"Classification Report:Test Data\")\n",
    "print(class_rep)"
   ]
  },
  {
   "cell_type": "markdown",
   "id": "4cf94452",
   "metadata": {
    "papermill": {
     "duration": 0.014403,
     "end_time": "2023-10-09T11:50:52.496040",
     "exception": false,
     "start_time": "2023-10-09T11:50:52.481637",
     "status": "completed"
    },
    "tags": []
   },
   "source": []
  },
  {
   "cell_type": "code",
   "execution_count": 40,
   "id": "1ede5dbf",
   "metadata": {
    "execution": {
     "iopub.execute_input": "2023-10-09T11:50:52.527953Z",
     "iopub.status.busy": "2023-10-09T11:50:52.526996Z",
     "iopub.status.idle": "2023-10-09T11:50:52.536618Z",
     "shell.execute_reply": "2023-10-09T11:50:52.535758Z"
    },
    "papermill": {
     "duration": 0.027495,
     "end_time": "2023-10-09T11:50:52.538521",
     "exception": false,
     "start_time": "2023-10-09T11:50:52.511026",
     "status": "completed"
    },
    "tags": []
   },
   "outputs": [
    {
     "data": {
      "text/html": [
       "<style>#sk-container-id-5 {color: black;background-color: white;}#sk-container-id-5 pre{padding: 0;}#sk-container-id-5 div.sk-toggleable {background-color: white;}#sk-container-id-5 label.sk-toggleable__label {cursor: pointer;display: block;width: 100%;margin-bottom: 0;padding: 0.3em;box-sizing: border-box;text-align: center;}#sk-container-id-5 label.sk-toggleable__label-arrow:before {content: \"▸\";float: left;margin-right: 0.25em;color: #696969;}#sk-container-id-5 label.sk-toggleable__label-arrow:hover:before {color: black;}#sk-container-id-5 div.sk-estimator:hover label.sk-toggleable__label-arrow:before {color: black;}#sk-container-id-5 div.sk-toggleable__content {max-height: 0;max-width: 0;overflow: hidden;text-align: left;background-color: #f0f8ff;}#sk-container-id-5 div.sk-toggleable__content pre {margin: 0.2em;color: black;border-radius: 0.25em;background-color: #f0f8ff;}#sk-container-id-5 input.sk-toggleable__control:checked~div.sk-toggleable__content {max-height: 200px;max-width: 100%;overflow: auto;}#sk-container-id-5 input.sk-toggleable__control:checked~label.sk-toggleable__label-arrow:before {content: \"▾\";}#sk-container-id-5 div.sk-estimator input.sk-toggleable__control:checked~label.sk-toggleable__label {background-color: #d4ebff;}#sk-container-id-5 div.sk-label input.sk-toggleable__control:checked~label.sk-toggleable__label {background-color: #d4ebff;}#sk-container-id-5 input.sk-hidden--visually {border: 0;clip: rect(1px 1px 1px 1px);clip: rect(1px, 1px, 1px, 1px);height: 1px;margin: -1px;overflow: hidden;padding: 0;position: absolute;width: 1px;}#sk-container-id-5 div.sk-estimator {font-family: monospace;background-color: #f0f8ff;border: 1px dotted black;border-radius: 0.25em;box-sizing: border-box;margin-bottom: 0.5em;}#sk-container-id-5 div.sk-estimator:hover {background-color: #d4ebff;}#sk-container-id-5 div.sk-parallel-item::after {content: \"\";width: 100%;border-bottom: 1px solid gray;flex-grow: 1;}#sk-container-id-5 div.sk-label:hover label.sk-toggleable__label {background-color: #d4ebff;}#sk-container-id-5 div.sk-serial::before {content: \"\";position: absolute;border-left: 1px solid gray;box-sizing: border-box;top: 0;bottom: 0;left: 50%;z-index: 0;}#sk-container-id-5 div.sk-serial {display: flex;flex-direction: column;align-items: center;background-color: white;padding-right: 0.2em;padding-left: 0.2em;position: relative;}#sk-container-id-5 div.sk-item {position: relative;z-index: 1;}#sk-container-id-5 div.sk-parallel {display: flex;align-items: stretch;justify-content: center;background-color: white;position: relative;}#sk-container-id-5 div.sk-item::before, #sk-container-id-5 div.sk-parallel-item::before {content: \"\";position: absolute;border-left: 1px solid gray;box-sizing: border-box;top: 0;bottom: 0;left: 50%;z-index: -1;}#sk-container-id-5 div.sk-parallel-item {display: flex;flex-direction: column;z-index: 1;position: relative;background-color: white;}#sk-container-id-5 div.sk-parallel-item:first-child::after {align-self: flex-end;width: 50%;}#sk-container-id-5 div.sk-parallel-item:last-child::after {align-self: flex-start;width: 50%;}#sk-container-id-5 div.sk-parallel-item:only-child::after {width: 0;}#sk-container-id-5 div.sk-dashed-wrapped {border: 1px dashed gray;margin: 0 0.4em 0.5em 0.4em;box-sizing: border-box;padding-bottom: 0.4em;background-color: white;}#sk-container-id-5 div.sk-label label {font-family: monospace;font-weight: bold;display: inline-block;line-height: 1.2em;}#sk-container-id-5 div.sk-label-container {text-align: center;}#sk-container-id-5 div.sk-container {/* jupyter's `normalize.less` sets `[hidden] { display: none; }` but bootstrap.min.css set `[hidden] { display: none !important; }` so we also need the `!important` here to be able to override the default hidden behavior on the sphinx rendered scikit-learn.org. See: https://github.com/scikit-learn/scikit-learn/issues/21755 */display: inline-block !important;position: relative;}#sk-container-id-5 div.sk-text-repr-fallback {display: none;}</style><div id=\"sk-container-id-5\" class=\"sk-top-container\"><div class=\"sk-text-repr-fallback\"><pre>DecisionTreeClassifier(max_depth=3)</pre><b>In a Jupyter environment, please rerun this cell to show the HTML representation or trust the notebook. <br />On GitHub, the HTML representation is unable to render, please try loading this page with nbviewer.org.</b></div><div class=\"sk-container\" hidden><div class=\"sk-item\"><div class=\"sk-estimator sk-toggleable\"><input class=\"sk-toggleable__control sk-hidden--visually\" id=\"sk-estimator-id-5\" type=\"checkbox\" checked><label for=\"sk-estimator-id-5\" class=\"sk-toggleable__label sk-toggleable__label-arrow\">DecisionTreeClassifier</label><div class=\"sk-toggleable__content\"><pre>DecisionTreeClassifier(max_depth=3)</pre></div></div></div></div></div>"
      ],
      "text/plain": [
       "DecisionTreeClassifier(max_depth=3)"
      ]
     },
     "execution_count": 40,
     "metadata": {},
     "output_type": "execute_result"
    }
   ],
   "source": [
    "dtree=DecisionTreeClassifier(max_depth=3)\n",
    "dtree.fit(x_train,y_train)"
   ]
  },
  {
   "cell_type": "code",
   "execution_count": 41,
   "id": "9a5b8100",
   "metadata": {
    "execution": {
     "iopub.execute_input": "2023-10-09T11:50:52.570423Z",
     "iopub.status.busy": "2023-10-09T11:50:52.570064Z",
     "iopub.status.idle": "2023-10-09T11:50:52.584476Z",
     "shell.execute_reply": "2023-10-09T11:50:52.583104Z"
    },
    "papermill": {
     "duration": 0.032948,
     "end_time": "2023-10-09T11:50:52.586405",
     "exception": false,
     "start_time": "2023-10-09T11:50:52.553457",
     "status": "completed"
    },
    "tags": []
   },
   "outputs": [
    {
     "name": "stdout",
     "output_type": "stream",
     "text": [
      "Classification Report:Test Data\n",
      "              precision    recall  f1-score   support\n",
      "\n",
      "           0       1.00      1.00      1.00        15\n",
      "           1       0.94      0.94      0.94        16\n",
      "           2       0.93      0.93      0.93        14\n",
      "\n",
      "    accuracy                           0.96        45\n",
      "   macro avg       0.96      0.96      0.96        45\n",
      "weighted avg       0.96      0.96      0.96        45\n",
      "\n"
     ]
    }
   ],
   "source": [
    "y_pred=dtree.predict(x_test)\n",
    "class_rep = classification_report(y_test, y_pred)\n",
    "print(\"Classification Report:Test Data\")\n",
    "print(class_rep)"
   ]
  },
  {
   "cell_type": "markdown",
   "id": "7d9425ab",
   "metadata": {
    "papermill": {
     "duration": 0.015173,
     "end_time": "2023-10-09T11:50:52.617032",
     "exception": false,
     "start_time": "2023-10-09T11:50:52.601859",
     "status": "completed"
    },
    "tags": []
   },
   "source": [
    "### Modle performance didn't change even after keeping ony selected feature given by RFECV. The main reason is because the dataset is very small hence generalisation is not possible. "
   ]
  },
  {
   "cell_type": "code",
   "execution_count": 42,
   "id": "40df6e1c",
   "metadata": {
    "execution": {
     "iopub.execute_input": "2023-10-09T11:50:52.650487Z",
     "iopub.status.busy": "2023-10-09T11:50:52.649556Z",
     "iopub.status.idle": "2023-10-09T11:50:52.908932Z",
     "shell.execute_reply": "2023-10-09T11:50:52.907629Z"
    },
    "papermill": {
     "duration": 0.278246,
     "end_time": "2023-10-09T11:50:52.911318",
     "exception": false,
     "start_time": "2023-10-09T11:50:52.633072",
     "status": "completed"
    },
    "tags": []
   },
   "outputs": [
    {
     "data": {
      "text/html": [
       "<style>#sk-container-id-6 {color: black;background-color: white;}#sk-container-id-6 pre{padding: 0;}#sk-container-id-6 div.sk-toggleable {background-color: white;}#sk-container-id-6 label.sk-toggleable__label {cursor: pointer;display: block;width: 100%;margin-bottom: 0;padding: 0.3em;box-sizing: border-box;text-align: center;}#sk-container-id-6 label.sk-toggleable__label-arrow:before {content: \"▸\";float: left;margin-right: 0.25em;color: #696969;}#sk-container-id-6 label.sk-toggleable__label-arrow:hover:before {color: black;}#sk-container-id-6 div.sk-estimator:hover label.sk-toggleable__label-arrow:before {color: black;}#sk-container-id-6 div.sk-toggleable__content {max-height: 0;max-width: 0;overflow: hidden;text-align: left;background-color: #f0f8ff;}#sk-container-id-6 div.sk-toggleable__content pre {margin: 0.2em;color: black;border-radius: 0.25em;background-color: #f0f8ff;}#sk-container-id-6 input.sk-toggleable__control:checked~div.sk-toggleable__content {max-height: 200px;max-width: 100%;overflow: auto;}#sk-container-id-6 input.sk-toggleable__control:checked~label.sk-toggleable__label-arrow:before {content: \"▾\";}#sk-container-id-6 div.sk-estimator input.sk-toggleable__control:checked~label.sk-toggleable__label {background-color: #d4ebff;}#sk-container-id-6 div.sk-label input.sk-toggleable__control:checked~label.sk-toggleable__label {background-color: #d4ebff;}#sk-container-id-6 input.sk-hidden--visually {border: 0;clip: rect(1px 1px 1px 1px);clip: rect(1px, 1px, 1px, 1px);height: 1px;margin: -1px;overflow: hidden;padding: 0;position: absolute;width: 1px;}#sk-container-id-6 div.sk-estimator {font-family: monospace;background-color: #f0f8ff;border: 1px dotted black;border-radius: 0.25em;box-sizing: border-box;margin-bottom: 0.5em;}#sk-container-id-6 div.sk-estimator:hover {background-color: #d4ebff;}#sk-container-id-6 div.sk-parallel-item::after {content: \"\";width: 100%;border-bottom: 1px solid gray;flex-grow: 1;}#sk-container-id-6 div.sk-label:hover label.sk-toggleable__label {background-color: #d4ebff;}#sk-container-id-6 div.sk-serial::before {content: \"\";position: absolute;border-left: 1px solid gray;box-sizing: border-box;top: 0;bottom: 0;left: 50%;z-index: 0;}#sk-container-id-6 div.sk-serial {display: flex;flex-direction: column;align-items: center;background-color: white;padding-right: 0.2em;padding-left: 0.2em;position: relative;}#sk-container-id-6 div.sk-item {position: relative;z-index: 1;}#sk-container-id-6 div.sk-parallel {display: flex;align-items: stretch;justify-content: center;background-color: white;position: relative;}#sk-container-id-6 div.sk-item::before, #sk-container-id-6 div.sk-parallel-item::before {content: \"\";position: absolute;border-left: 1px solid gray;box-sizing: border-box;top: 0;bottom: 0;left: 50%;z-index: -1;}#sk-container-id-6 div.sk-parallel-item {display: flex;flex-direction: column;z-index: 1;position: relative;background-color: white;}#sk-container-id-6 div.sk-parallel-item:first-child::after {align-self: flex-end;width: 50%;}#sk-container-id-6 div.sk-parallel-item:last-child::after {align-self: flex-start;width: 50%;}#sk-container-id-6 div.sk-parallel-item:only-child::after {width: 0;}#sk-container-id-6 div.sk-dashed-wrapped {border: 1px dashed gray;margin: 0 0.4em 0.5em 0.4em;box-sizing: border-box;padding-bottom: 0.4em;background-color: white;}#sk-container-id-6 div.sk-label label {font-family: monospace;font-weight: bold;display: inline-block;line-height: 1.2em;}#sk-container-id-6 div.sk-label-container {text-align: center;}#sk-container-id-6 div.sk-container {/* jupyter's `normalize.less` sets `[hidden] { display: none; }` but bootstrap.min.css set `[hidden] { display: none !important; }` so we also need the `!important` here to be able to override the default hidden behavior on the sphinx rendered scikit-learn.org. See: https://github.com/scikit-learn/scikit-learn/issues/21755 */display: inline-block !important;position: relative;}#sk-container-id-6 div.sk-text-repr-fallback {display: none;}</style><div id=\"sk-container-id-6\" class=\"sk-top-container\"><div class=\"sk-text-repr-fallback\"><pre>RandomForestClassifier(random_state=42)</pre><b>In a Jupyter environment, please rerun this cell to show the HTML representation or trust the notebook. <br />On GitHub, the HTML representation is unable to render, please try loading this page with nbviewer.org.</b></div><div class=\"sk-container\" hidden><div class=\"sk-item\"><div class=\"sk-estimator sk-toggleable\"><input class=\"sk-toggleable__control sk-hidden--visually\" id=\"sk-estimator-id-6\" type=\"checkbox\" checked><label for=\"sk-estimator-id-6\" class=\"sk-toggleable__label sk-toggleable__label-arrow\">RandomForestClassifier</label><div class=\"sk-toggleable__content\"><pre>RandomForestClassifier(random_state=42)</pre></div></div></div></div></div>"
      ],
      "text/plain": [
       "RandomForestClassifier(random_state=42)"
      ]
     },
     "execution_count": 42,
     "metadata": {},
     "output_type": "execute_result"
    }
   ],
   "source": [
    "from sklearn.ensemble import RandomForestClassifier\n",
    "\n",
    "# Create a Random Forest model\n",
    "rf_model = RandomForestClassifier(n_estimators=100, random_state=42)  # For classification\n",
    "# rf_model = RandomForestRegressor(n_estimators=100, random_state=42)  # For regression\n",
    "\n",
    "# Fit the model to the training data\n",
    "rf_model.fit(x_train, y_train)\n",
    "\n"
   ]
  },
  {
   "cell_type": "code",
   "execution_count": 43,
   "id": "47cbf0d7",
   "metadata": {
    "execution": {
     "iopub.execute_input": "2023-10-09T11:50:52.945382Z",
     "iopub.status.busy": "2023-10-09T11:50:52.944995Z",
     "iopub.status.idle": "2023-10-09T11:50:52.965042Z",
     "shell.execute_reply": "2023-10-09T11:50:52.963625Z"
    },
    "papermill": {
     "duration": 0.040153,
     "end_time": "2023-10-09T11:50:52.967251",
     "exception": false,
     "start_time": "2023-10-09T11:50:52.927098",
     "status": "completed"
    },
    "tags": []
   },
   "outputs": [
    {
     "name": "stdout",
     "output_type": "stream",
     "text": [
      "Classification Report:Test Data\n",
      "              precision    recall  f1-score   support\n",
      "\n",
      "           0       1.00      1.00      1.00        15\n",
      "           1       0.94      0.94      0.94        16\n",
      "           2       0.93      0.93      0.93        14\n",
      "\n",
      "    accuracy                           0.96        45\n",
      "   macro avg       0.96      0.96      0.96        45\n",
      "weighted avg       0.96      0.96      0.96        45\n",
      "\n"
     ]
    }
   ],
   "source": [
    "# Make predictions on the test data\n",
    "y_pred = rf_model.predict(x_test)\n",
    "class_rep = classification_report(y_test, y_pred)\n",
    "print(\"Classification Report:Test Data\")\n",
    "print(class_rep)"
   ]
  },
  {
   "cell_type": "code",
   "execution_count": 44,
   "id": "57349654",
   "metadata": {
    "execution": {
     "iopub.execute_input": "2023-10-09T11:50:53.000249Z",
     "iopub.status.busy": "2023-10-09T11:50:52.999139Z",
     "iopub.status.idle": "2023-10-09T11:50:53.068041Z",
     "shell.execute_reply": "2023-10-09T11:50:53.066892Z"
    },
    "papermill": {
     "duration": 0.087606,
     "end_time": "2023-10-09T11:50:53.070378",
     "exception": false,
     "start_time": "2023-10-09T11:50:52.982772",
     "status": "completed"
    },
    "tags": []
   },
   "outputs": [
    {
     "name": "stdout",
     "output_type": "stream",
     "text": [
      "Fold 1: Accuracy = 0.93\n",
      "Fold 2: Accuracy = 0.97\n",
      "Fold 3: Accuracy = 0.97\n",
      "Fold 4: Accuracy = 0.97\n",
      "Fold 5: Accuracy = 0.97\n",
      "Mean Accuracy: 0.96\n",
      "Standard Deviation: 0.01\n"
     ]
    }
   ],
   "source": [
    "num_folds = 5\n",
    "\n",
    "kf = KFold(n_splits=num_folds, shuffle=True, random_state=42)\n",
    "\n",
    "# Perform cross-validation and compute accuracy scores\n",
    "scores = cross_val_score(model, x, y, cv=kf, scoring='accuracy')\n",
    "\n",
    "# Print the accuracy scores for each fold\n",
    "for i, score in enumerate(scores, 1):\n",
    "    print(f'Fold {i}: Accuracy = {score:.2f}')\n",
    "\n",
    "# Calculate and print the mean and standard deviation of the accuracy scores\n",
    "mean_accuracy = np.mean(scores)\n",
    "std_accuracy = np.std(scores)\n",
    "print(f'Mean Accuracy: {mean_accuracy:.2f}')\n",
    "print(f'Standard Deviation: {std_accuracy:.2f}')"
   ]
  },
  {
   "cell_type": "code",
   "execution_count": null,
   "id": "100dfe44",
   "metadata": {
    "papermill": {
     "duration": 0.01504,
     "end_time": "2023-10-09T11:50:53.101074",
     "exception": false,
     "start_time": "2023-10-09T11:50:53.086034",
     "status": "completed"
    },
    "tags": []
   },
   "outputs": [],
   "source": []
  }
 ],
 "metadata": {
  "kernelspec": {
   "display_name": "Python 3",
   "language": "python",
   "name": "python3"
  },
  "language_info": {
   "codemirror_mode": {
    "name": "ipython",
    "version": 3
   },
   "file_extension": ".py",
   "mimetype": "text/x-python",
   "name": "python",
   "nbconvert_exporter": "python",
   "pygments_lexer": "ipython3",
   "version": "3.10.12"
  },
  "papermill": {
   "default_parameters": {},
   "duration": 16.217297,
   "end_time": "2023-10-09T11:50:53.938558",
   "environment_variables": {},
   "exception": null,
   "input_path": "__notebook__.ipynb",
   "output_path": "__notebook__.ipynb",
   "parameters": {},
   "start_time": "2023-10-09T11:50:37.721261",
   "version": "2.4.0"
  }
 },
 "nbformat": 4,
 "nbformat_minor": 5
}
